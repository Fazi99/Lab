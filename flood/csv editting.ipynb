{
 "metadata": {
  "name": "",
  "signature": "sha256:ea0982b091d88126012d5c31d33d2d682b6fedfd723591bd7872a30fef838683"
 },
 "nbformat": 3,
 "nbformat_minor": 0,
 "worksheets": [
  {
   "cells": [
    {
     "cell_type": "code",
     "collapsed": false,
     "input": [
      "import pandas as pd\n",
      "import csv\n",
      "import datetime\n",
      "\n",
      "path=\"/home/faizan/USA_data/PALSAR/output/\n",
      "for i in range(80):\n",
      "    CSV=\"540backscatter%02d.csv\" % i\n",
      "    file_path= path+CSV\n",
      "\n",
      "    data = pd.read_csv(file_path, header=None) \n",
      "    #data.columns = [\"pol\", \"id\", \"bs\"]\n",
      "    newcol = []\n",
      "    for i in data.index:\n",
      "        if data[1][i] == \"ALPSRP265290540\":\n",
      "            newcol.append(datetime.datetime.strptime(\"2011/1/16\", \"%Y/%m/%d\"))\n",
      "        elif data[1][i] == \"ALPSRP245160540\":\n",
      "            newcol.append(datetime.datetime.strptime(\"2010/8/31\", \"%Y/%m/%d\"))\n",
      "        else:\n",
      "            newcol.append(datetime.datetime.strptime(\"2010/7/16\", \"%Y/%m/%d\"))\n",
      "        \n",
      "    data[3] = newcol\n",
      "    #data.index = [i for i in data[\"obs_date\"]]\n",
      "    data.to_csv(file_path)\n",
      "    \n",
      "    print file_path\n"
     ],
     "language": "python",
     "metadata": {},
     "outputs": []
    },
    {
     "cell_type": "code",
     "collapsed": false,
     "input": [
      "import pandas as pd\n",
      "import csv\n",
      "import datetime\n",
      "\n",
      "path=\"/home/faizan/USA_data/PALSAR/output/\n",
      "for i in range(62):\n",
      "    CSV=\"550backscatter%02d.csv\" % i\n",
      "    file_path= path+CSV\n",
      "\n",
      "    data = pd.read_csv(file_path, header=None) \n",
      "    #data.columns = [\"pol\", \"id\", \"bs\"]\n",
      "    newcol = []\n",
      "    for i in data.index:\n",
      "        if data[1][i] == \"ALPSRP265290550\":\n",
      "            newcol.append(datetime.datetime.strptime(\"2011/1/16\", \"%Y/%m/%d\"))\n",
      "        elif data[1][i] == \"ALPSRP245160550\":\n",
      "            newcol.append(datetime.datetime.strptime(\"2010/8/31\", \"%Y/%m/%d\"))\n",
      "        else:\n",
      "            newcol.append(datetime.datetime.strptime(\"2010/7/16\", \"%Y/%m/%d\"))\n",
      "        \n",
      "    data[3] = newcol\n",
      "    #data.index = [i for i in data[\"obs_date\"]]\n",
      "    data.to_csv(file_path)\n",
      "    \n",
      "    print file_path"
     ],
     "language": "python",
     "metadata": {},
     "outputs": []
    },
    {
     "cell_type": "code",
     "collapsed": false,
     "input": [
      "import pandas as pd\n",
      "import csv\n",
      "import datetime\n",
      "\n",
      "path=\"/home/faizan/USA_data/PALSAR/output/\n",
      "for i in range(83):\n",
      "    CSV=\"750backscatter%02d.csv\" % i\n",
      "    file_path= path+CSV\n",
      "\n",
      "    data = pd.read_csv(file_path, header=None) \n",
      "    newcol = []\n",
      "    for i in data.index:\n",
      "        if data[1][i] == \"ALPSRP127360750\":\n",
      "            newcol.append(datetime.datetime.strptime(\"2008/6/15\", \"%Y/%m/%d\"))\n",
      "        else:\n",
      "            newcol.append(datetime.datetime.strptime(\"2007/6/13\", \"%Y/%m/%d\"))\n",
      "        \n",
      "    data[3] = newcol\n",
      "    data.to_csv(file_path)\n",
      "    print file_path"
     ],
     "language": "python",
     "metadata": {},
     "outputs": []
    },
    {
     "cell_type": "code",
     "collapsed": false,
     "input": [],
     "language": "python",
     "metadata": {},
     "outputs": []
    },
    {
     "cell_type": "code",
     "collapsed": false,
     "input": [
      "import pandas as pd\n",
      "import csv\n",
      "import datetime\n",
      "\n",
      "path=\"/home/faizan/USA_data/PALSAR/output/\n",
      "for i in range(63):\n",
      "    CSV=\"780backscatter%02d.csv\" % i\n",
      "    file_path= path+CSV\n",
      "\n",
      "    data = pd.read_csv(file_path, header=None) \n",
      "    newcol = []\n",
      "    for i in data.index:\n",
      "        if data[1][i] == \"ALPSRP127360780\":\n",
      "            newcol.append(datetime.datetime.strptime(\"2008/6/15\", \"%Y/%m/%d\"))\n",
      "        else:\n",
      "            newcol.append(datetime.datetime.strptime(\"2007/6/13\", \"%Y/%m/%d\"))\n",
      "        \n",
      "    data[3] = newcol\n",
      "    data.to_csv(file_path)\n",
      "    print file_path"
     ],
     "language": "python",
     "metadata": {},
     "outputs": []
    },
    {
     "cell_type": "markdown",
     "metadata": {},
     "source": [
      "image making\n"
     ]
    },
    {
     "cell_type": "code",
     "collapsed": false,
     "input": [
      "import Image\n",
      "\n",
      "#opens an image:\n",
      "\n",
      "new_im = Image.new('RGB', (5600,8000))\n",
      "\n",
      "#Here I resize my opened image, so it is no bigger than 100,100\n",
      "#im.thumbnail((800,500))\n",
      "#Iterate through a 4 by 4 grid with 100 spacing, to place my image\n",
      "n = 0\n",
      "for i in xrange(0,5600,1400):\n",
      "    for j in xrange(0,8000,500):\n",
      "           \n",
      "        im = Image.open(\"/home/faizan/USA_data/graphs/Pak_all_far_pt_%02d.png\" % n)\n",
      "#creates a new empty image, RGB mode, and size 400 by 400.\n",
      "        #I change brightness of the images, just to emphasise they are unique copies.\n",
      "                #paste the image at location i,j:\n",
      "        new_im.paste(im, (i,j))\n",
      "        n += 1\n",
      "        if n==62:\n",
      "            break \n",
      "new_im.save(\"/home/faizan/USA_data/graphs/Pak_all_far.png\")"
     ],
     "language": "python",
     "metadata": {},
     "outputs": []
    }
   ],
   "metadata": {}
  }
 ]
}