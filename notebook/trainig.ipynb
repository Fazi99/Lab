{
 "cells": [
  {
   "cell_type": "code",
   "execution_count": 1,
   "metadata": {
    "collapsed": false
   },
   "outputs": [],
   "source": [
    "from osgeo import gdal\n",
    "import numpy\n",
    "from numpy.core.umath import add, subtract\n",
    "\n",
    "\n",
    "class MDimage(object):\n",
    "    def __init__(self, filepath):\n",
    "        self.filepath = filepath\n",
    "        self.ds = gdal.Open(filepath, gdal.GA_ReadOnly)\n",
    "        self.iminfo = dict()\n",
    "        self.iminfo['bandnum'] = self.ds.RasterCount\n",
    "        self.iminfo['cols'] = self.ds.RasterXSize\n",
    "        self.iminfo['rows'] = self.ds.RasterYSize\n",
    "        self.iminfo['originX'] = self.ds.GetGeoTransform()[0]\n",
    "        self.iminfo['originY'] = self.ds.GetGeoTransform()[3]\n",
    "        self.iminfo['pixelWidth'] = self.ds.GetGeoTransform()[1]\n",
    "        self.iminfo['pixelHeight'] = self.ds.GetGeoTransform()[5]\n",
    "\n",
    "class Index(MDimage):\n",
    "    def __init__(self, filepath):\n",
    "        self.filepath = filepath\n",
    "        super(Index, self).__init__(filepath)\n",
    "\n",
    "    def Band2Array(self,factor,fill):\n",
    "        cols = self.iminfo['cols']\n",
    "        rows = self.iminfo['rows']\n",
    "        band = self.ds.GetRasterBand(1)\n",
    "        self.fill=fill\n",
    "        array = band.ReadAsArray(0, 0, cols, rows)\n",
    "        #array [array <-100] =fill\n",
    "        #array = numpy.where(array ==fill, fill , array * 0.0001)\n",
    "        array= array.reshape(cols*rows)\n",
    "        return  array\n",
    "\n",
    "    def trtData(self,evi,lswi,dvel):\n",
    "        self.evi=evi\n",
    "        self.lswi=lswi\n",
    "        self.dvel=dvel\n",
    "        X=[]\n",
    "        for i in range(len(evi)):\n",
    "            F=[]\n",
    "            F.append(evi[i])\n",
    "            F.append(lswi[i])\n",
    "            F.append(dvel[i])\n",
    "            #F.append(subtract(evi[i],lswi[i]))\n",
    "            X.append(F)\n",
    "        return X\n",
    "\n",
    "    def trainResult(self,flood):\n",
    "        self.flood=flood\n",
    "        Y=[]\n",
    "        for i in range(len(flood)):\n",
    "            Y.append(flood[i])\n",
    "        return Y\n",
    "\n",
    "    def index2Array(self,fill):\n",
    "        cols = self.iminfo['cols']\n",
    "        rows = self.iminfo['rows']\n",
    "        band = self.ds.GetRasterBand(1)\n",
    "        self.fill=fill\n",
    "        array = band.ReadAsArray(0, 0, cols, rows)\n",
    "        array = array.reshape(cols * rows)\n",
    "        return  array\n",
    "\n",
    "    def csv2Array(self,fill):\n",
    "        cols = self.iminfo['cols']\n",
    "        rows = self.iminfo['rows']\n",
    "        path = \"/home/faizan/Desktop/full/result.csv\"\n",
    "        data = numpy.genfromtxt(path, dtype=float, delimiter=',')\n",
    "        array = data.reshape(cols * rows)\n",
    "        return  array\n",
    "\n",
    "\n",
    "    def WriteArrayAsImage(self, out_fname, outArray):\n",
    "        cols = self.iminfo['cols']\n",
    "        rows = self.iminfo['rows']\n",
    "        driver = self.ds.GetDriver()\n",
    "        self.outArray = outArray\n",
    "        outArray= outArray.reshape([rows,cols])\n",
    "        outDS = driver.Create(out_fname, cols, rows, 1, gdal.GDT_Float32)\n",
    "        outDS.SetGeoTransform(self.ds.GetGeoTransform())\n",
    "        outDS.SetProjection(self.ds.GetProjection())\n",
    "        outBand = outDS.GetRasterBand(1)\n",
    "        outBand.WriteArray(outArray)\n",
    "        outDS = None\n",
    "        del outDS, outBand"
   ]
  },
  {
   "cell_type": "code",
   "execution_count": 2,
   "metadata": {
    "collapsed": false
   },
   "outputs": [
    {
     "data": {
      "text/plain": [
       "\"\\n#del EVI_t, LSWI_t, DVEL_t, Flood_t, X, Y\\n#Test data\\n\\nlimage = Index(evi)\\ncols = limage.iminfo['cols']\\n# Get pixel row number\\nrows = limage.iminfo['rows']\\nEVI = (limage.index2Array(fill))\\n\\nlimage = Index(lswi)\\nLSWI = (limage.index2Array(fill))\\n\\nlimage = Index(dvel)\\nDVEL = (limage.index2Array(fill))\\n\\n# arranging test data\\ndata = (limage.trtData(EVI, LSWI, DVEL))\\n\\n#output result\\nflood = clf.predict(data)\\n#Get Flood as tiff\\nlimage.WriteArrayAsImage(Oflood, flood)\\ndel flood, EVI, LSWI, DVEL, data\\n\""
      ]
     },
     "execution_count": 2,
     "metadata": {},
     "output_type": "execute_result"
    }
   ],
   "source": [
    "\n",
    "import numpy as np\n",
    "from sklearn import svm\n",
    "from osgeo import gdal\n",
    "from sklearn.externals import joblib\n",
    "\n",
    "fill=-999\n",
    "path=\"/home/faizan/Desktop/full/\"\n",
    "\n",
    "#assigning names training data\n",
    "\n",
    "Tevi=path+\"evi_t.tif\"\n",
    "Tdvel=path+\"dvel_t.tif\"\n",
    "Tlswi=path+\"lswi_t.tif\"\n",
    "Tflood=path+\"flood_t.tif\"\n",
    "\n",
    "#assigning names test data\n",
    "evi=path+\"A2014257.evi.tif\"\n",
    "dvel=path+\"A2014257.dvel.tif\"\n",
    "lswi=path+\"A2014257.lswi.tif\"\n",
    "Oflood = path+\"A2014257.machineflood.tif\"\n",
    "\n",
    "#loading image training\n",
    "limage = Index(Tevi)\n",
    "cols = limage.iminfo['cols']\n",
    "# Get pixel row number\n",
    "rows = limage.iminfo['rows']\n",
    "bandnum= limage.iminfo['bandnum']\n",
    "EVI_t = (limage.index2Array(fill))\n",
    "\n",
    "limage = Index(Tlswi)\n",
    "LSWI_t = (limage.index2Array(fill))\n",
    "\n",
    "limage = Index(Tdvel)\n",
    "DVEL_t = (limage.index2Array(fill))\n",
    "\n",
    "limage = Index(Tflood)\n",
    "Flood_t = (limage.index2Array(fill))\n",
    "\n",
    "# arranging training data\n",
    "X = (limage.trtData(EVI_t, LSWI_t, DVEL_t))\n",
    "Y = (limage.trainResult(Flood_t))\n",
    "# SVM machine learning\n",
    "#clf = svm.SVC()\n",
    "#clf = clf.fit(X,Y)\n",
    "\n",
    "#save model\n",
    "\n",
    "#joblib.dump(clf, '/home/faizan/Desktop/full/trained.pkl')\n",
    "clf = joblib.load('/home/faizan/Desktop/full/model.pkl') \n",
    "\"\"\"\n",
    "#del EVI_t, LSWI_t, DVEL_t, Flood_t, X, Y\n",
    "#Test data\n",
    "\n",
    "limage = Index(evi)\n",
    "cols = limage.iminfo['cols']\n",
    "# Get pixel row number\n",
    "rows = limage.iminfo['rows']\n",
    "EVI = (limage.index2Array(fill))\n",
    "\n",
    "limage = Index(lswi)\n",
    "LSWI = (limage.index2Array(fill))\n",
    "\n",
    "limage = Index(dvel)\n",
    "DVEL = (limage.index2Array(fill))\n",
    "\n",
    "# arranging test data\n",
    "data = (limage.trtData(EVI, LSWI, DVEL))\n",
    "\n",
    "#output result\n",
    "flood = clf.predict(data)\n",
    "#Get Flood as tiff\n",
    "limage.WriteArrayAsImage(Oflood, flood)\n",
    "del flood, EVI, LSWI, DVEL, data\n",
    "\"\"\""
   ]
  },
  {
   "cell_type": "code",
   "execution_count": 3,
   "metadata": {
    "collapsed": false
   },
   "outputs": [
    {
     "data": {
      "text/plain": [
       "0.98328225729624119"
      ]
     },
     "execution_count": 3,
     "metadata": {},
     "output_type": "execute_result"
    }
   ],
   "source": [
    "from sklearn.cross_validation import cross_val_score\n",
    "score = cross_val_score(clf, X, Y)\n",
    "score.mean()"
   ]
  },
  {
   "cell_type": "code",
   "execution_count": null,
   "metadata": {
    "collapsed": true
   },
   "outputs": [],
   "source": []
  },
  {
   "cell_type": "code",
   "execution_count": 4,
   "metadata": {
    "collapsed": true
   },
   "outputs": [],
   "source": [
    "limage = Index(Oflood)\n",
    "Flood_o = (limage.index2Array(fill))"
   ]
  },
  {
   "cell_type": "code",
   "execution_count": 5,
   "metadata": {
    "collapsed": true
   },
   "outputs": [],
   "source": [
    "def cMatrix(actual, test):\n",
    "    F_F=0\n",
    "    F_N=0\n",
    "    F_fi=0\n",
    "    N_F =0\n",
    "    N_N =0\n",
    "    N_fi=0\n",
    "    Fi_F=0\n",
    "    Fi_N=0\n",
    "    Fi_fi=0\n",
    "\n",
    "    for i in range(len(actual)):\n",
    "        if actual[i]==test[i]:\n",
    "            if actual[i]==0:\n",
    "                N_N += 1\n",
    "            elif actual[i]==1:\n",
    "                F_F += 1\n",
    "            else:\n",
    "                Fi_fi += 1\n",
    "        else:\n",
    "            if actual[i]==0:\n",
    "                if test[i]==1:\n",
    "                    N_F += 1\n",
    "                else:\n",
    "                    N_fi+= 1\n",
    "            elif actual[i]==1:\n",
    "                if test[i]==0:\n",
    "                    F_N +=1\n",
    "                else:\n",
    "                    F_fi +=1 \n",
    "            else:\n",
    "                if test[i]==1:\n",
    "                    Fi_F +=1\n",
    "                else:\n",
    "                    Fi_N +=1\n",
    "\n",
    "    LIST= [F_F,F_N,F_fi,N_F,N_N,\n",
    "           N_fi,Fi_F,Fi_N,Fi_fi]\n",
    "\n",
    "    C_matrix = numpy.array(LIST).reshape(3,3)\n",
    "    return C_matrix"
   ]
  },
  {
   "cell_type": "code",
   "execution_count": 6,
   "metadata": {
    "collapsed": false
   },
   "outputs": [
    {
     "data": {
      "text/plain": [
       "array([[  1739,  87121,  42643],\n",
       "       [  4451, 192430,  94500],\n",
       "       [  4582, 205619, 100327]])"
      ]
     },
     "execution_count": 6,
     "metadata": {},
     "output_type": "execute_result"
    }
   ],
   "source": [
    "cMat= cMatrix(Flood_t, Flood_o)\n",
    "cMat"
   ]
  },
  {
   "cell_type": "code",
   "execution_count": null,
   "metadata": {
    "collapsed": true
   },
   "outputs": [],
   "source": []
  }
 ],
 "metadata": {
  "kernelspec": {
   "display_name": "Python 2",
   "language": "python",
   "name": "python2"
  },
  "language_info": {
   "codemirror_mode": {
    "name": "ipython",
    "version": 2
   },
   "file_extension": ".py",
   "mimetype": "text/x-python",
   "name": "python",
   "nbconvert_exporter": "python",
   "pygments_lexer": "ipython2",
   "version": "2.7.6"
  }
 },
 "nbformat": 4,
 "nbformat_minor": 0
}
