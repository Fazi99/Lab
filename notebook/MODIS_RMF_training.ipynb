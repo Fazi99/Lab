{
 "cells": [
  {
   "cell_type": "code",
   "execution_count": 1,
   "metadata": {
    "collapsed": false
   },
   "outputs": [],
   "source": [
    "from osgeo import gdal\n",
    "from sklearn.ensemble import RandomForestClassifier\n",
    "import numpy\n",
    "import time\n",
    "from osgeo import gdal\n",
    "from sklearn.externals import joblib\n",
    "from numpy.core.umath import add, subtract\n",
    "\n",
    "\n",
    "class MDimage(object):\n",
    "    def __init__(self, filepath):\n",
    "        self.filepath = filepath\n",
    "        self.ds = gdal.Open(filepath, gdal.GA_ReadOnly)\n",
    "        self.iminfo = dict()\n",
    "        self.iminfo['bandnum'] = self.ds.RasterCount\n",
    "        self.iminfo['cols'] = self.ds.RasterXSize\n",
    "        self.iminfo['rows'] = self.ds.RasterYSize\n",
    "        self.iminfo['originX'] = self.ds.GetGeoTransform()[0]\n",
    "        self.iminfo['originY'] = self.ds.GetGeoTransform()[3]\n",
    "        self.iminfo['pixelWidth'] = self.ds.GetGeoTransform()[1]\n",
    "        self.iminfo['pixelHeight'] = self.ds.GetGeoTransform()[5]\n",
    "\n",
    "class Index(MDimage):\n",
    "    def __init__(self, filepath):\n",
    "        self.filepath = filepath\n",
    "        super(Index, self).__init__(filepath)\n",
    "\n",
    "    def Band2Array(self):\n",
    "        cols = self.iminfo['cols']\n",
    "        rows = self.iminfo['rows']\n",
    "        band = self.ds.GetRasterBand(1)\n",
    "        array = band.ReadAsArray(0, 0, cols, rows)\n",
    "        #array [array <-100] =fill\n",
    "        #array = numpy.where(array ==fill, fill , array * 0.0001)\n",
    "        array= array.reshape(cols*rows)\n",
    "        return  array\n",
    "\n",
    "    def trtData(self,evi,lswi):\n",
    "        X=[]\n",
    "        for i in range(len(evi)):\n",
    "            F=[]\n",
    "            F.append(evi[i])\n",
    "            F.append(lswi[i])\n",
    "            #F.append(dvel[i])\n",
    "            F.append(subtract(evi[i],lswi[i]))\n",
    "            X.append(F)\n",
    "        return X\n",
    "\n",
    "    def trainResult(self, flood):\n",
    "        y = []\n",
    "        for i in range(len(flood)):\n",
    "            y.append(flood[i])\n",
    "        return y\n",
    "\n",
    "    def index2Array(self,fill):\n",
    "        cols = self.iminfo['cols']\n",
    "        rows = self.iminfo['rows']\n",
    "        band = self.ds.GetRasterBand(1)\n",
    "        array = band.ReadAsArray(0, 0, cols, rows)\n",
    "        array = array.reshape(cols * rows)\n",
    "        return array\n",
    "\n",
    "    def WriteArrayAsImage(self, out_fname, outArray):\n",
    "        cols = self.iminfo['cols']\n",
    "        rows = self.iminfo['rows']\n",
    "        driver = self.ds.GetDriver()\n",
    "        outArray= outArray.reshape([rows,cols])\n",
    "        outDS = driver.Create(out_fname, cols, rows, 1, gdal.GDT_Int16)\n",
    "        outDS.SetGeoTransform(self.ds.GetGeoTransform())\n",
    "        outDS.SetProjection(self.ds.GetProjection())\n",
    "        outBand = outDS.GetRasterBand(1)\n",
    "        outBand.WriteArray(outArray)\n",
    "        outDS = None\n",
    "        del outDS, outBand\n",
    "\n",
    "    def cMatrix(self, actual, test):\n",
    "        F_F=0\n",
    "        F_N=0\n",
    "        F_fi=0\n",
    "        N_F =0\n",
    "        N_N =0\n",
    "        N_fi=0\n",
    "        Fi_F=0\n",
    "        Fi_N=0\n",
    "        Fi_fi=0\n",
    "\n",
    "        for i in range(len(actual)):\n",
    "            if actual[i]==test[i]:\n",
    "                if actual[i]==0:\n",
    "                    N_N += 1\n",
    "                elif actual[i]==1:\n",
    "                    F_F += 1\n",
    "                else:\n",
    "                    Fi_fi += 1\n",
    "            else:\n",
    "                if actual[i]==0:\n",
    "                    if test[i]==1:\n",
    "                        N_F += 1\n",
    "                    else:\n",
    "                        N_fi+= 1\n",
    "                elif actual[i]==1:\n",
    "                    if test[i]==0:\n",
    "                        F_N +=1\n",
    "                    else:\n",
    "                        F_fi +=1\n",
    "                else:\n",
    "                    if test[i]==1:\n",
    "                        Fi_F +=1\n",
    "                    else:\n",
    "                        Fi_N +=1\n",
    "\n",
    "        LIST= [F_F,F_N,F_fi,N_F,N_N,\n",
    "               N_fi,Fi_F,Fi_N,Fi_fi]\n",
    "\n",
    "        C_matrix = numpy.array(LIST).reshape(3,3)\n",
    "        return C_matrix\n",
    "\n",
    "fill=-999\n",
    "path=\"/home/faizan/Desktop/full/\"\n",
    "\n",
    "\n",
    "#assigning names training data\n",
    "\n",
    "Tevi=path+\"evi_training1.tif\"\n",
    "#Tdvel=path+\"dvel_training1.tif\"\n",
    "Tlswi=path+\"lswi_training1.tif\"\n",
    "Tflood=path+\"flood_training1.tif\"\n",
    "\n",
    "#loading image training\n",
    "limage = Index(Tevi)\n",
    "cols = limage.iminfo['cols']\n",
    "# Get pixel row number\n",
    "rows = limage.iminfo['rows']\n",
    "bandnum= limage.iminfo['bandnum']\n",
    "EVI_t = (limage.index2Array(fill))\n",
    "\n",
    "limage = Index(Tlswi)\n",
    "LSWI_t = (limage.index2Array(fill))\n",
    "\n",
    "#limage = Index(Tdvel)\n",
    "#DVEL_t = (limage.index2Array(fill))\n",
    "\n",
    "limage = Index(Tflood)\n",
    "Flood_t = (limage.index2Array(fill))\n",
    "\n",
    "\n",
    "\n"
   ]
  },
  {
   "cell_type": "code",
   "execution_count": 2,
   "metadata": {
    "collapsed": false
   },
   "outputs": [
    {
     "data": {
      "text/plain": [
       "95665"
      ]
     },
     "execution_count": 2,
     "metadata": {},
     "output_type": "execute_result"
    }
   ],
   "source": [
    "len(EVI_t)"
   ]
  },
  {
   "cell_type": "code",
   "execution_count": 3,
   "metadata": {
    "collapsed": true
   },
   "outputs": [],
   "source": [
    "Tevi=path+\"evi_training2.tif\"\n",
    "#Tdvel=path+\"dvel_training1.tif\"\n",
    "Tlswi=path+\"lswi_training2.tif\"\n",
    "Tflood=path+\"flood_training2.tif\"\n",
    "\n",
    "#loading image training\n",
    "limage = Index(Tevi)\n",
    "cols = limage.iminfo['cols']\n",
    "# Get pixel row number\n",
    "rows = limage.iminfo['rows']\n",
    "bandnum= limage.iminfo['bandnum']\n",
    "EVI_t1 = (limage.index2Array(fill))\n",
    "\n",
    "limage = Index(Tlswi)\n",
    "LSWI_t1 = (limage.index2Array(fill))\n",
    "\n",
    "#limage = Index(Tdvel)\n",
    "#DVEL_t = (limage.index2Array(fill))\n",
    "\n",
    "limage = Index(Tflood)\n",
    "Flood_t1 = (limage.index2Array(fill))"
   ]
  },
  {
   "cell_type": "code",
   "execution_count": 4,
   "metadata": {
    "collapsed": false
   },
   "outputs": [],
   "source": [
    "evi= numpy.concatenate([EVI_t,EVI_t1])\n",
    "lswi= numpy.concatenate([LSWI_t,LSWI_t1])\n",
    "flood= numpy.concatenate([Flood_t,Flood_t1])"
   ]
  },
  {
   "cell_type": "code",
   "execution_count": null,
   "metadata": {
    "collapsed": true
   },
   "outputs": [],
   "source": []
  },
  {
   "cell_type": "code",
   "execution_count": null,
   "metadata": {
    "collapsed": true
   },
   "outputs": [],
   "source": []
  },
  {
   "cell_type": "code",
   "execution_count": 5,
   "metadata": {
    "collapsed": false
   },
   "outputs": [],
   "source": [
    "# arranging training data\n",
    "X = (limage.trtData(evi, lswi))\n",
    "Y = (limage.trainResult(flood))\n",
    "# Random Forest machine learning\n",
    "clf = RandomForestClassifier(n_estimators =100)\n",
    "clf= clf.fit(X,Y)\n",
    "\n",
    "#save model\n",
    "\n",
    "joblib.dump(clf, '/home/faizan/Desktop/model/modis_RMF_trained.pkl')\n",
    "del Flood_t1, Flood_t, EVI_t, EVI_t1, LSWI_t, LSWI_t1"
   ]
  },
  {
   "cell_type": "code",
   "execution_count": null,
   "metadata": {
    "collapsed": false
   },
   "outputs": [],
   "source": []
  },
  {
   "cell_type": "code",
   "execution_count": 6,
   "metadata": {
    "collapsed": false
   },
   "outputs": [
    {
     "data": {
      "text/plain": [
       "0.99918359314140781"
      ]
     },
     "execution_count": 6,
     "metadata": {},
     "output_type": "execute_result"
    }
   ],
   "source": [
    "from sklearn.cross_validation import cross_val_score\n",
    "score = cross_val_score(clf, X, Y)\n",
    "score.mean()"
   ]
  },
  {
   "cell_type": "code",
   "execution_count": 7,
   "metadata": {
    "collapsed": true
   },
   "outputs": [],
   "source": [
    "flood_res=clf.predict(X)"
   ]
  },
  {
   "cell_type": "code",
   "execution_count": 8,
   "metadata": {
    "collapsed": false
   },
   "outputs": [
    {
     "data": {
      "text/plain": [
       "array([[ 87202,      0,      0],\n",
       "       [     0, 181611,      0],\n",
       "       [     0,      0,  36180]])"
      ]
     },
     "execution_count": 8,
     "metadata": {},
     "output_type": "execute_result"
    }
   ],
   "source": [
    "cMat= limage.cMatrix(flood, flood_res)\n",
    "cMat"
   ]
  },
  {
   "cell_type": "code",
   "execution_count": 9,
   "metadata": {
    "collapsed": false
   },
   "outputs": [
    {
     "data": {
      "text/plain": [
       "array([[ 1.,  0.,  0.],\n",
       "       [ 1.,  0.,  0.],\n",
       "       [ 1.,  0.,  0.],\n",
       "       ..., \n",
       "       [ 0.,  0.,  1.],\n",
       "       [ 0.,  0.,  1.],\n",
       "       [ 0.,  0.,  1.]])"
      ]
     },
     "execution_count": 9,
     "metadata": {},
     "output_type": "execute_result"
    }
   ],
   "source": [
    "clf.predict_proba(X)"
   ]
  },
  {
   "cell_type": "code",
   "execution_count": 10,
   "metadata": {
    "collapsed": false
   },
   "outputs": [
    {
     "data": {
      "text/plain": [
       "array([ 1.], dtype=float32)"
      ]
     },
     "execution_count": 10,
     "metadata": {},
     "output_type": "execute_result"
    }
   ],
   "source": [
    "clf.predict([0.05,0.2,-0.15])"
   ]
  },
  {
   "cell_type": "code",
   "execution_count": null,
   "metadata": {
    "collapsed": false
   },
   "outputs": [],
   "source": [
    "clf = joblib.load('/home/faizan/Desktop/model/modis_RMF_trained.pkl')\n",
    "fill=-999\n",
    "\n",
    "path=\"/home/faizan/USA_data/8days/pakistan8days/\"\n",
    "np_dir=\"/home/faizan/Desktop/numpy_dir1/\"\n",
    "with open('/home/faizan/USA_data/8days/pakistan8days/list9.txt',\"r\") as f:\n",
    "    #g=len(f.readlines())     #print sum(1 for _ in f)\n",
    "    for line in f:\n",
    "        l= line.split(\".\")\n",
    "        #assigning names tes\n",
    "        evi=path+str(l[0])+\".evi.tif\"\n",
    "        #dvel=path+str(l[0])+\".US.dvel.tif\"\n",
    "        lswi=path+str(l[0])+\".lswi.tif\"\n",
    "        Oflood = path+str(l[0])+\".RMF.flood.tif\"\n",
    "        #save model\n",
    "\n",
    "        #joblib.dump(clf, '/home/faizan/Desktop/full/trained.pkl')\n",
    "\n",
    "        #Test data\n",
    "        limage = Index(evi)\n",
    "\n",
    "        cols = limage.iminfo['cols']\n",
    "        # Get pixel row number\n",
    "        rows = limage.iminfo['rows']\n",
    "        bandnum= limage.iminfo['bandnum']\n",
    "        EVI = (limage.index2Array(fill))\n",
    "\n",
    "        limage = Index(lswi)\n",
    "        LSWI = (limage.index2Array(fill))\n",
    "\n",
    "        #limage = Index(dvel)\n",
    "        #DVEL = (limage.index2Array(fill))\n",
    "\n",
    "        #Data = (limage.trtData(EVI, LSWI, DVEL))\n",
    "        Data = numpy.vstack([EVI, LSWI])\n",
    "        del EVI, LSWI\n",
    "\n",
    "        def argwrapper(args):\n",
    "            '''\n",
    "            ラッパー関数\n",
    "            '''\n",
    "            return args[0](*args[1:])\n",
    "\n",
    "        def myfunc(x):\n",
    "            '''\n",
    "            並列に計算したい関数\n",
    "            '''\n",
    "            return clf.predict([Data[0][x], Data[1][x], subtract(Data[0][x], Data[1][x])])\n",
    "\n",
    "        start_time = time.time()\n",
    "        if __name__ == '__main__':\n",
    "            from multiprocessing import Pool\n",
    "            p = Pool(6)\n",
    "            for a in xrange(0, 10):\n",
    "                func_args = []\n",
    "                for i in xrange((len(Data[0])*a)/10, (len(Data[0])*(a+1))/10):\n",
    "                    func_args.append((myfunc, i))\n",
    "                results = numpy.array(p.map(argwrapper, func_args), dtype=numpy.int16)\n",
    "                del func_args\n",
    "                numpy.save(np_dir + \"svm_result%02d\" % a, results)\n",
    "                del results\n",
    "                print(\"--- %s seconds ---\" % (time.time() - start_time))\n",
    "            del Data\n",
    "            # Load all array and merge\n",
    "            # load first array\n",
    "            ARRAY = numpy.load(np_dir + \"svm_result00.npy\")\n",
    "\n",
    "            for a in range(1, 10):\n",
    "                dummy = numpy.load(np_dir + \"svm_result%02d.npy\" % (a))\n",
    "                ARRAY = numpy.vstack([ARRAY, dummy])\n",
    "            limage.WriteArrayAsImage(Oflood, ARRAY)\n",
    "            del ARRAY, dummy\n",
    "f.close()"
   ]
  },
  {
   "cell_type": "code",
   "execution_count": null,
   "metadata": {
    "collapsed": true
   },
   "outputs": [],
   "source": []
  }
 ],
 "metadata": {
  "kernelspec": {
   "display_name": "Python 2",
   "language": "python",
   "name": "python2"
  },
  "language_info": {
   "codemirror_mode": {
    "name": "ipython",
    "version": 2
   },
   "file_extension": ".py",
   "mimetype": "text/x-python",
   "name": "python",
   "nbconvert_exporter": "python",
   "pygments_lexer": "ipython2",
   "version": "2.7.6"
  }
 },
 "nbformat": 4,
 "nbformat_minor": 0
}
