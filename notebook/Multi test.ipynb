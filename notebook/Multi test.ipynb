{
 "metadata": {
  "name": "",
  "signature": "sha256:5db52ebe49a11d57dac3f32b27fce261e2125c9d7ba938a83c5d836a9f587735"
 },
 "nbformat": 3,
 "nbformat_minor": 0,
 "worksheets": [
  {
   "cells": [
    {
     "cell_type": "code",
     "collapsed": false,
     "input": [
      "from osgeo import gdal\n",
      "import numpy\n",
      "from numpy.core.umath import add, subtract\n",
      "\n",
      "\n",
      "class MDimage(object):\n",
      "    def __init__(self, filepath):\n",
      "        self.filepath = filepath\n",
      "        self.ds = gdal.Open(filepath, gdal.GA_ReadOnly)\n",
      "        self.iminfo = dict()\n",
      "        self.iminfo['bandnum'] = self.ds.RasterCount\n",
      "        self.iminfo['cols'] = self.ds.RasterXSize\n",
      "        self.iminfo['rows'] = self.ds.RasterYSize\n",
      "        self.iminfo['originX'] = self.ds.GetGeoTransform()[0]\n",
      "        self.iminfo['originY'] = self.ds.GetGeoTransform()[3]\n",
      "        self.iminfo['pixelWidth'] = self.ds.GetGeoTransform()[1]\n",
      "        self.iminfo['pixelHeight'] = self.ds.GetGeoTransform()[5]\n",
      "\n",
      "class Index(MDimage):\n",
      "    def __init__(self, filepath):\n",
      "        self.filepath = filepath\n",
      "        super(Index, self).__init__(filepath)\n",
      "\n",
      "    def Band2Array(self,factor,fill):\n",
      "        cols = self.iminfo['cols']\n",
      "        rows = self.iminfo['rows']\n",
      "        band = self.ds.GetRasterBand(1)\n",
      "        self.fill=fill\n",
      "        array = band.ReadAsArray(0, 0, cols, rows)\n",
      "        #array [array <-100] =fill\n",
      "        #array = numpy.where(array ==fill, fill , array * 0.0001)\n",
      "        array= array.reshape(cols*rows)\n",
      "        return  array\n",
      "\n",
      "    def trtData(self,evi,lswi,dvel):\n",
      "        self.evi=evi\n",
      "        self.lswi=lswi\n",
      "        self.dvel=dvel\n",
      "        X=[]\n",
      "        for i in range(len(evi)):\n",
      "            F=[]\n",
      "            F.append(evi[i])\n",
      "            F.append(lswi[i])\n",
      "            F.append(dvel[i])\n",
      "            #F.append(subtract(evi[i],lswi[i]))\n",
      "            X.append(F)\n",
      "        return X\n",
      "\n",
      "    def trainResult(self,flood):\n",
      "        self.flood=flood\n",
      "        Y=[]\n",
      "        for i in range(len(flood)):\n",
      "            Y.append(flood[i])\n",
      "        return Y\n",
      "\n",
      "    def index2Array(self,fill):\n",
      "        cols = self.iminfo['cols']\n",
      "        rows = self.iminfo['rows']\n",
      "        band = self.ds.GetRasterBand(1)\n",
      "        self.fill=fill\n",
      "        array = band.ReadAsArray(0, 0, cols, rows)\n",
      "        array = array.reshape(cols * rows)\n",
      "        return  array\n",
      "\n",
      "    def WriteArrayAsImage(self, out_fname, outArray):\n",
      "        cols = self.iminfo['cols']\n",
      "        rows = self.iminfo['rows']\n",
      "        driver = self.ds.GetDriver()\n",
      "        self.outArray = outArray\n",
      "        outArray= outArray.reshape([rows,cols])\n",
      "        outDS = driver.Create(out_fname, cols, rows, 1, gdal.GDT_Float32)\n",
      "        outDS.SetGeoTransform(self.ds.GetGeoTransform())\n",
      "        outDS.SetProjection(self.ds.GetProjection())\n",
      "        outBand = outDS.GetRasterBand(1)\n",
      "        outBand.WriteArray(outArray)\n",
      "        outDS = None\n",
      "        del outDS, outBand\n",
      "\n",
      "    def cMatrix(self, actual, test):\n",
      "        self.actual=actual\n",
      "        self.test=test\n",
      "        F_F=0\n",
      "        F_N=0\n",
      "        F_fi=0\n",
      "        N_F =0\n",
      "        N_N =0\n",
      "        N_fi=0\n",
      "        Fi_F=0\n",
      "        Fi_N=0\n",
      "        Fi_fi=0\n",
      "    \n",
      "        for i in range(len(actual)):\n",
      "            if actual[i]==test[i]:\n",
      "                if actual[i]==0:\n",
      "                    N_N += 1\n",
      "                elif actual[i]==1:\n",
      "                    F_F += 1\n",
      "                else:\n",
      "                    Fi_fi += 1\n",
      "            else:\n",
      "                if actual[i]==0:\n",
      "                    if test[i]==1:\n",
      "                        N_F += 1\n",
      "                    else:\n",
      "                        N_fi+= 1\n",
      "                elif actual[i]==1:\n",
      "                    if test[i]==0:\n",
      "                        F_N +=1\n",
      "                    else:\n",
      "                        F_fi +=1 \n",
      "                else:\n",
      "                    if test[i]==1:\n",
      "                        Fi_F +=1\n",
      "                    else:\n",
      "                        Fi_N +=1\n",
      "        \n",
      "        LIST= [F_F,F_N,F_fi,N_F,N_N,\n",
      "               N_fi,Fi_F,Fi_N,Fi_fi]\n",
      "        \n",
      "        C_matrix = numpy.array(LIST).reshape(3,3)\n",
      "        return C_matrix\n",
      "    \n",
      "    def testData(self, evi, lswi, dvel):\n",
      "        self.evi = evi\n",
      "        self.lswi = lswi\n",
      "        self.dvel = dvel\n",
      "        limage = self.Index(evi)\n",
      "        cols = self.iminfo['cols']\n",
      "        # Get pixel row number\n",
      "        rows = self.iminfo['rows']\n",
      "        bandnum= self.iminfo['bandnum']\n",
      "        EVI = (limage.index2Array(fill))\n",
      "        limage = Index(lswi)\n",
      "        LSWI = (limage.index2Array(fill))\n",
      "        limage = Index(dvel)\n",
      "        DVEL = (limage.index2Array(fill))\n",
      "        data = (limage.trtData(EVI, LSWI, DVEL))\n"
     ],
     "language": "python",
     "metadata": {},
     "outputs": [],
     "prompt_number": 11
    },
    {
     "cell_type": "code",
     "collapsed": false,
     "input": [
      "i = 5\n",
      "i"
     ],
     "language": "python",
     "metadata": {},
     "outputs": [
      {
       "metadata": {},
       "output_type": "pyout",
       "prompt_number": 23,
       "text": [
        "5"
       ]
      }
     ],
     "prompt_number": 23
    },
    {
     "cell_type": "code",
     "collapsed": false,
     "input": [
      "\n",
      "import numpy as np\n",
      "from sklearn import svm\n",
      "from osgeo import gdal\n",
      "from sklearn.externals import joblib\n",
      "#from multiprocessing import Pool\n",
      "\n",
      "fill=-999\n",
      "path=\"/home/faizan/USA_data/h11v05/\"\n",
      "\n",
      "#assigning names test data\n",
      "evi=path+\"A2008169.US.evi.tif\"\n",
      "dvel=path+\"A2008169.US.dvel.tif\"\n",
      "lswi=path+\"A2008169.US.lswi.tif\"\n",
      "Oflood = path+\"A2008169.US.machineflood.tif\"\n",
      "#save model\n",
      "\n",
      "#joblib.dump(clf, '/home/faizan/Desktop/full/trained.pkl')\n",
      "clf = joblib.load('/home/faizan/Desktop/full/trained.pkl') \n",
      "\n",
      "#del EVI_t, LSWI_t, DVEL_t, Flood_t, X, Y\n",
      "#Test data\n",
      "limage = Index(evi)\n",
      "\n",
      "cols = limage.iminfo['cols']\n",
      "# Get pixel row number\n",
      "rows = limage.iminfo['rows']\n",
      "bandnum= limage.iminfo['bandnum']\n",
      "EVI = (limage.index2Array(fill))\n",
      "\n",
      "limage = Index(lswi)\n",
      "LSWI = (limage.index2Array(fill))\n",
      "\n",
      "limage = Index(dvel)\n",
      "DVEL = (limage.index2Array(fill))\n",
      "\n",
      "Data = (limage.trtData(EVI, LSWI, DVEL))\n",
      "#flood=limage.process(data)\n",
      "#pool = Pool(processess = 5)\n",
      "#flood_array = pool.map(work, (data/5, data/5, data/5, data/5, data/5)\n",
      "#Get Flood as tiff\n",
      "#flood = clf.predict(data)\n",
      "#limage.WriteArrayAsImage(Oflood, flood)\n",
      "#del flood, EVI, LSWI, DVEL, data\n"
     ],
     "language": "python",
     "metadata": {},
     "outputs": [],
     "prompt_number": 12
    },
    {
     "cell_type": "code",
     "collapsed": false,
     "input": [
      "func_args=[]\n",
      "for j in xrange (0, 5):\n",
      "    for i in xrange(len(data)*j/5, len(data)*(j+1)/5):\n",
      "        #func_args.append(i)\n",
      "        k = data\n",
      "        func_args.append((myfunc, data[i]))"
     ],
     "language": "python",
     "metadata": {},
     "outputs": [],
     "prompt_number": 127
    },
    {
     "cell_type": "code",
     "collapsed": false,
     "input": [
      "len(func_args)"
     ],
     "language": "python",
     "metadata": {},
     "outputs": [
      {
       "metadata": {},
       "output_type": "pyout",
       "prompt_number": 128,
       "text": [
        "8844000"
       ]
      }
     ],
     "prompt_number": 128
    },
    {
     "cell_type": "code",
     "collapsed": false,
     "input": [
      "def argwrapper(args):\n",
      "    return args[0](*args[1:])"
     ],
     "language": "python",
     "metadata": {},
     "outputs": [],
     "prompt_number": 7
    },
    {
     "cell_type": "code",
     "collapsed": false,
     "input": [
      "func_args[31333]"
     ],
     "language": "python",
     "metadata": {},
     "outputs": [
      {
       "metadata": {},
       "output_type": "pyout",
       "prompt_number": 64,
       "text": [
        "(<function __main__.myfunc>, [0.24906032, -0.23881802, 0.48787832])"
       ]
      }
     ],
     "prompt_number": 64
    },
    {
     "cell_type": "code",
     "collapsed": false,
     "input": [
      "argwrapper(func_args[31333])"
     ],
     "language": "python",
     "metadata": {},
     "outputs": [
      {
       "ename": "TypeError",
       "evalue": "'tuple' object is not callable",
       "output_type": "pyerr",
       "traceback": [
        "\u001b[1;31m---------------------------------------------------------------------------\u001b[0m\n\u001b[1;31mTypeError\u001b[0m                                 Traceback (most recent call last)",
        "\u001b[1;32m<ipython-input-9-3dc5bb9c496e>\u001b[0m in \u001b[0;36m<module>\u001b[1;34m()\u001b[0m\n\u001b[1;32m----> 1\u001b[1;33m \u001b[0margwrapper\u001b[0m\u001b[1;33m(\u001b[0m\u001b[0mfunc_args\u001b[0m\u001b[1;33m)\u001b[0m\u001b[1;33m\u001b[0m\u001b[0m\n\u001b[0m",
        "\u001b[1;32m<ipython-input-7-fc40d2979406>\u001b[0m in \u001b[0;36margwrapper\u001b[1;34m(args)\u001b[0m\n\u001b[0;32m      1\u001b[0m \u001b[1;32mdef\u001b[0m \u001b[0margwrapper\u001b[0m\u001b[1;33m(\u001b[0m\u001b[0margs\u001b[0m\u001b[1;33m)\u001b[0m\u001b[1;33m:\u001b[0m\u001b[1;33m\u001b[0m\u001b[0m\n\u001b[1;32m----> 2\u001b[1;33m     \u001b[1;32mreturn\u001b[0m \u001b[0margs\u001b[0m\u001b[1;33m[\u001b[0m\u001b[1;36m0\u001b[0m\u001b[1;33m]\u001b[0m\u001b[1;33m(\u001b[0m\u001b[1;33m*\u001b[0m\u001b[0margs\u001b[0m\u001b[1;33m[\u001b[0m\u001b[1;36m1\u001b[0m\u001b[1;33m:\u001b[0m\u001b[1;33m]\u001b[0m\u001b[1;33m)\u001b[0m\u001b[1;33m\u001b[0m\u001b[0m\n\u001b[0m",
        "\u001b[1;31mTypeError\u001b[0m: 'tuple' object is not callable"
       ]
      }
     ],
     "prompt_number": 9
    },
    {
     "cell_type": "code",
     "collapsed": false,
     "input": [
      "\n",
      "\n",
      "func_args[0][1]"
     ],
     "language": "python",
     "metadata": {},
     "outputs": [
      {
       "metadata": {},
       "output_type": "pyout",
       "prompt_number": 7,
       "text": [
        "[0.33864191, -0.025144581, 0.36378649]"
       ]
      }
     ],
     "prompt_number": 7
    },
    {
     "cell_type": "code",
     "collapsed": false,
     "input": [
      "\"\"\"\n",
      "def argwrapper(args):\n",
      "    return args[1](*args[1:])\n",
      "    \n",
      "\n",
      "def myfunc(X):\n",
      "    flood = clf.predict(X)\n",
      "    return flood\n",
      "\n",
      "def process(data):\n",
      "    from multiprocessing import Pool \n",
      "    p = Pool(6)\n",
      "    func_args=[]\n",
      "    for j in xrange (0,6):\n",
      "        for i in xrange(len(data)*j/6, len(data)*(j+1)/6):\n",
      "            X = data[i]\n",
      "            func_args.append((myfunc, X))\n",
      "    results = p.map(argwrapper, func_args) \n",
      "    #del func_args\n",
      "    return results\n",
      "if __name__ == '__main__':\n",
      "    from multiprocessing import Pool \n",
      "    p = Pool(6)\n",
      "    func_args=[]\n",
      "    for j in xrange (0,6):\n",
      "        for i in xrange(len(Data)*j/6, len(Data)*(j+1)/6):\n",
      "            X = Data[i]\n",
      "            func_args.append((myfunc, X))\n",
      "        results = p.map(argwrapper, func_args) \n",
      "    #del func_args\n",
      "    #return results\n",
      "\n",
      "    #flood=process(Data)\n",
      "    #limage.WriteArrayAsImage(Oflood, flood)\n",
      "\"\"\"\n",
      "def argwrapper(args):\n",
      "    '''\n",
      "    \u30e9\u30c3\u30d1\u30fc\u95a2\u6570\n",
      "    '''\n",
      "    return args[0](*args[1:])\n",
      "\n",
      "def myfunc(x):\n",
      "    '''\n",
      "    \u4e26\u5217\u306b\u8a08\u7b97\u3057\u305f\u3044\u95a2\u6570\n",
      "    ''' \n",
      "    return clf.predict(x)\n",
      "\n",
      "if __name__ == '__main__':\n",
      "    from multiprocessing import Pool\n",
      "    p = Pool(6)\n",
      "    func_args = []\n",
      "    for a in xrange(0,6):\n",
      "        for i in xrange((len(Data)*a)/6, (len(Data)*(a+1))/6):\n",
      "            X= Data[i]\n",
      "            func_args.append( (myfunc, X) )\n",
      "    results = p.map(argwrapper, func_args)\n",
      "    print results\n"
     ],
     "language": "python",
     "metadata": {},
     "outputs": []
    },
    {
     "cell_type": "code",
     "collapsed": false,
     "input": [],
     "language": "python",
     "metadata": {},
     "outputs": [],
     "prompt_number": 0
    },
    {
     "cell_type": "code",
     "collapsed": false,
     "input": [
      "results = numpy.array(results)"
     ],
     "language": "python",
     "metadata": {},
     "outputs": [],
     "prompt_number": 20
    },
    {
     "cell_type": "raw",
     "metadata": {},
     "source": [
      "g"
     ]
    },
    {
     "cell_type": "code",
     "collapsed": false,
     "input": [
      "limage.WriteArrayAsImage(Oflood, results)"
     ],
     "language": "python",
     "metadata": {},
     "outputs": [],
     "prompt_number": 21
    },
    {
     "cell_type": "code",
     "collapsed": false,
     "input": [],
     "language": "python",
     "metadata": {},
     "outputs": []
    },
    {
     "cell_type": "code",
     "collapsed": false,
     "input": [
      "def argwrapper(args):\n",
      "    '''\n",
      "    \u30e9\u30c3\u30d1\u30fc\u95a2\u6570\n",
      "    '''\n",
      "    return args[0](*args[1:])\n",
      "\n",
      "def myfunc(i):\n",
      "    '''\n",
      "    \u4e26\u5217\u306b\u8a08\u7b97\u3057\u305f\u3044\u95a2\u6570\n",
      "    '''\n",
      "    A = i\n",
      "    return A\n",
      "\n",
      "if __name__ == '__main__':\n",
      "    from multiprocessing import Pool\n",
      "    p = Pool(6)\n",
      "    func_args = []\n",
      "    for a in xrange(1,10):\n",
      "        for b in xrange(1,10):\n",
      "            X= data[a]\n",
      "            func_args.append( (myfunc, X) )\n",
      "    results = p.map(argwrapper, func_args)\n",
      "    print results"
     ],
     "language": "python",
     "metadata": {},
     "outputs": [
      {
       "output_type": "stream",
       "stream": "stdout",
       "text": [
        "[[3], [3], [3], [3], [3], [3], [3], [3], [3], [4], [4], [4], [4], [4], [4], [4], [4], [4], [5], [5], [5], [5], [5], [5], [5], [5], [5], [6], [6], [6], [6], [6], [6], [6], [6], [6], [7], [7], [7], [7], [7], [7], [7], [7], [7], [8], [8], [8], [8], [8], [8], [8], [8], [8], [9], [9], [9], [9], [9], [9], [9], [9], [9], [10], [10], [10], [10], [10], [10], [10], [10], [10], [3], [3], [3], [3], [3], [3], [3], [3], [3]]\n"
       ]
      }
     ],
     "prompt_number": 7
    },
    {
     "cell_type": "code",
     "collapsed": false,
     "input": [
      "\n",
      "data= results\n",
      "\n"
     ],
     "language": "python",
     "metadata": {},
     "outputs": [],
     "prompt_number": 6
    },
    {
     "cell_type": "code",
     "collapsed": false,
     "input": [],
     "language": "python",
     "metadata": {},
     "outputs": [],
     "prompt_number": 0
    },
    {
     "cell_type": "code",
     "collapsed": false,
     "input": [],
     "language": "python",
     "metadata": {},
     "outputs": [],
     "prompt_number": 0
    },
    {
     "cell_type": "code",
     "collapsed": false,
     "input": [
      "fill=-999\n",
      "Actual = \"/home/faizan/Desktop/full/2010249act_C.tif\"\n",
      "limage = Index(Actual)\n",
      "cols = limage.iminfo['cols']\n",
      "# Get pixel row number\n",
      "rows = limage.iminfo['rows']\n",
      "bandnum= limage.iminfo['bandnum']\n",
      "Actual = (limage.index2Array(fill))\n"
     ],
     "language": "python",
     "metadata": {},
     "outputs": [],
     "prompt_number": 34
    },
    {
     "cell_type": "code",
     "collapsed": false,
     "input": [],
     "language": "python",
     "metadata": {},
     "outputs": []
    },
    {
     "cell_type": "code",
     "collapsed": false,
     "input": [
      "Actual"
     ],
     "language": "python",
     "metadata": {},
     "outputs": [
      {
       "metadata": {},
       "output_type": "pyout",
       "prompt_number": 29,
       "text": [
        "array([-999., -999., -999., ..., -999., -999., -999.], dtype=float32)"
       ]
      }
     ],
     "prompt_number": 29
    },
    {
     "cell_type": "code",
     "collapsed": false,
     "input": [
      "test = \"/home/faizan/Desktop/full/2010249res_C.tif\"\n",
      "limage = Index(test)\n",
      "cols = limage.iminfo['cols']\n",
      "# Get pixel row number\n",
      "rows = limage.iminfo['rows']\n",
      "test = (limage.index2Array(fill))"
     ],
     "language": "python",
     "metadata": {},
     "outputs": [],
     "prompt_number": 35
    },
    {
     "cell_type": "code",
     "collapsed": false,
     "input": [
      "test"
     ],
     "language": "python",
     "metadata": {},
     "outputs": [
      {
       "metadata": {},
       "output_type": "pyout",
       "prompt_number": 36,
       "text": [
        "array([-999., -999., -999., ..., -999., -999., -999.], dtype=float32)"
       ]
      }
     ],
     "prompt_number": 36
    },
    {
     "cell_type": "code",
     "collapsed": false,
     "input": [
      "cMat= limage.cMatrix(Actual, test)\n",
      "cMat"
     ],
     "language": "python",
     "metadata": {},
     "outputs": [
      {
       "metadata": {},
       "output_type": "pyout",
       "prompt_number": 37,
       "text": [
        "array([[  70749,    2309,       0],\n",
        "       [   2248,  502907, 1195120],\n",
        "       [      0,       0,   66535]])"
       ]
      }
     ],
     "prompt_number": 37
    },
    {
     "cell_type": "code",
     "collapsed": false,
     "input": [
      "cMat= limage.cMatrix(Actual, test)\n",
      "cMat"
     ],
     "language": "python",
     "metadata": {},
     "outputs": [
      {
       "metadata": {},
       "output_type": "pyout",
       "prompt_number": 32,
       "text": [
        "array([[1102000,   36105,       0],\n",
        "       [  11732, 2799240,       0],\n",
        "       [    407,       0, 2842516]])"
       ]
      }
     ],
     "prompt_number": 32
    },
    {
     "cell_type": "code",
     "collapsed": false,
     "input": [
      "cMat= limage.cMatrix(Actual, test)\n",
      "cMat"
     ],
     "language": "python",
     "metadata": {},
     "outputs": [
      {
       "metadata": {},
       "output_type": "pyout",
       "prompt_number": 21,
       "text": [
        "array([[1067822,   47039,       0],\n",
        "       [   9312, 3267721,       0],\n",
        "       [      5,       0, 2400101]])"
       ]
      }
     ],
     "prompt_number": 21
    },
    {
     "cell_type": "code",
     "collapsed": false,
     "input": [],
     "language": "python",
     "metadata": {},
     "outputs": []
    },
    {
     "cell_type": "code",
     "collapsed": false,
     "input": [
      "Mat= limage.cMatrix(Actual, flood)"
     ],
     "language": "python",
     "metadata": {},
     "outputs": [],
     "prompt_number": 46
    },
    {
     "cell_type": "code",
     "collapsed": false,
     "input": [
      "Mat"
     ],
     "language": "python",
     "metadata": {},
     "outputs": [
      {
       "metadata": {},
       "output_type": "pyout",
       "prompt_number": 47,
       "text": [
        "array([[1893392,   52525,       0],\n",
        "       [   5174, 2945136,       0],\n",
        "       [      1,       0, 3947772]])"
       ]
      }
     ],
     "prompt_number": 47
    },
    {
     "cell_type": "code",
     "collapsed": false,
     "input": [
      "def trtData(self,actual, test):\n",
      "    self.flood=flood\n",
      "    self.test=test\n",
      "    F_F=0\n",
      "    F_N=0\n",
      "    F_fi=0\n",
      "    N_F =0\n",
      "    N_N =0\n",
      "    N_fi=0\n",
      "    Fi_F=0\n",
      "    Fi_N=0\n",
      "    Fi_fi=0\n",
      "    \n",
      "    for i in range(len(actual)):\n",
      "        if actual[i]==test[i]:\n",
      "            if actual[i]==0:\n",
      "                N_N += 1\n",
      "            elif actual[i]==1:\n",
      "                F_F += 1\n",
      "            else:\n",
      "                Fi_fi += 1\n",
      "        else:\n",
      "            if actual[i]==0:\n",
      "                if test[i]==1:\n",
      "                    N_F += 1\n",
      "                else:\n",
      "                    N_fi+= 1\n",
      "            elif actual[i]==1:\n",
      "                if test[i]==0:\n",
      "                    F_N +=1\n",
      "                else:\n",
      "                    F_fi +=1 \n",
      "            else:\n",
      "                if test[i]==1:\n",
      "                    Fi_F +=1\n",
      "                else:\n",
      "                    Fi_N +=1\n",
      "    LIST= [F_F,\n",
      "           F_N,\n",
      "           F_fi,\n",
      "           N_F,\n",
      "           N_N,\n",
      "           N_fi,\n",
      "           Fi_F,\n",
      "           Fi_N,\n",
      "           Fi_fi]\n",
      "    C_matrix = np.array(LIST).reshape(3,3)\n",
      "    return C_matrix\n",
      "  "
     ],
     "language": "python",
     "metadata": {},
     "outputs": [],
     "prompt_number": 32
    },
    {
     "cell_type": "code",
     "collapsed": false,
     "input": [
      "\n",
      "import numpy as np\n",
      "\n",
      "LIST= [1,\n",
      "       2,\n",
      "       3,\n",
      "       4,\n",
      "       5,\n",
      "       5,\n",
      "       5,\n",
      "       5,\n",
      "       6]\n",
      "L = np.array(LIST).reshape(3,3)\n",
      "L[1][0]\n",
      "\n"
     ],
     "language": "python",
     "metadata": {},
     "outputs": [
      {
       "metadata": {},
       "output_type": "pyout",
       "prompt_number": 30,
       "text": [
        "4"
       ]
      }
     ],
     "prompt_number": 30
    },
    {
     "cell_type": "code",
     "collapsed": false,
     "input": [
      "import pandas as pd\n",
      "from osgeo import gdal\n",
      "\n",
      "ds = gdal.Open(\"/home/faizan/Desktop/full/A2014257.evi.tif\", gdal.GA_ReadOnly)\n",
      "band = ds.GetRasterBand(1)\n",
      "cols =ds.RasterXSize\n",
      "rows =ds.RasterYSize\n",
      "array = band.ReadAsArray(0, 0, cols, rows)\n",
      "array = array.reshape(cols * rows)\n",
      "len(array)"
     ],
     "language": "python",
     "metadata": {},
     "outputs": [
      {
       "metadata": {},
       "output_type": "pyout",
       "prompt_number": 22,
       "text": [
        "6792000"
       ]
      }
     ],
     "prompt_number": 22
    },
    {
     "cell_type": "code",
     "collapsed": false,
     "input": [],
     "language": "python",
     "metadata": {},
     "outputs": [],
     "prompt_number": 22
    },
    {
     "cell_type": "code",
     "collapsed": false,
     "input": [
      "import random\n",
      "import time\n",
      "import sys\n",
      "from multiprocessing import Pool\n",
      "random.seed()\n",
      "def genList (size):\n",
      "    randomList = []\n",
      "     \n",
      "    #initialize random list with values between 0 and 100\n",
      "    for i in range(size):\n",
      "        randomList.append(random.randint(0,10))\n",
      "         \n",
      "    return randomList\n",
      "#return the sum of all elements in the list\n",
      "#This is the same as \"return sum(inList)\" but in long form for readability and emphasis\n",
      "def sumList(inList):\n",
      "    finalSum = 0\n",
      "     \n",
      "    #iterate over all values in the list, and calculate the cummulative sum\n",
      "    for value in inList:\n",
      "        finalSum = finalSum + value\n",
      "    return finalSum\n",
      "def doWork(N):\n",
      "    #create a random list of N integers\n",
      "    myList = genList (N)\n",
      "    finalSum = sumList(myList)\n",
      "    return finalSum\n",
      "if __name__ == '__main__':\n",
      "    if len(sys.argv) == 2 and sys.argv[1].isdigit():\n",
      "        N = int(sys.argv[1])\n",
      "        #mark the start time\n",
      "        startTime = time.time()\n",
      "         \n",
      "        #create a process Pool with 4 processes\n",
      "        pool = Pool(processes=4)\n",
      "         \n",
      "        #map doWork to availble Pool processes\n",
      "        results = pool.map(doWork, (N/4,N/4,N/4,N/4))\n",
      "         \n",
      "        #sum the partial results to get the final result\n",
      "        finalSum = sumList(results)\n",
      "                 \n",
      "        #mark the end time\n",
      "        endTime = time.time()\n",
      "        #calculate the total time it took to complete the work\n",
      "        workTime =  endTime - startTime\n",
      "         \n",
      "        #print results\n",
      "        print \"The job took \" + str(workTime) + \" seconds to complete\"\n",
      "        print \"The final sum was: \" + str(finalSum)\n",
      "    else:\n",
      "        exit(-1)"
     ],
     "language": "python",
     "metadata": {},
     "outputs": [],
     "prompt_number": 1
    },
    {
     "cell_type": "code",
     "collapsed": false,
     "input": [
      "n=2 \n",
      "print n*2"
     ],
     "language": "python",
     "metadata": {},
     "outputs": [
      {
       "output_type": "stream",
       "stream": "stdout",
       "text": [
        "4\n"
       ]
      }
     ],
     "prompt_number": 1
    },
    {
     "cell_type": "code",
     "collapsed": false,
     "input": [
      "import random\n",
      "import time\n",
      "import sys\n",
      "from multiprocessing import Process, Queue\n",
      "random.seed()\n",
      "def genList (size):\n",
      "    randomList = []\n",
      "     \n",
      "    #initialize random list with values between 0 and 100\n",
      "    for i in range(size):\n",
      "        randomList.append(random.randint(0,10))\n",
      "         \n",
      "    return randomList\n",
      "#return the sum of all elements in the list\n",
      "#This is the same as \"return sum(inList)\" but in long form for readability and emphasis\n",
      "def sumList(inList):\n",
      "    finalSum = 0\n",
      "     \n",
      "    #iterate over all values in the list, and calculate the cummulative sum\n",
      "    for value in inList:\n",
      "        finalSum = finalSum + value\n",
      "    return finalSum\n",
      "def doWork(N,q):\n",
      "    #create a random list of N integers\n",
      "    myList = genList (N)\n",
      "    finalSum = sumList(myList)\n",
      "    #put the result in the Queue to return the the calling process\n",
      "    q.put(finalSum)\n",
      "if __name__ == '__main__':\n",
      "    if len(sys.argv) == 2 and sys.argv[1].isdigit():\n",
      "        N = int(sys.argv[1])\n",
      "        #mark the start time\n",
      "        startTime = time.time()\n",
      "        #create a Queue to share results\n",
      "        q = Queue()\n",
      "        #create 4 sub-processes to do the work\n",
      "        p1 = Process(target=doWork, args=(N/4,q))\n",
      "        p1.start()\n",
      "        p2 = Process(target=doWork, args=(N/4,q))\n",
      "        p2.start()\n",
      "        p3 = Process(target=doWork, args=(N/4,q))\n",
      "        p3.start()\n",
      "        p4 = Process(target=doWork, args=(N/4,q))\n",
      "        p4.start()\n",
      "         \n",
      "        results = []\n",
      "        #grab 4 values from the queue, one for each process\n",
      "        for i in range(4):\n",
      "            #set block=True to block until we get a result\n",
      "            results.append(q.get(True))\n",
      "         \n",
      "        #sum the partial results to get the final result\n",
      "        finalSum = sumList(results)\n",
      "         \n",
      "        p1.join()\n",
      "        p2.join()\n",
      "        p3.join()\n",
      "        p4.join()\n",
      "                 \n",
      "        #mark the end time\n",
      "        endTime = time.time()\n",
      "        #calculate the total time it took to complete the work\n",
      "        workTime =  endTime - startTime\n",
      "         \n",
      "        #print results\n",
      "        print \"The job took \" + str(workTime) + \" seconds to complete\"\n",
      "        print \"The final sum was: \" + str(finalSum)\n",
      "    else:\n",
      "        exit(-1)"
     ],
     "language": "python",
     "metadata": {},
     "outputs": [],
     "prompt_number": 1
    },
    {
     "cell_type": "code",
     "collapsed": false,
     "input": [],
     "language": "python",
     "metadata": {},
     "outputs": []
    }
   ],
   "metadata": {}
  }
 ]
}