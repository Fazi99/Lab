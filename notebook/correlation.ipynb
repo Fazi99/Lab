{
 "cells": [
  {
   "cell_type": "code",
   "execution_count": 4,
   "metadata": {
    "collapsed": false
   },
   "outputs": [],
   "source": [
    "from osgeo import gdal\n",
    "import numpy as np\n",
    "from matplotlib import pyplot as plt\n",
    "from glob import glob\n",
    "import datetime\n",
    "#from GdalHandle import MultiImages, GImage\n",
    "%matplotlib inline"
   ]
  },
  {
   "cell_type": "code",
   "execution_count": 5,
   "metadata": {
    "collapsed": true
   },
   "outputs": [],
   "source": [
    "def graph(x, y):\n",
    "    files = [\"/home/faizan/Pakistan/EVI/2010/sindh.2010%03d\"  % (i) + \".tif\" for i in range(91, 335) ]\n",
    "    ds = gdal.Open(files[0])\n",
    "    evi = np.array([ds.ReadAsArray()[(x, y)]])\n",
    "    for i in files[1:]:\n",
    "        ds = gdal.Open(i)\n",
    "        evi = np.vstack([evi, ds.ReadAsArray()[(x, y)]])\n",
    "    plt.plot(range(91, len(evi)+91), evi / 10000.)\n",
    "    plt.show()"
   ]
  },
  {
   "cell_type": "code",
   "execution_count": 7,
   "metadata": {
    "collapsed": false
   },
   "outputs": [
    {
     "data": {
      "image/png": "[encoded data removed]",
      "text/plain": [
       "<matplotlib.figure.Figure at 0x7fe1a5201c90>"
      ]
     },
     "metadata": {},
     "output_type": "display_data"
    },
    {
     "ename": "NameError",
     "evalue": "name 'max_date' is not defined",
     "output_type": "error",
     "traceback": [
      "\u001b[1;31m---------------------------------------------------------------------------\u001b[0m",
      "\u001b[1;31mNameError\u001b[0m                                 Traceback (most recent call last)",
      "\u001b[1;32m<ipython-input-7-1d04eed2c1b5>\u001b[0m in \u001b[0;36m<module>\u001b[1;34m()\u001b[0m\n\u001b[0;32m      1\u001b[0m \u001b[0mx\u001b[0m\u001b[1;33m,\u001b[0m \u001b[0my\u001b[0m \u001b[1;33m=\u001b[0m \u001b[1;33m(\u001b[0m\u001b[1;36m555\u001b[0m\u001b[1;33m,\u001b[0m \u001b[1;36m583\u001b[0m\u001b[1;33m)\u001b[0m\u001b[1;33m\u001b[0m\u001b[0m\n\u001b[0;32m      2\u001b[0m \u001b[0mgraph\u001b[0m\u001b[1;33m(\u001b[0m\u001b[0mx\u001b[0m\u001b[1;33m,\u001b[0m \u001b[0my\u001b[0m\u001b[1;33m)\u001b[0m\u001b[1;33m\u001b[0m\u001b[0m\n\u001b[1;32m----> 3\u001b[1;33m \u001b[1;32mprint\u001b[0m \u001b[0mmax_date\u001b[0m\u001b[1;33m[\u001b[0m\u001b[0mx\u001b[0m\u001b[1;33m,\u001b[0m \u001b[0my\u001b[0m\u001b[1;33m]\u001b[0m\u001b[1;33m\u001b[0m\u001b[0m\n\u001b[0m",
      "\u001b[1;31mNameError\u001b[0m: name 'max_date' is not defined"
     ]
    }
   ],
   "source": [
    "x, y = (555, 583)\n",
    "graph(x, y)\n",
    "#print max_date[x, y]"
   ]
  },
  {
   "cell_type": "code",
   "execution_count": 9,
   "metadata": {
    "collapsed": false
   },
   "outputs": [],
   "source": [
    "from osgeo import gdal\n",
    "import numpy as np\n",
    "from matplotlib import pyplot as plt\n",
    "from glob import glob\n",
    "import datetime\n",
    "from GdalHandle import MultiImages, GImage\n",
    "%matplotlib inline"
   ]
  },
  {
   "cell_type": "code",
   "execution_count": 92,
   "metadata": {
    "collapsed": false
   },
   "outputs": [],
   "source": [
    "ds = gdal.Open(\"/home/faizan/HDD1/anomaly/cru_pak.2013.10.tmx.anomaly.sindh.tif\")\n",
    "array_mask = ds.ReadAsArray().reshape(9 * 10)\n",
    "array_mask = array_mask != -9999."
   ]
  },
  {
   "cell_type": "code",
   "execution_count": 39,
   "metadata": {
    "collapsed": false
   },
   "outputs": [],
   "source": [
    "ds = gdal.Open(\"/home/faizan/HDD1/EVI/2002/Pak_crop.2002.Jan_avg_evi_value.sindh2.tif\")\n",
    "array_mask1 = ds.ReadAsArray().reshape(9 * 10)\n",
    "array_mask1 = array_mask != 0."
   ]
  },
  {
   "cell_type": "code",
   "execution_count": 41,
   "metadata": {
    "collapsed": false,
    "scrolled": false
   },
   "outputs": [],
   "source": [
    "files = [\"/home/faizan/HDD1/EVI/%d/Pak_crop.%d.%s_avg_evi_value.sindh2.tif\" % (year, year, m) for year in range(2002, 2014) \\\n",
    "         for m  in [\"Jan\", \"Feb\", \"Mar\", \"Apr\", \"May\", \"Jun\", \"Jul\", \"Aug\", \"Sep\", \"Oct\", \"Nov\", \"Dec\"] ]\n",
    "mimage = MultiImages(files)\n",
    "EArray = mimage.AllArrays"
   ]
  },
  {
   "cell_type": "code",
   "execution_count": 42,
   "metadata": {
    "collapsed": true
   },
   "outputs": [],
   "source": [
    "\n",
    "files = [[\"/home/faizan/HDD1/anomaly/cru_pak.%d.%02d.tmx.anomaly.sindh.tif\" % \\\n",
    "          (year, month) for year in range(2002, 2014)] for month in range(1, 13)]\n",
    "mimage = MultiImages(files[5])\n",
    "CArray = mimage.AllArrays"
   ]
  },
  {
   "cell_type": "code",
   "execution_count": 102,
   "metadata": {
    "collapsed": false
   },
   "outputs": [
    {
     "name": "stdout",
     "output_type": "stream",
     "text": [
      "0.0158721939645\n",
      "0.0136040897997\n",
      "-0.00580132397477\n",
      "0.0050934280753\n",
      "0.00263256159279\n",
      "0.0406588746234\n",
      "0.048910067781\n",
      "0.0371845616158\n",
      "0.0173344928331\n",
      "-0.0140384720846\n",
      "0.00260325945578\n",
      "-0.00914216067012\n"
     ]
    }
   ],
   "source": [
    "mon=[\"Jan\", \"Feb\", \"Mar\", \"Apr\", \"May\", \"Jun\", \"Jul\", \"Aug\", \"Sep\", \"Oct\", \"Nov\", \"Dec\"]\n",
    "for month in range(1, 13):   \n",
    "    files = [\"/home/faizan/HDD1/anomaly/cru_pak.%d.%02d.tmx.anomaly.sindh.tif\" % (year, month) for year in range(2002, 2014)]\n",
    "    mimage = MultiImages(files)\n",
    "    CArray = mimage.AllArrays\n",
    "    files = [\"/home/faizan/HDD1/EVI/%d/Pak_crop.%d.%s_avg_evi_value.sindh2.tif\" % (year, year, mon[month-1]) for year in range(2002, 2014)]\n",
    "    mimage = MultiImages(files)\n",
    "    EArray = mimage.AllArrays\n",
    "    print np.corrcoef(EArray[: , array_mask1].reshape(12 * 52), CArray[:, array_mask1].reshape(12 * 52))[0][1]"
   ]
  },
  {
   "cell_type": "code",
   "execution_count": 103,
   "metadata": {
    "collapsed": false
   },
   "outputs": [
    {
     "data": {
      "text/plain": [
       "52"
      ]
     },
     "execution_count": 103,
     "metadata": {},
     "output_type": "execute_result"
    }
   ],
   "source": [
    "len(CArray[: , array_mask1][0])\n",
    "    \n"
   ]
  },
  {
   "cell_type": "code",
   "execution_count": null,
   "metadata": {
    "collapsed": false
   },
   "outputs": [],
   "source": []
  },
  {
   "cell_type": "code",
   "execution_count": null,
   "metadata": {
    "collapsed": false
   },
   "outputs": [],
   "source": []
  },
  {
   "cell_type": "code",
   "execution_count": 98,
   "metadata": {
    "collapsed": false
   },
   "outputs": [
    {
     "data": {
      "text/plain": [
       "-4221.6615261734214"
      ]
     },
     "execution_count": 98,
     "metadata": {},
     "output_type": "execute_result"
    }
   ],
   "source": [
    "np.mean(CArray[0])"
   ]
  },
  {
   "cell_type": "code",
   "execution_count": 99,
   "metadata": {
    "collapsed": false
   },
   "outputs": [
    {
     "data": {
      "text/plain": [
       "-3262.9896825396822"
      ]
     },
     "execution_count": 99,
     "metadata": {},
     "output_type": "execute_result"
    }
   ],
   "source": [
    "np.mean(EArray[0])"
   ]
  },
  {
   "cell_type": "code",
   "execution_count": 105,
   "metadata": {
    "collapsed": false
   },
   "outputs": [
    {
     "data": {
      "text/plain": [
       "array([[ 1274.78571429,  1109.71428571,  1751.10714286,   593.03571429,\n",
       "         1728.60714286,  1751.28571429,  2363.67857143,  1829.78571429,\n",
       "          774.64285714,  1261.67857143,  2268.46428571,   967.82142857,\n",
       "          761.28571429,  1022.14285714,  1340.21428571,  2740.96428571,\n",
       "          673.67857143,   996.        ,  1467.46428571,  2028.14285714,\n",
       "         1792.71428571,   790.17857143,   634.17857143, -9999.        ,\n",
       "          745.14285714,  1861.67857143,  1662.25      ,  2237.71428571,\n",
       "          788.32142857,   871.60714286,  1884.82142857,  1675.28571429,\n",
       "         2460.67857143,   891.71428571,   748.17857143, -9999.        ,\n",
       "          930.53571429,   601.25      ,  2021.5       ,  1589.67857143,\n",
       "         1560.75      ,   753.42857143,   805.57142857,  -299.42857143,\n",
       "         2025.10714286,   969.82142857,  1635.57142857,   752.78571429,\n",
       "          789.71428571,   781.21428571, -9999.        ,   254.60714286],\n",
       "       [ 1469.57142857,  1233.39285714,  1751.03571429,   781.92857143,\n",
       "         1666.60714286,  1422.96428571,  2133.35714286,  1581.85714286,\n",
       "          980.53571429,  1634.71428571,  2217.25      ,  1148.5       ,\n",
       "          858.78571429,  1482.92857143,  1704.25      ,  2686.42857143,\n",
       "          932.28571429,  1297.14285714,  2276.85714286,  1868.82142857,\n",
       "         1850.07142857,  1134.92857143,  1026.53571429, -9999.        ,\n",
       "         1068.17857143,  2167.21428571,  1547.32142857,  2005.78571429,\n",
       "         1214.85714286,  1008.57142857,  1939.5       ,  2054.82142857,\n",
       "         2617.75      ,  1813.07142857,  1328.53571429, -9999.        ,\n",
       "         1113.89285714,   829.42857143,  1382.07142857,  1727.64285714,\n",
       "         2052.07142857,  1667.28571429,  1332.60714286,  -347.82142857,\n",
       "         2950.92857143,  1059.85714286,  1515.17857143,  1226.5       ,\n",
       "         1276.64285714,  1193.        , -9999.        ,   248.17857143],\n",
       "       [ 1402.42857143,  1336.46428571,  2245.25      ,   645.64285714,\n",
       "         1573.53571429,  1453.60714286,  2503.57142857,  1824.89285714,\n",
       "          857.75      ,  1331.75      ,  2171.82142857,   929.85714286,\n",
       "          763.25      ,  1180.71428571,  2048.5       ,  2562.78571429,\n",
       "          781.46428571,  1154.78571429,  1710.17857143,  2146.32142857,\n",
       "         1807.60714286,   963.60714286,   905.60714286, -9999.        ,\n",
       "          857.82142857,  1897.60714286,  2081.10714286,  2066.32142857,\n",
       "          886.03571429,  1044.07142857,  2219.82142857,  2751.89285714,\n",
       "         2542.89285714,  1159.60714286,   727.71428571, -9999.        ,\n",
       "         1024.60714286,   981.57142857,  1704.17857143,  1716.89285714,\n",
       "         1976.60714286,  1337.96428571,  1030.60714286,    24.35714286,\n",
       "         2585.17857143,  1063.71428571,  1852.25      ,  1265.46428571,\n",
       "         1254.28571429,  1063.03571429, -9999.        ,   435.78571429],\n",
       "       [ 1272.32142857,  1176.17857143,  1608.53571429,   632.07142857,\n",
       "         1391.32142857,  1179.60714286,  1866.46428571,  1214.28571429,\n",
       "          886.39285714,  1214.82142857,  1901.35714286,   953.82142857,\n",
       "          688.75      ,  1330.14285714,  1243.14285714,  2247.5       ,\n",
       "          797.89285714,  1021.        ,  2094.78571429,  2123.03571429,\n",
       "         1689.17857143,   864.28571429,   927.21428571, -9999.        ,\n",
       "          684.03571429,  2506.42857143,  1719.53571429,  2145.21428571,\n",
       "          797.07142857,   772.28571429,  1578.67857143,  2093.78571429,\n",
       "         2916.14285714,   901.75      ,   808.07142857, -9999.        ,\n",
       "          876.42857143,   700.64285714,  1218.        ,  1418.78571429,\n",
       "         1954.21428571,   946.75      ,   963.35714286,  -357.67857143,\n",
       "          981.03571429,  1172.25      ,  1512.39285714,  1194.        ,\n",
       "         1018.07142857,   864.75      , -9999.        ,   415.82142857],\n",
       "       [ 1288.60714286,  1258.17857143,  1834.03571429,   703.42857143,\n",
       "         1453.89285714,  1553.71428571,  2269.64285714,  1735.92857143,\n",
       "          880.21428571,  1129.14285714,  2343.5       ,  1160.25      ,\n",
       "          770.60714286,  1289.39285714,  1576.35714286,  2686.10714286,\n",
       "          856.85714286,  1370.75      ,  2080.42857143,  2003.57142857,\n",
       "         2222.89285714,   944.07142857,   925.03571429, -9999.        ,\n",
       "          948.85714286,  1690.82142857,  1400.14285714,  2179.67857143,\n",
       "         1089.46428571,  1125.85714286,  1902.46428571,  2616.5       ,\n",
       "         2546.        ,  1358.32142857,  1129.28571429, -9999.        ,\n",
       "         1163.07142857,   949.71428571,  1476.        ,  2101.67857143,\n",
       "         2983.35714286,  1686.5       ,  1349.71428571,  -196.60714286,\n",
       "         3130.75      ,  1459.28571429,  1841.53571429,  1445.71428571,\n",
       "         1244.53571429,  1137.35714286, -9999.        ,   339.21428571],\n",
       "       [ 1304.07142857,  1375.89285714,  1753.10714286,   913.07142857,\n",
       "         1358.42857143,  1345.21428571,  2388.        ,  1400.46428571,\n",
       "          992.92857143,  1247.92857143,  2219.21428571,  1128.25      ,\n",
       "          805.78571429,  1380.64285714,  1467.64285714,  2333.46428571,\n",
       "          830.46428571,  1193.67857143,  2724.46428571,  1742.53571429,\n",
       "         1964.39285714,   995.14285714,  1085.5       , -9999.        ,\n",
       "          989.46428571,  2069.96428571,  1790.67857143,  1877.46428571,\n",
       "         1082.28571429,  1143.35714286,  1797.42857143,  2708.28571429,\n",
       "         3596.5       ,  1179.42857143,  1128.        , -9999.        ,\n",
       "         1209.89285714,   755.39285714,  1652.46428571,  1569.75      ,\n",
       "         2049.89285714,  1343.85714286,  1130.03571429,  -111.57142857,\n",
       "         2902.5       ,   958.17857143,  1756.57142857,  1396.17857143,\n",
       "         1353.53571429,  1019.17857143, -9999.        ,   347.60714286],\n",
       "       [ 1219.57142857,  1242.07142857,  1777.96428571,   773.5       ,\n",
       "          971.42857143,  1304.17857143,  2151.28571429,  1498.35714286,\n",
       "          885.17857143,   292.64285714,  2859.07142857,  1038.67857143,\n",
       "          633.10714286,  1208.67857143,  1664.21428571,  2380.96428571,\n",
       "          649.28571429,  1045.28571429,  2194.75      ,  1390.57142857,\n",
       "         2036.10714286,   841.25      ,   781.5       , -9999.        ,\n",
       "          783.21428571,  2341.28571429,  1820.21428571,  2678.10714286,\n",
       "          851.17857143,   918.21428571,  1488.71428571,  2947.60714286,\n",
       "         2620.10714286,   881.46428571,  1147.21428571, -9999.        ,\n",
       "         1000.        ,   744.96428571,  1638.03571429,  1846.07142857,\n",
       "         2552.07142857,  1157.10714286,  1256.25      ,  -743.32142857,\n",
       "         2648.28571429,   967.39285714,  1752.17857143,  1267.        ,\n",
       "         1359.57142857,  1147.67857143, -9999.        ,   353.64285714],\n",
       "       [ 1509.53571429,  1127.85714286,  1746.07142857,   718.64285714,\n",
       "         1564.89285714,  1403.10714286,  2304.39285714,  1327.75      ,\n",
       "          877.17857143,  1302.21428571,  2997.64285714,   963.67857143,\n",
       "          632.92857143,  1027.07142857,  1286.5       ,  2366.5       ,\n",
       "          775.60714286,  1064.17857143,  2781.89285714,  1556.17857143,\n",
       "         2102.28571429,   880.21428571,   902.32142857, -9999.        ,\n",
       "          747.32142857,  1880.07142857,  1415.89285714,  2035.89285714,\n",
       "          832.21428571,   934.        ,  1509.32142857,  2372.71428571,\n",
       "         2577.03571429,   878.46428571,  1093.17857143, -9999.        ,\n",
       "         1258.67857143,   900.07142857,  1542.89285714,  1436.53571429,\n",
       "         2596.32142857,  1185.75      ,  1175.14285714,  -477.28571429,\n",
       "         3022.32142857,   905.35714286,  1595.25      ,  1207.85714286,\n",
       "         1241.42857143,   876.96428571, -9999.        ,   185.25      ],\n",
       "       [ 1367.10714286,  1024.60714286,  1392.21428571,   932.82142857,\n",
       "         1378.14285714,  1146.        ,  1931.53571429,  1521.25      ,\n",
       "          967.03571429,  1273.        ,  2802.64285714,  1147.46428571,\n",
       "          910.60714286,  1219.42857143,  1841.32142857,  2753.57142857,\n",
       "          812.92857143,  1218.60714286,   869.82142857,  1652.60714286,\n",
       "         1999.60714286,   982.67857143,   855.25      , -9999.        ,\n",
       "          891.32142857,  1553.60714286,  2653.78571429,  1840.67857143,\n",
       "         1104.82142857,  1103.25      ,  1830.5       ,  2427.67857143,\n",
       "         3344.60714286,  1164.96428571,  1012.60714286, -9999.        ,\n",
       "         1522.5       ,   829.14285714,  1745.57142857,  2094.78571429,\n",
       "         2561.46428571,  1213.85714286,  1364.96428571,  -675.82142857,\n",
       "         2015.07142857,  1561.39285714,  1615.85714286,  1353.71428571,\n",
       "         1248.82142857,   956.96428571, -9999.        ,   370.89285714],\n",
       "       [ 1640.64285714,  1082.85714286,  1571.5       ,  1128.        ,\n",
       "         1504.39285714,  1379.67857143,  2023.71428571,  1421.92857143,\n",
       "         1176.35714286,  1062.10714286,  2248.35714286,  1221.64285714,\n",
       "          922.03571429,  1473.92857143,  1687.17857143,  2501.89285714,\n",
       "          842.5       ,  1346.32142857,  1569.17857143,  1759.17857143,\n",
       "         2259.53571429,   944.5       ,   921.39285714, -9999.        ,\n",
       "         1377.28571429,  1960.89285714,  1654.10714286,  1977.64285714,\n",
       "         1266.5       ,  1247.        ,  1577.89285714,  2542.03571429,\n",
       "         2719.46428571,  1380.89285714,  1366.07142857, -9999.        ,\n",
       "         1365.96428571,  1094.60714286,  1773.64285714,   927.        ,\n",
       "         1540.        ,  1409.14285714,  1501.10714286,  -149.10714286,\n",
       "         2951.85714286,  1415.53571429,  1457.89285714,  1432.39285714,\n",
       "         1233.46428571,  1108.71428571, -9999.        ,   263.21428571],\n",
       "       [ 1360.71428571,  1124.17857143,  1630.28571429,   844.78571429,\n",
       "         1193.42857143,  1284.67857143,  2358.71428571,  1267.96428571,\n",
       "         1074.96428571,  1113.14285714,  3002.28571429,  1152.39285714,\n",
       "         1017.5       ,  1336.10714286,  2269.28571429,  2260.03571429,\n",
       "          936.46428571,  1320.17857143,  1621.07142857,  1899.03571429,\n",
       "         2052.96428571,   984.42857143,   905.        , -9999.        ,\n",
       "          831.35714286,  1547.07142857,  1729.53571429,  1983.39285714,\n",
       "          918.64285714,   968.21428571,  1970.32142857,  2437.96428571,\n",
       "         3014.75      ,  1241.21428571,  1282.28571429, -9999.        ,\n",
       "          992.85714286,   956.75      ,  1508.        ,  1278.57142857,\n",
       "         2690.07142857,  1298.60714286,  1218.96428571,  -173.75      ,\n",
       "         2326.64285714,  1445.89285714,  1702.28571429,  1169.14285714,\n",
       "         1033.        ,  1162.21428571, -9999.        ,   427.78571429],\n",
       "       [ 1529.        ,  1226.60714286,  1419.21428571,   828.32142857,\n",
       "         1400.82142857,  1605.78571429,  2240.25      ,  1682.82142857,\n",
       "          985.        ,  1147.85714286,  2549.64285714,  1041.60714286,\n",
       "          897.75      ,  1122.64285714,  1952.28571429,  2971.53571429,\n",
       "          780.10714286,   984.03571429,  1980.60714286,  1878.78571429,\n",
       "         2123.75      ,  1004.42857143,   880.35714286, -9999.        ,\n",
       "          822.21428571,  1940.28571429,  2310.5       ,  2282.92857143,\n",
       "          956.5       ,   852.75      ,  1857.35714286,  2574.07142857,\n",
       "         2599.71428571,   898.28571429,   990.25      , -9999.        ,\n",
       "          972.42857143,   738.75      ,  1062.82142857,  1197.92857143,\n",
       "         1900.42857143,  1194.07142857,  1465.96428571,  -133.        ,\n",
       "         2351.10714286,   959.07142857,  1401.46428571,  1094.67857143,\n",
       "         1406.67857143,  1237.96428571, -9999.        ,   216.82142857]])"
      ]
     },
     "execution_count": 105,
     "metadata": {},
     "output_type": "execute_result"
    }
   ],
   "source": [
    "EArray[: , array_mask1]"
   ]
  },
  {
   "cell_type": "code",
   "execution_count": 104,
   "metadata": {
    "collapsed": false
   },
   "outputs": [
    {
     "data": {
      "text/plain": [
       "array([[  6.69505882e-01,   6.60247313e-01,   6.90450963e-01,\n",
       "          5.50676486e-01,   5.66198265e-01,   5.61672672e-01,\n",
       "          8.34522960e-01,   9.56526648e-01,   5.24008163e-01,\n",
       "          3.46193858e-01,   4.13569196e-01,   5.79607368e-01,\n",
       "          0.00000000e+00,   5.24675330e-01,   2.49356829e-01,\n",
       "          3.18717305e-01,   3.36440174e-01,   3.86730740e-01,\n",
       "          2.28814381e-02,  -3.34616424e-02,   3.85290619e-01,\n",
       "          4.88155280e-01,   0.00000000e+00,   2.85745491e-01,\n",
       "         -1.10647635e-01,  -2.85490284e-01,   1.12940869e-01,\n",
       "          2.54046150e-01,   8.00080012e-02,  -2.16701131e-01,\n",
       "         -3.91440681e-01,  -6.17082814e-02,   1.32363951e-01,\n",
       "          2.88303995e-01,   4.68699940e-01,   0.00000000e+00,\n",
       "          3.49197767e-01,  -9.65234178e-02,  -9.27194741e-02,\n",
       "         -1.32542701e-01,  -5.10097867e-02,   1.17309283e-01,\n",
       "          2.96112279e-01,   5.53310190e-01,   4.91127305e-01,\n",
       "          2.11959077e-01,   0.00000000e+00,   1.07884623e-01,\n",
       "          0.00000000e+00,   1.20453014e-01,   0.00000000e+00,\n",
       "          0.00000000e+00],\n",
       "       [ -1.04610294e-02,  -3.08825356e-01,  -5.71779704e-01,\n",
       "         -2.44745105e-01,  -1.15336684e-01,   1.05975976e-02,\n",
       "          0.00000000e+00,   4.02748062e-02,  -3.75703966e-01,\n",
       "         -3.57012416e-01,  -1.67663188e-01,  -1.18068167e-01,\n",
       "          0.00000000e+00,  -5.04876261e-01,  -4.87379257e-01,\n",
       "         -4.21162153e-01,  -2.27911086e-01,  -7.44456675e-01,\n",
       "         -5.72035952e-01,  -4.68462994e-01,  -3.30249102e-01,\n",
       "         -3.21974759e-01,   0.00000000e+00,  -8.67089765e-01,\n",
       "         -8.29857262e-01,  -5.70980568e-01,  -5.54436993e-01,\n",
       "         -4.06473841e-01,  -9.60096014e-01,  -9.20979806e-01,\n",
       "         -6.59268515e-01,  -5.96513387e-01,  -5.29455806e-01,\n",
       "         -3.57894614e-01,  -2.92937463e-01,   0.00000000e+00,\n",
       "         -1.20722656e+00,  -9.33059706e-01,  -7.62360120e-01,\n",
       "         -6.62713505e-01,  -4.48886123e-01,  -3.91030944e-01,\n",
       "         -3.24768306e-01,  -1.18293903e+00,  -9.72022792e-01,\n",
       "         -8.37743019e-01,   0.00000000e+00,  -5.29615424e-01,\n",
       "          0.00000000e+00,  -3.61359042e-01,   0.00000000e+00,\n",
       "          0.00000000e+00],\n",
       "       [  2.61525735e-01,   3.83369407e-01,   5.50203111e-01,\n",
       "          1.52965691e-01,   4.29891275e-01,   4.23903903e-01,\n",
       "          4.17261480e-01,   5.63847287e-01,   3.95477859e-01,\n",
       "          6.27476367e-01,   8.49493485e-01,   8.58677581e-01,\n",
       "          0.00000000e+00,   5.24675330e-01,   8.38745699e-01,\n",
       "          1.05859676e+00,   1.04187925e+00,   8.89480703e-01,\n",
       "          1.06398687e+00,   1.27154241e+00,   1.24393828e+00,\n",
       "          1.29828532e+00,   0.00000000e+00,   1.05430233e+00,\n",
       "          1.47161354e+00,   1.57019656e+00,   1.58117217e+00,\n",
       "          1.44298213e+00,   1.25012502e+00,   1.61442343e+00,\n",
       "          1.75118199e+00,   1.67640831e+00,   1.58836742e+00,\n",
       "          1.58070121e+00,   1.48421648e+00,   0.00000000e+00,\n",
       "          1.38681399e+00,   1.57654916e+00,   1.78227433e+00,\n",
       "          1.72305511e+00,   1.67312100e+00,   1.64232996e+00,\n",
       "          1.53787345e+00,   1.42143480e+00,   1.55523647e+00,\n",
       "          1.78651222e+00,   0.00000000e+00,   1.63788474e+00,\n",
       "          0.00000000e+00,   1.56588918e+00,   0.00000000e+00,\n",
       "          0.00000000e+00],\n",
       "       [ -1.50638824e+00,  -1.55477593e+00,  -1.41326682e+00,\n",
       "         -1.04016670e+00,  -1.47840658e+00,  -1.64262763e+00,\n",
       "         -1.66904592e+00,  -1.66133576e+00,  -1.01835549e+00,\n",
       "         -1.48214245e+00,  -1.76605224e+00,  -1.79248945e+00,\n",
       "          0.00000000e+00,  -1.14834601e+00,  -1.66615700e+00,\n",
       "         -1.90092107e+00,  -1.92096486e+00,  -1.12151915e+00,\n",
       "         -1.61314139e+00,  -1.91846750e+00,  -1.90443649e+00,\n",
       "         -1.94223484e+00,   0.00000000e+00,  -1.12327538e+00,\n",
       "         -1.69290881e+00,  -1.85568685e+00,  -1.88919272e+00,\n",
       "         -1.85961782e+00,  -1.22012202e+00,  -1.62525848e+00,\n",
       "         -1.86449377e+00,  -1.93352615e+00,  -1.85309532e+00,\n",
       "         -1.77953156e+00,  -1.81621227e+00,   0.00000000e+00,\n",
       "         -1.20722656e+00,  -1.49075056e+00,  -1.69985702e+00,\n",
       "         -1.72305511e+00,  -1.77514058e+00,  -1.66188151e+00,\n",
       "         -1.56652948e+00,  -1.05892123e+00,  -1.37106373e+00,\n",
       "         -1.62501959e+00,   0.00000000e+00,  -1.54961550e+00,\n",
       "          0.00000000e+00,  -1.44543617e+00,   0.00000000e+00,\n",
       "          0.00000000e+00],\n",
       "       [ -6.90427941e-01,  -5.85703261e-01,  -5.71779704e-01,\n",
       "         -1.04016670e+00,  -9.33178621e-01,  -8.16015014e-01,\n",
       "         -6.95435800e-01,  -4.83297675e-01,  -1.14688579e+00,\n",
       "         -9.19577435e-01,  -8.94203668e-01,  -5.36673488e-01,\n",
       "          0.00000000e+00,  -1.14834601e+00,  -9.29420910e-01,\n",
       "         -7.17113936e-01,  -6.51174530e-01,  -1.12151915e+00,\n",
       "         -1.01822400e+00,  -7.58463895e-01,  -7.59572934e-01,\n",
       "         -5.92018105e-01,   0.00000000e+00,  -1.25136818e+00,\n",
       "         -9.73699187e-01,  -8.56470852e-01,  -6.87912566e-01,\n",
       "         -6.70681837e-01,  -1.22012202e+00,  -1.06183554e+00,\n",
       "         -7.93182432e-01,  -5.96513387e-01,  -5.29455806e-01,\n",
       "         -4.87134336e-01,  -2.92937463e-01,   0.00000000e+00,\n",
       "         -1.07752454e+00,  -9.33059706e-01,  -6.28431991e-01,\n",
       "         -3.97628103e-01,  -3.16260677e-01,  -2.63945887e-01,\n",
       "         -2.00592189e-01,  -9.34903424e-01,  -7.05995502e-01,\n",
       "         -4.44104733e-01,   0.00000000e+00,  -1.47115395e-01,\n",
       "          0.00000000e+00,  -8.55870141e-15,   0.00000000e+00,\n",
       "          0.00000000e+00],\n",
       "       [ -1.77837500e+00,  -1.83165384e+00,  -1.83401037e+00,\n",
       "         -1.57044776e+00,  -1.61471357e+00,  -1.64262763e+00,\n",
       "         -1.52995876e+00,  -1.39954952e+00,  -1.53247670e+00,\n",
       "         -1.62278371e+00,  -1.47543605e+00,  -1.51341924e+00,\n",
       "          0.00000000e+00,  -1.53442785e+00,  -1.51880978e+00,\n",
       "         -1.45699339e+00,  -1.21552579e+00,  -1.49858162e+00,\n",
       "         -1.46441204e+00,  -1.33846570e+00,  -1.04578882e+00,\n",
       "         -9.97083125e-01,   0.00000000e+00,  -1.37946099e+00,\n",
       "         -1.26138304e+00,  -9.99215994e-01,  -9.54863711e-01,\n",
       "         -8.02785835e-01,  -1.35013502e+00,  -1.06183554e+00,\n",
       "         -9.27096349e-01,  -7.30214663e-01,  -6.61819757e-01,\n",
       "         -6.16374058e-01,  -5.46816597e-01,   0.00000000e+00,\n",
       "         -1.20722656e+00,  -9.33059706e-01,  -7.62360120e-01,\n",
       "         -6.62713505e-01,  -5.81511568e-01,  -5.18116000e-01,\n",
       "         -3.24768306e-01,  -1.05892123e+00,  -8.39009147e-01,\n",
       "         -7.06530257e-01,   0.00000000e+00,  -4.02115414e-01,\n",
       "          0.00000000e+00,  -2.40906028e-01,   0.00000000e+00,\n",
       "          0.00000000e+00],\n",
       "       [ -1.04610294e-02,   2.44930455e-01,   4.09955259e-01,\n",
       "         -1.12174840e-01,   2.09703061e-02,   1.48366366e-01,\n",
       "          4.17261480e-01,   6.94740407e-01,  -1.18643358e-01,\n",
       "          6.49113484e-02,   2.68261100e-01,   3.00537154e-01,\n",
       "          0.00000000e+00,   9.89953453e-03,   2.49356829e-01,\n",
       "          4.66693196e-01,   4.77527989e-01,   1.35355759e-01,\n",
       "          3.20340133e-01,   5.46540159e-01,   5.28398563e-01,\n",
       "          6.23176953e-01,   0.00000000e+00,   2.85745491e-01,\n",
       "          6.08561992e-01,   7.13725710e-01,   7.80318731e-01,\n",
       "          7.82462143e-01,   3.40034005e-01,   6.28433280e-01,\n",
       "          8.13784573e-01,   8.74200653e-01,   9.26547660e-01,\n",
       "          9.34502604e-01,   9.76458209e-01,   0.00000000e+00,\n",
       "          6.08601822e-01,   8.79435585e-01,   1.11263369e+00,\n",
       "          1.19288431e+00,   1.27524467e+00,   1.26107479e+00,\n",
       "          1.28952121e+00,   4.29292389e-01,   7.57154596e-01,\n",
       "          1.13044841e+00,   0.00000000e+00,   1.38288472e+00,\n",
       "          0.00000000e+00,   1.44543617e+00,   0.00000000e+00,\n",
       "          0.00000000e+00],\n",
       "       [  3.97519118e-01,   5.21808360e-01,   8.30698815e-01,\n",
       "          2.85535956e-01,   1.57277296e-01,   4.23903903e-01,\n",
       "          5.56348640e-01,   6.94740407e-01,   2.66947555e-01,\n",
       "          3.46193858e-01,   5.58877293e-01,   7.19142474e-01,\n",
       "          0.00000000e+00,   2.67287432e-01,   5.44051264e-01,\n",
       "          7.62644979e-01,   9.00791433e-01,   1.35355759e-01,\n",
       "          6.17798829e-01,   8.36541060e-01,   9.57722395e-01,\n",
       "          1.16326365e+00,   0.00000000e+00,   2.85745491e-01,\n",
       "          7.52403918e-01,   9.99215994e-01,   1.04726988e+00,\n",
       "          1.17877414e+00,   4.70047007e-01,   7.69289015e-01,\n",
       "          1.08161241e+00,   1.14160321e+00,   1.19127556e+00,\n",
       "          1.19298205e+00,   1.23033734e+00,   0.00000000e+00,\n",
       "          4.78899794e-01,   7.40012870e-01,   8.44777430e-01,\n",
       "          9.27798906e-01,   1.00999378e+00,   1.00690468e+00,\n",
       "          1.04116898e+00,   3.05274587e-01,   4.91127305e-01,\n",
       "          7.36810125e-01,   0.00000000e+00,   8.72884680e-01,\n",
       "          0.00000000e+00,   9.63624112e-01,   0.00000000e+00,\n",
       "          0.00000000e+00],\n",
       "       [ -8.26421324e-01,  -8.62581167e-01,  -9.92523260e-01,\n",
       "         -5.09885635e-01,  -6.60564642e-01,  -9.53783783e-01,\n",
       "         -1.25178444e+00,  -1.53044264e+00,  -6.32764575e-01,\n",
       "         -7.78936180e-01,  -1.03951176e+00,  -1.23434902e+00,\n",
       "          0.00000000e+00,  -6.33570210e-01,  -7.82073692e-01,\n",
       "         -1.01306572e+00,  -1.35661360e+00,  -6.18769185e-01,\n",
       "         -8.69494648e-01,  -1.04846480e+00,  -1.47511265e+00,\n",
       "         -1.53716982e+00,   0.00000000e+00,  -7.38996959e-01,\n",
       "         -8.29857262e-01,  -1.14196114e+00,  -1.35529043e+00,\n",
       "         -1.59540982e+00,  -7.00070011e-01,  -9.20979806e-01,\n",
       "         -1.06101027e+00,  -1.39872105e+00,  -1.58836742e+00,\n",
       "         -1.77953156e+00,  -1.81621227e+00,   0.00000000e+00,\n",
       "         -8.18120482e-01,  -1.21190513e+00,  -1.43200077e+00,\n",
       "         -1.59051241e+00,  -1.64251513e+00,  -1.78896657e+00,\n",
       "         -1.93905783e+00,  -1.05892123e+00,  -1.50407737e+00,\n",
       "         -1.49380683e+00,   0.00000000e+00,  -1.80461552e+00,\n",
       "          0.00000000e+00,  -1.92724822e+00,   0.00000000e+00,\n",
       "          0.00000000e+00],\n",
       "       [  3.97519118e-01,   2.44930455e-01,  -1.07882963e-02,\n",
       "          4.18106221e-01,   4.29891275e-01,   5.61672672e-01,\n",
       "          4.17261480e-01,   1.71167926e-01,   3.95477859e-01,\n",
       "          6.27476367e-01,   5.58877293e-01,   3.00537154e-01,\n",
       "          0.00000000e+00,   5.24675330e-01,   5.44051264e-01,\n",
       "          4.66693196e-01,   3.36440174e-01,   3.86730740e-01,\n",
       "          6.17798829e-01,   5.46540159e-01,   3.85290619e-01,\n",
       "          3.53133607e-01,   0.00000000e+00,   5.41931103e-01,\n",
       "          6.08561992e-01,   5.70980568e-01,   3.79892014e-01,\n",
       "          3.86150149e-01,   4.70047007e-01,   6.28433280e-01,\n",
       "          5.45956739e-01,   4.73096824e-01,   3.97091854e-01,\n",
       "          4.17543717e-01,   3.41760373e-01,   0.00000000e+00,\n",
       "          3.49197767e-01,   4.61167441e-01,   3.09064914e-01,\n",
       "          3.97628103e-01,   3.46866549e-01,   3.71479396e-01,\n",
       "          2.96112279e-01,   1.81256786e-01,   2.25100015e-01,\n",
       "          2.11959077e-01,   0.00000000e+00,   2.35384633e-01,\n",
       "          0.00000000e+00,   2.40906028e-01,   0.00000000e+00,\n",
       "          0.00000000e+00],\n",
       "       [  9.41492647e-01,   9.37125218e-01,   6.90450963e-01,\n",
       "          5.50676486e-01,   8.38812244e-01,   8.37210209e-01,\n",
       "          6.95435800e-01,   5.63847287e-01,   6.52538468e-01,\n",
       "          9.08758877e-01,   8.49493485e-01,   7.19142474e-01,\n",
       "          0.00000000e+00,   6.53369279e-01,   8.38745699e-01,\n",
       "          7.62644979e-01,   7.59703618e-01,   6.38105722e-01,\n",
       "          9.15257524e-01,   8.36541060e-01,   6.71506507e-01,\n",
       "          4.88155280e-01,   0.00000000e+00,   6.70023909e-01,\n",
       "          7.52403918e-01,   7.13725710e-01,   6.46843159e-01,\n",
       "          5.18254147e-01,   7.30073011e-01,   7.69289015e-01,\n",
       "          6.79870656e-01,   6.06798101e-01,   5.29455806e-01,\n",
       "          4.17543717e-01,   3.41760373e-01,   0.00000000e+00,\n",
       "          6.08601822e-01,   7.40012870e-01,   7.10849301e-01,\n",
       "          6.62713505e-01,   6.12117440e-01,   4.98564453e-01,\n",
       "          4.20288396e-01,   6.77327991e-01,   7.57154596e-01,\n",
       "          7.36810125e-01,   0.00000000e+00,   6.17884661e-01,\n",
       "          0.00000000e+00,   4.81812056e-01,   0.00000000e+00,\n",
       "          0.00000000e+00],\n",
       "       [ -1.04610294e-02,   1.06491502e-01,   2.69707408e-01,\n",
       "         -1.12174840e-01,   2.09703061e-02,   1.05975976e-02,\n",
       "         -1.39087160e-01,  -3.52404554e-01,   9.88694648e-03,\n",
       "          6.49113484e-02,  -2.23550917e-02,  -1.18068167e-01,\n",
       "          0.00000000e+00,   9.89953453e-03,   1.02009612e-01,\n",
       "          2.27655218e-02,  -8.68232707e-02,   1.35355759e-01,\n",
       "          1.71610786e-01,   1.11538808e-01,  -4.40332136e-02,\n",
       "         -1.86953086e-01,   0.00000000e+00,   2.95598783e-02,\n",
       "          3.31942905e-02,  -5.07132618e-15,  -1.54010276e-01,\n",
       "         -2.74369842e-01,   8.00080012e-02,   6.50103393e-02,\n",
       "          1.03010705e-02,  -1.95409558e-01,  -3.97091854e-01,\n",
       "         -4.87134336e-01,  -6.73756164e-01,   0.00000000e+00,\n",
       "         -1.69610344e-01,  -2.35946132e-01,  -2.26647603e-01,\n",
       "         -3.97628103e-01,  -5.81511568e-01,  -7.72286113e-01,\n",
       "         -9.45648891e-01,  -3.14814418e-01,  -4.39968211e-01,\n",
       "         -5.75317495e-01,   0.00000000e+00,  -9.12115452e-01,\n",
       "          0.00000000e+00,  -1.08407713e+00,   0.00000000e+00,\n",
       "          0.00000000e+00]])"
      ]
     },
     "execution_count": 104,
     "metadata": {},
     "output_type": "execute_result"
    }
   ],
   "source": [
    "CArray[: , array_mask1]"
   ]
  },
  {
   "cell_type": "code",
   "execution_count": 119,
   "metadata": {
    "collapsed": true
   },
   "outputs": [],
   "source": [
    "mean_yield = np.array([EArray[i][np.where((array_mask) & (EArray[i] != -9999.))].mean() for i in range(EArray.shape[0])])\n",
    "\n",
    "def calc_corr(month, files):\n",
    "    mimage = MultiImages(files[month])\n",
    "    CArray = mimage.AllArrays\n",
    "    mean_climate = np.array([CArray[i][np.where((array_mask) & (EArray[i] != -9999.))].mean() for i in range(EArray.shape[0])])\n",
    "    return np.corrcoef(mean_yield, mean_climate)[0][1]\n",
    "\n",
    "files = [[\"/home/faizan/HDD1/anomaly/cru_pak.%d.%02d.tmx.anomaly.sindh.tif\" % \\\n",
    "          (year, month) for year in range(2002, 2014)] for month in range(1, 13)]\n",
    "tmx_corr = np.array([calc_corr(month, files) for month in range(12)])\n",
    "\n",
    "files = [[\"/home/faizan/HDD1/anomaly/cru_pak.%d.%02d.tmn.anomaly.sindh.tif\" % \\\n",
    "          (year, month) for year in range(2002, 2014)] for month in range(1, 13)]\n",
    "tmn_corr = np.array([calc_corr(month, files) for month in range(12)])\n",
    "\n",
    "files = [[\"/home/faizan/HDD1/anomaly/cru_pak.%d.%02d.pre.anomaly.sindh.tif\" % \\\n",
    "          (year, month) for year in range(2002, 2014)] for month in range(1, 13)]\n",
    "pre_corr = np.array([calc_corr(month, files) for month in range(12)])\n",
    "\n",
    "files = [[\"/home/faizan/HDD1/anomaly/cru_pak.%d.%02d.pet.anomaly.sindh.tif\" % \\\n",
    "          (year, month) for year in range(2002, 2014)] for month in range(1, 13)]\n",
    "pet_corr = np.array([calc_corr(month, files) for month in range(12)])"
   ]
  },
  {
   "cell_type": "code",
   "execution_count": 133,
   "metadata": {
    "collapsed": false
   },
   "outputs": [
    {
     "data": {
      "image/png": "[encoded data removed]",
      "text/plain": [
       "<matplotlib.figure.Figure at 0x7fe17fa28f10>"
      ]
     },
     "metadata": {},
     "output_type": "display_data"
    }
   ],
   "source": [
    "plt.figure(figsize=(10, 6))\n",
    "plt.setp(plt.gca().get_xticklabels(), fontsize=15, visible=True, rotation=30)\n",
    "plt.setp(plt.gca().get_yticklabels(), fontsize=15, visible=True)\n",
    "plt.plot(range(1,13), tmx_corr, \"ro-\", lw=2, markeredgecolor=\"r\", markersize=7, label=\"Max temp.\")\n",
    "plt.plot(range(1,13), tmn_corr, \"go-\", lw=2, markeredgecolor=\"g\", markersize=7, label=\"Min temp.\")\n",
    "plt.plot(range(1,13), pre_corr, \"bo-\", lw=2, markeredgecolor=\"b\", markersize=7, label=\"Precipitation\")\n",
    "plt.plot(range(1,13), pet_corr, \"ko-\", lw=2, markeredgecolor=\"k\", markersize=7, label=\"Potential ET\")\n",
    "plt.ylabel(\"Correlation coefficient\", fontsize=15)\n",
    "plt.ylim(-1., 1.)\n",
    "plt.xlabel(\"Month\", fontsize=15)\n",
    "plt.xlim(0.5, 12.5)\n",
    "plt.xticks([i for i in range(1, 13)], [\"Jan\",\"Feb\",\"Mar\", \"Apr\", \"May\", \"Jun\", \"Jul\", \"Aug\", \"Sep\", \"Oct\", \"Nov\", \"Dec\"])\n",
    "plt.yticks([i / 10. for i in range(-10, 11, 2)])\n",
    "plt.grid()\n",
    "plt.legend(loc=2, ncol=2)\n",
    "plt.hlines([0.], 0, 13, linestyles=\"dashed\", colors=\"red\")\n",
    "plt.savefig(\"/home/faizan/Pakistan/EVI/images/EVI_corr.png\")\n",
    "plt.show()"
   ]
  },
  {
   "cell_type": "code",
   "execution_count": 127,
   "metadata": {
    "collapsed": false
   },
   "outputs": [
    {
     "data": {
      "text/plain": [
       "<matplotlib.figure.Figure at 0x7fe17f9ac650>"
      ]
     },
     "metadata": {},
     "output_type": "display_data"
    }
   ],
   "source": []
  },
  {
   "cell_type": "code",
   "execution_count": 123,
   "metadata": {
    "collapsed": false
   },
   "outputs": [],
   "source": [
    "mean_yield = np.array([EArray[i][np.where((array_mask) & (EArray[i] != -9999.))].mean() for i in range(EArray.shape[0])])\n",
    "\n",
    "def calc_corr(month, files):\n",
    "    mimage = MultiImages(files[month])\n",
    "    CArray = mimage.AllArrays\n",
    "    mean_climate = np.array([CArray[i][np.where((array_mask) & (EArray[i] != -9999.))].mean() for i in range(EArray.shape[0])])\n",
    "    return np.corrcoef(mean_yield, mean_climate)[0][1]\n",
    "\n",
    "files = [[\"/home/faizan/HDD1/anomaly/cru_pak.%d.%02d.tmx.anomaly.sindh.tif\" % \\\n",
    "          (year, month) for year in range(2002, 2014)] for month in range(1, 13)]\n",
    "tmx_corr = np.array([calc_corr(month, files) for month in range(12)])\n",
    "\n",
    "files = [[\"/home/faizan/HDD1/anomaly/cru_pak.%d.%02d.tmn.anomaly.sindh.tif\" % \\\n",
    "          (year, month) for year in range(2002, 2014)] for month in range(1, 13)]\n",
    "tmn_corr = np.array([calc_corr(month, files) for month in range(12)])\n",
    "\n",
    "files = [[\"/home/faizan/HDD1/anomaly/cru_pak.%d.%02d.pre.anomaly.sindh.tif\" % \\\n",
    "          (year, month) for year in range(2002, 2014)] for month in range(1, 13)]\n",
    "pre_corr = np.array([calc_corr(month, files) for month in range(12)])\n",
    "\n",
    "files = [[\"/home/faizan/HDD1/anomaly/cru_pak.%d.%02d.pet.anomaly.sindh.tif\" % \\\n",
    "          (year, month) for year in range(2002, 2014)] for month in range(1, 13)]\n",
    "pet_corr = np.array([calc_corr(month, files) for month in range(12)])\n",
    "\n",
    "files = [[\"/home/faizan/HDD1/anomaly/cru_pak.%d.%02d.tmp.anomaly.sindh.tif\" % \\\n",
    "          (year, month) for year in range(2002, 2014)] for month in range(1, 13)]\n",
    "tmp_corr = np.array([calc_corr(month, files) for month in range(12)])\n",
    "\n",
    "files = [[\"/home/faizan/HDD1/anomaly/cru_pak.%d.%02d.dtr.anomaly.sindh.tif\" % \\\n",
    "          (year, month) for year in range(2002, 2014)] for month in range(1, 13)]\n",
    "dtr_corr = np.array([calc_corr(month, files) for month in range(12)])\n",
    "\n",
    "files = [[\"/home/faizan/HDD1/anomaly/cru_pak.%d.%02d.wet.anomaly.sindh.tif\" % \\\n",
    "          (year, month) for year in range(2002, 2014)] for month in range(1, 13)]\n",
    "wet_corr = np.array([calc_corr(month, files) for month in range(12)])\n",
    "\n",
    "files = [[\"/home/faizan/HDD1/anomaly/cru_pak.%d.%02d.vap.anomaly.sindh.tif\" % \\\n",
    "          (year, month) for year in range(2002, 2014)] for month in range(1, 13)]\n",
    "vap_corr = np.array([calc_corr(month, files) for month in range(12)])"
   ]
  },
  {
   "cell_type": "code",
   "execution_count": 122,
   "metadata": {
    "collapsed": false
   },
   "outputs": [
    {
     "data": {
      "text/plain": [
       "[['/home/faizan/HDD1/anomaly/cru_pak.2002.01.tmp.anomaly.sindh.tif',\n",
       "  '/home/faizan/HDD1/anomaly/cru_pak.2003.01.tmp.anomaly.sindh.tif',\n",
       "  '/home/faizan/HDD1/anomaly/cru_pak.2004.01.tmp.anomaly.sindh.tif',\n",
       "  '/home/faizan/HDD1/anomaly/cru_pak.2005.01.tmp.anomaly.sindh.tif',\n",
       "  '/home/faizan/HDD1/anomaly/cru_pak.2006.01.tmp.anomaly.sindh.tif',\n",
       "  '/home/faizan/HDD1/anomaly/cru_pak.2007.01.tmp.anomaly.sindh.tif',\n",
       "  '/home/faizan/HDD1/anomaly/cru_pak.2008.01.tmp.anomaly.sindh.tif',\n",
       "  '/home/faizan/HDD1/anomaly/cru_pak.2009.01.tmp.anomaly.sindh.tif',\n",
       "  '/home/faizan/HDD1/anomaly/cru_pak.2010.01.tmp.anomaly.sindh.tif',\n",
       "  '/home/faizan/HDD1/anomaly/cru_pak.2011.01.tmp.anomaly.sindh.tif',\n",
       "  '/home/faizan/HDD1/anomaly/cru_pak.2012.01.tmp.anomaly.sindh.tif',\n",
       "  '/home/faizan/HDD1/anomaly/cru_pak.2013.01.tmp.anomaly.sindh.tif'],\n",
       " ['/home/faizan/HDD1/anomaly/cru_pak.2002.02.tmp.anomaly.sindh.tif',\n",
       "  '/home/faizan/HDD1/anomaly/cru_pak.2003.02.tmp.anomaly.sindh.tif',\n",
       "  '/home/faizan/HDD1/anomaly/cru_pak.2004.02.tmp.anomaly.sindh.tif',\n",
       "  '/home/faizan/HDD1/anomaly/cru_pak.2005.02.tmp.anomaly.sindh.tif',\n",
       "  '/home/faizan/HDD1/anomaly/cru_pak.2006.02.tmp.anomaly.sindh.tif',\n",
       "  '/home/faizan/HDD1/anomaly/cru_pak.2007.02.tmp.anomaly.sindh.tif',\n",
       "  '/home/faizan/HDD1/anomaly/cru_pak.2008.02.tmp.anomaly.sindh.tif',\n",
       "  '/home/faizan/HDD1/anomaly/cru_pak.2009.02.tmp.anomaly.sindh.tif',\n",
       "  '/home/faizan/HDD1/anomaly/cru_pak.2010.02.tmp.anomaly.sindh.tif',\n",
       "  '/home/faizan/HDD1/anomaly/cru_pak.2011.02.tmp.anomaly.sindh.tif',\n",
       "  '/home/faizan/HDD1/anomaly/cru_pak.2012.02.tmp.anomaly.sindh.tif',\n",
       "  '/home/faizan/HDD1/anomaly/cru_pak.2013.02.tmp.anomaly.sindh.tif'],\n",
       " ['/home/faizan/HDD1/anomaly/cru_pak.2002.03.tmp.anomaly.sindh.tif',\n",
       "  '/home/faizan/HDD1/anomaly/cru_pak.2003.03.tmp.anomaly.sindh.tif',\n",
       "  '/home/faizan/HDD1/anomaly/cru_pak.2004.03.tmp.anomaly.sindh.tif',\n",
       "  '/home/faizan/HDD1/anomaly/cru_pak.2005.03.tmp.anomaly.sindh.tif',\n",
       "  '/home/faizan/HDD1/anomaly/cru_pak.2006.03.tmp.anomaly.sindh.tif',\n",
       "  '/home/faizan/HDD1/anomaly/cru_pak.2007.03.tmp.anomaly.sindh.tif',\n",
       "  '/home/faizan/HDD1/anomaly/cru_pak.2008.03.tmp.anomaly.sindh.tif',\n",
       "  '/home/faizan/HDD1/anomaly/cru_pak.2009.03.tmp.anomaly.sindh.tif',\n",
       "  '/home/faizan/HDD1/anomaly/cru_pak.2010.03.tmp.anomaly.sindh.tif',\n",
       "  '/home/faizan/HDD1/anomaly/cru_pak.2011.03.tmp.anomaly.sindh.tif',\n",
       "  '/home/faizan/HDD1/anomaly/cru_pak.2012.03.tmp.anomaly.sindh.tif',\n",
       "  '/home/faizan/HDD1/anomaly/cru_pak.2013.03.tmp.anomaly.sindh.tif'],\n",
       " ['/home/faizan/HDD1/anomaly/cru_pak.2002.04.tmp.anomaly.sindh.tif',\n",
       "  '/home/faizan/HDD1/anomaly/cru_pak.2003.04.tmp.anomaly.sindh.tif',\n",
       "  '/home/faizan/HDD1/anomaly/cru_pak.2004.04.tmp.anomaly.sindh.tif',\n",
       "  '/home/faizan/HDD1/anomaly/cru_pak.2005.04.tmp.anomaly.sindh.tif',\n",
       "  '/home/faizan/HDD1/anomaly/cru_pak.2006.04.tmp.anomaly.sindh.tif',\n",
       "  '/home/faizan/HDD1/anomaly/cru_pak.2007.04.tmp.anomaly.sindh.tif',\n",
       "  '/home/faizan/HDD1/anomaly/cru_pak.2008.04.tmp.anomaly.sindh.tif',\n",
       "  '/home/faizan/HDD1/anomaly/cru_pak.2009.04.tmp.anomaly.sindh.tif',\n",
       "  '/home/faizan/HDD1/anomaly/cru_pak.2010.04.tmp.anomaly.sindh.tif',\n",
       "  '/home/faizan/HDD1/anomaly/cru_pak.2011.04.tmp.anomaly.sindh.tif',\n",
       "  '/home/faizan/HDD1/anomaly/cru_pak.2012.04.tmp.anomaly.sindh.tif',\n",
       "  '/home/faizan/HDD1/anomaly/cru_pak.2013.04.tmp.anomaly.sindh.tif'],\n",
       " ['/home/faizan/HDD1/anomaly/cru_pak.2002.05.tmp.anomaly.sindh.tif',\n",
       "  '/home/faizan/HDD1/anomaly/cru_pak.2003.05.tmp.anomaly.sindh.tif',\n",
       "  '/home/faizan/HDD1/anomaly/cru_pak.2004.05.tmp.anomaly.sindh.tif',\n",
       "  '/home/faizan/HDD1/anomaly/cru_pak.2005.05.tmp.anomaly.sindh.tif',\n",
       "  '/home/faizan/HDD1/anomaly/cru_pak.2006.05.tmp.anomaly.sindh.tif',\n",
       "  '/home/faizan/HDD1/anomaly/cru_pak.2007.05.tmp.anomaly.sindh.tif',\n",
       "  '/home/faizan/HDD1/anomaly/cru_pak.2008.05.tmp.anomaly.sindh.tif',\n",
       "  '/home/faizan/HDD1/anomaly/cru_pak.2009.05.tmp.anomaly.sindh.tif',\n",
       "  '/home/faizan/HDD1/anomaly/cru_pak.2010.05.tmp.anomaly.sindh.tif',\n",
       "  '/home/faizan/HDD1/anomaly/cru_pak.2011.05.tmp.anomaly.sindh.tif',\n",
       "  '/home/faizan/HDD1/anomaly/cru_pak.2012.05.tmp.anomaly.sindh.tif',\n",
       "  '/home/faizan/HDD1/anomaly/cru_pak.2013.05.tmp.anomaly.sindh.tif'],\n",
       " ['/home/faizan/HDD1/anomaly/cru_pak.2002.06.tmp.anomaly.sindh.tif',\n",
       "  '/home/faizan/HDD1/anomaly/cru_pak.2003.06.tmp.anomaly.sindh.tif',\n",
       "  '/home/faizan/HDD1/anomaly/cru_pak.2004.06.tmp.anomaly.sindh.tif',\n",
       "  '/home/faizan/HDD1/anomaly/cru_pak.2005.06.tmp.anomaly.sindh.tif',\n",
       "  '/home/faizan/HDD1/anomaly/cru_pak.2006.06.tmp.anomaly.sindh.tif',\n",
       "  '/home/faizan/HDD1/anomaly/cru_pak.2007.06.tmp.anomaly.sindh.tif',\n",
       "  '/home/faizan/HDD1/anomaly/cru_pak.2008.06.tmp.anomaly.sindh.tif',\n",
       "  '/home/faizan/HDD1/anomaly/cru_pak.2009.06.tmp.anomaly.sindh.tif',\n",
       "  '/home/faizan/HDD1/anomaly/cru_pak.2010.06.tmp.anomaly.sindh.tif',\n",
       "  '/home/faizan/HDD1/anomaly/cru_pak.2011.06.tmp.anomaly.sindh.tif',\n",
       "  '/home/faizan/HDD1/anomaly/cru_pak.2012.06.tmp.anomaly.sindh.tif',\n",
       "  '/home/faizan/HDD1/anomaly/cru_pak.2013.06.tmp.anomaly.sindh.tif'],\n",
       " ['/home/faizan/HDD1/anomaly/cru_pak.2002.07.tmp.anomaly.sindh.tif',\n",
       "  '/home/faizan/HDD1/anomaly/cru_pak.2003.07.tmp.anomaly.sindh.tif',\n",
       "  '/home/faizan/HDD1/anomaly/cru_pak.2004.07.tmp.anomaly.sindh.tif',\n",
       "  '/home/faizan/HDD1/anomaly/cru_pak.2005.07.tmp.anomaly.sindh.tif',\n",
       "  '/home/faizan/HDD1/anomaly/cru_pak.2006.07.tmp.anomaly.sindh.tif',\n",
       "  '/home/faizan/HDD1/anomaly/cru_pak.2007.07.tmp.anomaly.sindh.tif',\n",
       "  '/home/faizan/HDD1/anomaly/cru_pak.2008.07.tmp.anomaly.sindh.tif',\n",
       "  '/home/faizan/HDD1/anomaly/cru_pak.2009.07.tmp.anomaly.sindh.tif',\n",
       "  '/home/faizan/HDD1/anomaly/cru_pak.2010.07.tmp.anomaly.sindh.tif',\n",
       "  '/home/faizan/HDD1/anomaly/cru_pak.2011.07.tmp.anomaly.sindh.tif',\n",
       "  '/home/faizan/HDD1/anomaly/cru_pak.2012.07.tmp.anomaly.sindh.tif',\n",
       "  '/home/faizan/HDD1/anomaly/cru_pak.2013.07.tmp.anomaly.sindh.tif'],\n",
       " ['/home/faizan/HDD1/anomaly/cru_pak.2002.08.tmp.anomaly.sindh.tif',\n",
       "  '/home/faizan/HDD1/anomaly/cru_pak.2003.08.tmp.anomaly.sindh.tif',\n",
       "  '/home/faizan/HDD1/anomaly/cru_pak.2004.08.tmp.anomaly.sindh.tif',\n",
       "  '/home/faizan/HDD1/anomaly/cru_pak.2005.08.tmp.anomaly.sindh.tif',\n",
       "  '/home/faizan/HDD1/anomaly/cru_pak.2006.08.tmp.anomaly.sindh.tif',\n",
       "  '/home/faizan/HDD1/anomaly/cru_pak.2007.08.tmp.anomaly.sindh.tif',\n",
       "  '/home/faizan/HDD1/anomaly/cru_pak.2008.08.tmp.anomaly.sindh.tif',\n",
       "  '/home/faizan/HDD1/anomaly/cru_pak.2009.08.tmp.anomaly.sindh.tif',\n",
       "  '/home/faizan/HDD1/anomaly/cru_pak.2010.08.tmp.anomaly.sindh.tif',\n",
       "  '/home/faizan/HDD1/anomaly/cru_pak.2011.08.tmp.anomaly.sindh.tif',\n",
       "  '/home/faizan/HDD1/anomaly/cru_pak.2012.08.tmp.anomaly.sindh.tif',\n",
       "  '/home/faizan/HDD1/anomaly/cru_pak.2013.08.tmp.anomaly.sindh.tif'],\n",
       " ['/home/faizan/HDD1/anomaly/cru_pak.2002.09.tmp.anomaly.sindh.tif',\n",
       "  '/home/faizan/HDD1/anomaly/cru_pak.2003.09.tmp.anomaly.sindh.tif',\n",
       "  '/home/faizan/HDD1/anomaly/cru_pak.2004.09.tmp.anomaly.sindh.tif',\n",
       "  '/home/faizan/HDD1/anomaly/cru_pak.2005.09.tmp.anomaly.sindh.tif',\n",
       "  '/home/faizan/HDD1/anomaly/cru_pak.2006.09.tmp.anomaly.sindh.tif',\n",
       "  '/home/faizan/HDD1/anomaly/cru_pak.2007.09.tmp.anomaly.sindh.tif',\n",
       "  '/home/faizan/HDD1/anomaly/cru_pak.2008.09.tmp.anomaly.sindh.tif',\n",
       "  '/home/faizan/HDD1/anomaly/cru_pak.2009.09.tmp.anomaly.sindh.tif',\n",
       "  '/home/faizan/HDD1/anomaly/cru_pak.2010.09.tmp.anomaly.sindh.tif',\n",
       "  '/home/faizan/HDD1/anomaly/cru_pak.2011.09.tmp.anomaly.sindh.tif',\n",
       "  '/home/faizan/HDD1/anomaly/cru_pak.2012.09.tmp.anomaly.sindh.tif',\n",
       "  '/home/faizan/HDD1/anomaly/cru_pak.2013.09.tmp.anomaly.sindh.tif'],\n",
       " ['/home/faizan/HDD1/anomaly/cru_pak.2002.10.tmp.anomaly.sindh.tif',\n",
       "  '/home/faizan/HDD1/anomaly/cru_pak.2003.10.tmp.anomaly.sindh.tif',\n",
       "  '/home/faizan/HDD1/anomaly/cru_pak.2004.10.tmp.anomaly.sindh.tif',\n",
       "  '/home/faizan/HDD1/anomaly/cru_pak.2005.10.tmp.anomaly.sindh.tif',\n",
       "  '/home/faizan/HDD1/anomaly/cru_pak.2006.10.tmp.anomaly.sindh.tif',\n",
       "  '/home/faizan/HDD1/anomaly/cru_pak.2007.10.tmp.anomaly.sindh.tif',\n",
       "  '/home/faizan/HDD1/anomaly/cru_pak.2008.10.tmp.anomaly.sindh.tif',\n",
       "  '/home/faizan/HDD1/anomaly/cru_pak.2009.10.tmp.anomaly.sindh.tif',\n",
       "  '/home/faizan/HDD1/anomaly/cru_pak.2010.10.tmp.anomaly.sindh.tif',\n",
       "  '/home/faizan/HDD1/anomaly/cru_pak.2011.10.tmp.anomaly.sindh.tif',\n",
       "  '/home/faizan/HDD1/anomaly/cru_pak.2012.10.tmp.anomaly.sindh.tif',\n",
       "  '/home/faizan/HDD1/anomaly/cru_pak.2013.10.tmp.anomaly.sindh.tif'],\n",
       " ['/home/faizan/HDD1/anomaly/cru_pak.2002.11.tmp.anomaly.sindh.tif',\n",
       "  '/home/faizan/HDD1/anomaly/cru_pak.2003.11.tmp.anomaly.sindh.tif',\n",
       "  '/home/faizan/HDD1/anomaly/cru_pak.2004.11.tmp.anomaly.sindh.tif',\n",
       "  '/home/faizan/HDD1/anomaly/cru_pak.2005.11.tmp.anomaly.sindh.tif',\n",
       "  '/home/faizan/HDD1/anomaly/cru_pak.2006.11.tmp.anomaly.sindh.tif',\n",
       "  '/home/faizan/HDD1/anomaly/cru_pak.2007.11.tmp.anomaly.sindh.tif',\n",
       "  '/home/faizan/HDD1/anomaly/cru_pak.2008.11.tmp.anomaly.sindh.tif',\n",
       "  '/home/faizan/HDD1/anomaly/cru_pak.2009.11.tmp.anomaly.sindh.tif',\n",
       "  '/home/faizan/HDD1/anomaly/cru_pak.2010.11.tmp.anomaly.sindh.tif',\n",
       "  '/home/faizan/HDD1/anomaly/cru_pak.2011.11.tmp.anomaly.sindh.tif',\n",
       "  '/home/faizan/HDD1/anomaly/cru_pak.2012.11.tmp.anomaly.sindh.tif',\n",
       "  '/home/faizan/HDD1/anomaly/cru_pak.2013.11.tmp.anomaly.sindh.tif'],\n",
       " ['/home/faizan/HDD1/anomaly/cru_pak.2002.12.tmp.anomaly.sindh.tif',\n",
       "  '/home/faizan/HDD1/anomaly/cru_pak.2003.12.tmp.anomaly.sindh.tif',\n",
       "  '/home/faizan/HDD1/anomaly/cru_pak.2004.12.tmp.anomaly.sindh.tif',\n",
       "  '/home/faizan/HDD1/anomaly/cru_pak.2005.12.tmp.anomaly.sindh.tif',\n",
       "  '/home/faizan/HDD1/anomaly/cru_pak.2006.12.tmp.anomaly.sindh.tif',\n",
       "  '/home/faizan/HDD1/anomaly/cru_pak.2007.12.tmp.anomaly.sindh.tif',\n",
       "  '/home/faizan/HDD1/anomaly/cru_pak.2008.12.tmp.anomaly.sindh.tif',\n",
       "  '/home/faizan/HDD1/anomaly/cru_pak.2009.12.tmp.anomaly.sindh.tif',\n",
       "  '/home/faizan/HDD1/anomaly/cru_pak.2010.12.tmp.anomaly.sindh.tif',\n",
       "  '/home/faizan/HDD1/anomaly/cru_pak.2011.12.tmp.anomaly.sindh.tif',\n",
       "  '/home/faizan/HDD1/anomaly/cru_pak.2012.12.tmp.anomaly.sindh.tif',\n",
       "  '/home/faizan/HDD1/anomaly/cru_pak.2013.12.tmp.anomaly.sindh.tif']]"
      ]
     },
     "execution_count": 122,
     "metadata": {},
     "output_type": "execute_result"
    }
   ],
   "source": [
    "files = [[\"/home/faizan/HDD1/anomaly/cru_pak.%d.%02d.tmp.anomaly.sindh.tif\" % \\\n",
    "          (year, month) for year in range(2002, 2014)] for month in range(1, 13)]\n",
    "files"
   ]
  },
  {
   "cell_type": "code",
   "execution_count": 132,
   "metadata": {
    "collapsed": false
   },
   "outputs": [
    {
     "data": {
      "image/png": "[encoded data removed]",
      "text/plain": [
       "<matplotlib.figure.Figure at 0x7fe17fa185d0>"
      ]
     },
     "metadata": {},
     "output_type": "display_data"
    }
   ],
   "source": [
    "plt.figure(figsize=(10, 6))\n",
    "plt.setp(plt.gca().get_xticklabels(), fontsize=15, visible=True, rotation=30)\n",
    "plt.setp(plt.gca().get_yticklabels(), fontsize=15, visible=True)\n",
    "plt.plot(range(1,13), tmx_corr, \"ro-\", lw=2, markeredgecolor=\"r\", markersize=7, label=\"Max temp.\")\n",
    "plt.plot(range(1,13), tmn_corr, \"go-\", lw=2, markeredgecolor=\"g\", markersize=7, label=\"Min temp.\")\n",
    "plt.plot(range(1,13), pre_corr, \"bo-\", lw=2, markeredgecolor=\"b\", markersize=7, label=\"Precipitation\")\n",
    "plt.plot(range(1,13), pet_corr, \"ko-\", lw=2, markeredgecolor=\"k\", markersize=7, label=\"Potential ET\")\n",
    "plt.plot(range(1,13), tmp_corr, \"r--\", lw=2, markeredgecolor=\"r\", markersize=7, label=\"Mean temp.\")\n",
    "plt.plot(range(1,13), dtr_corr, \"k--\", lw=2, markeredgecolor=\"k\", markersize=7, label=\"Durinal temp\")\n",
    "plt.plot(range(1,13), wet_corr, \"y--\", lw=2, markeredgecolor=\"y\", markersize=7, label=\"Wet day freq\")\n",
    "plt.plot(range(1,13), vap_corr, \"b--\", lw=2, markeredgecolor=\"b\", markersize=7, label=\"Vapor pressure\")\n",
    "plt.ylabel(\"Correlation coefficient\", fontsize=15)\n",
    "plt.ylim(-1., 1.)\n",
    "plt.xlabel(\"Month\", fontsize=15)\n",
    "plt.xlim(0.5, 12.5)\n",
    "plt.xticks([i for i in range(1, 13)], [\"Jan\",\"Feb\",\"Mar\", \"Apr\", \"May\", \"Jun\", \"Jul\", \"Aug\", \"Sep\", \"Oct\", \"Nov\", \"Dec\"])\n",
    "plt.yticks([i / 10. for i in range(-10, 11, 2)])\n",
    "plt.grid()\n",
    "plt.legend(loc=2, ncol=2)\n",
    "plt.hlines([0.], 0, 13, linestyles=\"dashed\", colors=\"red\")\n",
    "plt.savefig(\"/home/faizan/Pakistan/EVI/images/EVI_corr_All.png\")\n",
    "plt.show()"
   ]
  },
  {
   "cell_type": "code",
   "execution_count": 125,
   "metadata": {
    "collapsed": false
   },
   "outputs": [
    {
     "data": {
      "text/plain": [
       "<matplotlib.figure.Figure at 0x7fe1a4530ad0>"
      ]
     },
     "metadata": {},
     "output_type": "display_data"
    }
   ],
   "source": []
  },
  {
   "cell_type": "code",
   "execution_count": null,
   "metadata": {
    "collapsed": true
   },
   "outputs": [],
   "source": []
  }
 ],
 "metadata": {
  "kernelspec": {
   "display_name": "Python 2",
   "language": "python",
   "name": "python2"
  },
  "language_info": {
   "codemirror_mode": {
    "name": "ipython",
    "version": 2
   },
   "file_extension": ".py",
   "mimetype": "text/x-python",
   "name": "python",
   "nbconvert_exporter": "python",
   "pygments_lexer": "ipython2",
   "version": "2.7.6"
  }
 },
 "nbformat": 4,
 "nbformat_minor": 0
}
