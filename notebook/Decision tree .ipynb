{
 "metadata": {
  "name": "",
  "signature": "sha256:c87c2470d7338bcf8831dbedb3c1cf82907d7c00e5e1c95eefe5008dffe13a65"
 },
 "nbformat": 3,
 "nbformat_minor": 0,
 "worksheets": [
  {
   "cells": [
    {
     "cell_type": "code",
     "collapsed": false,
     "input": [
      "import pandas as pd\n",
      "import csv\n",
      "import numpy as np\n",
      "from sklearn import tree \n",
      "path= \"/home/faizan/Desktop/machine/evii.csv\" \n",
      "data = pd.read_csv(path)\n",
      "data.columns = [\"0\"]\n",
      "data1 = pd.read_csv(\"/home/faizan/Desktop/machine/lswi.csv\")\n",
      "data1.columns = [\"0\"]\n",
      "data2 = pd.read_csv(\"/home/faizan/Desktop/machine/dvel.csv\")\n",
      "data2.columns = [\"0\"]\n",
      "data3 = pd.read_csv(\"/home/faizan/Desktop/machine/flood.csv\")\n",
      "data3.columns = [\"0\"]\n",
      "O=[]\n",
      "X=[]\n",
      "for i in data.index:\n",
      "    Y=[]\n",
      "    Y.append((data[\"0\"][i]))\n",
      "    Y.append((data1[\"0\"][i]))\n",
      "    Y.append((data2[\"0\"][i]))\n",
      "    X.append(Y)\n",
      "    O.append(data3[\"0\"][i])\n",
      "    #print (data1[\"0\"][i])\n",
      "clf=tree.DecisionTreeClassifier()\n",
      "clf= clf.fit(X,O)\n",
      "#np.savetxt(\"/home/faizan/Desktop/machine/trainig.csv\",X, delimiter=\",\")\n"
     ],
     "language": "python",
     "metadata": {},
     "outputs": [],
     "prompt_number": 2
    },
    {
     "cell_type": "code",
     "collapsed": false,
     "input": [
      "from sklearn.cross_validation import cross_val_score\n",
      "score = cross_val_score(clf, X, O)\n",
      "score.mean()"
     ],
     "language": "python",
     "metadata": {},
     "outputs": [
      {
       "metadata": {},
       "output_type": "pyout",
       "prompt_number": 3,
       "text": [
        "0.99968201999722162"
       ]
      }
     ],
     "prompt_number": 3
    },
    {
     "cell_type": "code",
     "collapsed": false,
     "input": [
      "Y= clf.predict(X)\n",
      "clf.predict_proba(X)\n",
      "np.savetxt(\"/home/faizan/Desktop/machine/result.csv\",Y, delimiter=\",\")"
     ],
     "language": "python",
     "metadata": {},
     "outputs": []
    },
    {
     "cell_type": "code",
     "collapsed": false,
     "input": [],
     "language": "python",
     "metadata": {},
     "outputs": []
    },
    {
     "cell_type": "code",
     "collapsed": false,
     "input": [
      "from sklearn.datasets import load_iris\n",
      "from sklearn import tree\n",
      "iris = load_iris()\n",
      "clf= tree.DecisionTreeClassifier()\n",
      "clf= clf.fit(iris.data, iris.target)"
     ],
     "language": "python",
     "metadata": {},
     "outputs": []
    },
    {
     "cell_type": "code",
     "collapsed": false,
     "input": [
      "from sklearn.externals.six import StringIO\n",
      "with open(\"iris.dot\", 'w') as f:\n",
      "    f = tree.export_graphviz(clf, out_file=f)"
     ],
     "language": "python",
     "metadata": {},
     "outputs": []
    },
    {
     "cell_type": "code",
     "collapsed": false,
     "input": [
      "import os\n",
      "os.unlink('iris.dot')"
     ],
     "language": "python",
     "metadata": {},
     "outputs": []
    },
    {
     "cell_type": "code",
     "collapsed": false,
     "input": [
      "from sklearn.externals.six import StringIO\n",
      "import pydot\n",
      "dot_data=StringIO()\n",
      "tree.export_graphviz(clf, out_file=dot_data)\n",
      "graph = pydot.graph_from_dot_data(dot_data.getvalue())\n",
      "graph.write_pdf(\"/home/faizan/Desktop/machine/iris.pdf\")"
     ],
     "language": "python",
     "metadata": {},
     "outputs": []
    }
   ],
   "metadata": {}
  }
 ]
}