{
 "cells": [
  {
   "cell_type": "code",
   "execution_count": 1,
   "metadata": {
    "collapsed": false
   },
   "outputs": [],
   "source": [
    "from osgeo import gdal\n",
    "import numpy\n",
    "from numpy.core.umath import add, subtract\n",
    "\n",
    "\n",
    "class MDimage(object):\n",
    "    def __init__(self, filepath):\n",
    "        self.filepath = filepath\n",
    "        self.ds = gdal.Open(filepath, gdal.GA_ReadOnly)\n",
    "        self.iminfo = dict()\n",
    "        self.iminfo['bandnum'] = self.ds.RasterCount\n",
    "        self.iminfo['cols'] = self.ds.RasterXSize\n",
    "        self.iminfo['rows'] = self.ds.RasterYSize\n",
    "        self.iminfo['originX'] = self.ds.GetGeoTransform()[0]\n",
    "        self.iminfo['originY'] = self.ds.GetGeoTransform()[3]\n",
    "        self.iminfo['pixelWidth'] = self.ds.GetGeoTransform()[1]\n",
    "        self.iminfo['pixelHeight'] = self.ds.GetGeoTransform()[5]\n",
    "\n",
    "class Index(MDimage):\n",
    "    def __init__(self, filepath):\n",
    "        self.filepath = filepath\n",
    "        super(Index, self).__init__(filepath)\n",
    "\n",
    "    def Band2Array(self):\n",
    "        cols = self.iminfo['cols']\n",
    "        rows = self.iminfo['rows']\n",
    "        band = self.ds.GetRasterBand(1)\n",
    "        array = band.ReadAsArray(0, 0, cols, rows)\n",
    "        #array= array.reshape(cols*rows)\n",
    "        return  array\n",
    " \n",
    "    def WriteArrayAsImage(self, out_fname, outArray):\n",
    "        cols = self.iminfo['cols']\n",
    "        rows = self.iminfo['rows']\n",
    "        driver = self.ds.GetDriver()\n",
    "        self.outArray = outArray\n",
    "        outArray= outArray.reshape([rows,cols])\n",
    "        outDS = driver.Create(out_fname, cols, rows, 1, gdal.GDT_Float32)\n",
    "        outDS.SetGeoTransform(self.ds.GetGeoTransform())\n",
    "        outDS.SetProjection(self.ds.GetProjection())\n",
    "        outBand = outDS.GetRasterBand(1)\n",
    "        outBand.WriteArray(outArray)\n",
    "        outDS = None\n",
    "        del outDS, outBand\n",
    "\n"
   ]
  },
  {
   "cell_type": "code",
   "execution_count": 2,
   "metadata": {
    "collapsed": false
   },
   "outputs": [],
   "source": [
    "path=\"/home/faizan/Desktop/full/\"\n",
    "limage = Index(path+\"A2008153.US.machineflood.tif\")\n",
    "# Get a pixel column number\n",
    "cols = limage.iminfo['cols']\n",
    "# Get pixel row number\n",
    "rows = limage.iminfo['rows']\n",
    "# Get pixel data as array\n",
    "BS = limage.Band2Array()\n",
    "\n"
   ]
  },
  {
   "cell_type": "code",
   "execution_count": 3,
   "metadata": {
    "collapsed": false
   },
   "outputs": [
    {
     "data": {
      "text/plain": [
       "array([[   0.,    0.,    0., ..., -999., -999., -999.],\n",
       "       [-999.,    0.,    0., ..., -999., -999., -999.],\n",
       "       [-999., -999.,    0., ..., -999., -999., -999.],\n",
       "       ..., \n",
       "       [-999., -999., -999., ..., -999., -999., -999.],\n",
       "       [-999., -999., -999., ..., -999., -999., -999.],\n",
       "       [-999., -999., -999., ..., -999., -999., -999.]], dtype=float32)"
      ]
     },
     "execution_count": 3,
     "metadata": {},
     "output_type": "execute_result"
    }
   ],
   "source": [
    "BS"
   ]
  },
  {
   "cell_type": "code",
   "execution_count": 27,
   "metadata": {
    "collapsed": false
   },
   "outputs": [],
   "source": [
    "import scipy\n",
    "from scipy import misc\n",
    "#scipy.misc.imsave((path+\"PNG.png\"), BS)\n",
    "scipy.misc.toimage(BS,  cmax= 1.0, cmin=0.0,).save(path+ \"PNG1.png\")\n",
    "#convert -background black -opaque '#939393' (path+ \"PNG1.png\") (path+ \"PNG2.png\")"
   ]
  },
  {
   "cell_type": "code",
   "execution_count": 11,
   "metadata": {
    "collapsed": true
   },
   "outputs": [],
   "source": [
    "PN= scipy.misc.imread(path+ \"PNG1.png\")"
   ]
  },
  {
   "cell_type": "code",
   "execution_count": 20,
   "metadata": {
    "collapsed": false
   },
   "outputs": [
    {
     "data": {
      "text/plain": [
       "array([[0, 0, 0, ..., 0, 0, 0],\n",
       "       [0, 0, 0, ..., 0, 0, 0],\n",
       "       [0, 0, 0, ..., 0, 0, 0],\n",
       "       ..., \n",
       "       [0, 0, 0, ..., 0, 0, 0],\n",
       "       [0, 0, 0, ..., 0, 0, 0],\n",
       "       [0, 0, 0, ..., 0, 0, 0]], dtype=uint8)"
      ]
     },
     "execution_count": 20,
     "metadata": {},
     "output_type": "execute_result"
    }
   ],
   "source": [
    "PN"
   ]
  },
  {
   "cell_type": "code",
   "execution_count": 19,
   "metadata": {
    "collapsed": false
   },
   "outputs": [
    {
     "data": {
      "text/plain": [
       "(array([   0,    0,    0, ..., 1999, 1999, 1999]),\n",
       " array([ 175,  176,  177, ..., 4416, 4417, 4418]))"
      ]
     },
     "execution_count": 19,
     "metadata": {},
     "output_type": "execute_result"
    }
   ],
   "source": [
    "P"
   ]
  },
  {
   "cell_type": "code",
   "execution_count": 6,
   "metadata": {
    "collapsed": false
   },
   "outputs": [],
   "source": [
    "import matplotlib.pyplot as plt\n",
    "#%matplotlib inline\n",
    "plt.imshow(BS)\n",
    "plt.savefig(path+\"PNG1.png\")"
   ]
  },
  {
   "cell_type": "code",
   "execution_count": null,
   "metadata": {
    "collapsed": true
   },
   "outputs": [],
   "source": []
  },
  {
   "cell_type": "code",
   "execution_count": 7,
   "metadata": {
    "collapsed": false
   },
   "outputs": [],
   "source": [
    "path=\"/home/faizan/Desktop/full/\"\n",
    "with open('/home/faizan/USA_data/PALSAR/corr/780/list.txt',\"r\") as f:\n",
    "    #g=len(f.readlines())     #print sum(1 for _ in f)\n",
    "    for line in f:\n",
    "        l= line.split(\".\")\n",
    "        #assigning names\n",
    "        bs=path+str(l[0])+\".\"+str(l[1])+\".backscatter_try.tif\"\n",
    "        flood=path+str(l[0])+\".\"+str(l[1])+\".flood.tif\"\n",
    "\n",
    "        # loading images\n",
    "        #red band\n",
    "        limage = Index(bs)\n",
    "        # Get a pixel column number\n",
    "        cols = limage.iminfo['cols']\n",
    "        # Get pixel row number\n",
    "        rows = limage.iminfo['rows']\n",
    "        # Get pixel data as array\n",
    "        BS = limage.Band2Array()\n",
    "\n",
    "        if str(l[0]) == \"HH\":\n",
    "            #calculate Flood\n",
    "            Flood= (limage.CalcFlood_HH(BS))\n",
    "        else:\n",
    "            Flood= (limage.CalcFlood_HV(BS))\n",
    "        #Get Flood as tiff\n",
    "        limage.WriteArrayAsImage(flood, Flood)\n",
    "        del Flood, BS\n",
    "f.close()\n",
    "\n",
    "\n"
   ]
  },
  {
   "cell_type": "code",
   "execution_count": null,
   "metadata": {
    "collapsed": true
   },
   "outputs": [],
   "source": []
  },
  {
   "cell_type": "code",
   "execution_count": null,
   "metadata": {
    "collapsed": false
   },
   "outputs": [],
   "source": []
  }
 ],
 "metadata": {
  "kernelspec": {
   "display_name": "Python 2",
   "language": "python",
   "name": "python2"
  },
  "language_info": {
   "codemirror_mode": {
    "name": "ipython",
    "version": 2
   },
   "file_extension": ".py",
   "mimetype": "text/x-python",
   "name": "python",
   "nbconvert_exporter": "python",
   "pygments_lexer": "ipython2",
   "version": "2.7.6"
  }
 },
 "nbformat": 4,
 "nbformat_minor": 0
}
