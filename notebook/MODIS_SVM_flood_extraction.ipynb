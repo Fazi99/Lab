{
 "cells": [
  {
   "cell_type": "code",
   "execution_count": 1,
   "metadata": {
    "collapsed": false
   },
   "outputs": [],
   "source": [
    "from osgeo import gdal\n",
    "from sklearn import svm\n",
    "import numpy\n",
    "import time\n",
    "from osgeo import gdal\n",
    "from sklearn.externals import joblib\n",
    "from numpy.core.umath import add, subtract\n",
    "import gc\n",
    "from multiprocessing import Pool\n",
    "\n",
    "class MDimage(object):\n",
    "    def __init__(self, filepath):\n",
    "        self.filepath = filepath\n",
    "        self.ds = gdal.Open(filepath, gdal.GA_ReadOnly)\n",
    "        self.iminfo = dict()\n",
    "        self.iminfo['bandnum'] = self.ds.RasterCount\n",
    "        self.iminfo['cols'] = self.ds.RasterXSize\n",
    "        self.iminfo['rows'] = self.ds.RasterYSize\n",
    "        self.iminfo['originX'] = self.ds.GetGeoTransform()[0]\n",
    "        self.iminfo['originY'] = self.ds.GetGeoTransform()[3]\n",
    "        self.iminfo['pixelWidth'] = self.ds.GetGeoTransform()[1]\n",
    "        self.iminfo['pixelHeight'] = self.ds.GetGeoTransform()[5]\n",
    "\n",
    "class Index(MDimage):\n",
    "    def __init__(self, filepath):\n",
    "        self.filepath = filepath\n",
    "        super(Index, self).__init__(filepath)\n",
    "\n",
    "    def index2Array(self,fill):\n",
    "        cols = self.iminfo['cols']\n",
    "        rows = self.iminfo['rows']\n",
    "        band = self.ds.GetRasterBand(1)\n",
    "        array = band.ReadAsArray(0, 0, cols, rows)\n",
    "        array = array.reshape(cols * rows)\n",
    "        return array\n",
    "\n",
    "    def WriteArrayAsImage(self, out_fname, outArray):\n",
    "        cols = self.iminfo['cols']\n",
    "        rows = self.iminfo['rows']\n",
    "        driver = self.ds.GetDriver()\n",
    "        outArray= outArray.reshape([rows,cols])\n",
    "        outDS = driver.Create(out_fname, cols, rows, 1, gdal.GDT_Int16)\n",
    "        outDS.SetGeoTransform(self.ds.GetGeoTransform())\n",
    "        outDS.SetProjection(self.ds.GetProjection())\n",
    "        outBand = outDS.GetRasterBand(1)\n",
    "        outBand.WriteArray(outArray)\n",
    "        outDS = None\n",
    "        del outDS, outBand\n"
   ]
  },
  {
   "cell_type": "code",
   "execution_count": null,
   "metadata": {
    "collapsed": false
   },
   "outputs": [],
   "source": []
  },
  {
   "cell_type": "code",
   "execution_count": 4,
   "metadata": {
    "collapsed": false,
    "scrolled": true
   },
   "outputs": [
    {
     "name": "stdout",
     "output_type": "stream",
     "text": [
      "--- 106.491230011 seconds ---\n",
      "--- 213.402668953 seconds ---\n",
      "--- 316.912408829 seconds ---\n",
      "--- 420.647482872 seconds ---\n",
      "--- 525.899712801 seconds ---\n",
      "--- 633.046846867 seconds ---\n",
      "--- 740.925825834 seconds ---\n",
      "--- 848.826953888 seconds ---\n",
      "--- 954.659779787 seconds ---\n",
      "--- 1057.65199685 seconds ---\n"
     ]
    }
   ],
   "source": [
    "\n",
    "fill=-999\n",
    "\n",
    "#path=\"/home/faizan/USA_data/8days/pakistan8days/\"\n",
    "#np_dir=\"/home/faizan/Desktop/numpy_dir/\"\n",
    "#with open('/home/faizan/USA_data/8days/pakistan8days/list9.txt',\"r\") as f:\n",
    "\n",
    "path=\"/home/faizan/USA_data/h10v0/\"\n",
    "np_dir=\"/home/faizan/Desktop/numpy_dir/\"\n",
    "with open('/home/faizan/USA_data/h10v0/list9.txt',\"r\") as f:\n",
    "    for line in f:\n",
    "        l= line.split(\".\")\n",
    "        \n",
    "        #assigning names test data\n",
    "        evi=path+str(l[0])+\".\"+str(l[1])+\".US.evi.tif\"\n",
    "        lswi=path+str(l[0])+\".\"+str(l[1])+\".US.lswi.tif\"\n",
    "        Oflood = path+str(l[0])+\".\"+str(l[1])+\".svm.flood.tif\"\n",
    "\n",
    "    #Test data\n",
    "        limage = Index(evi)\n",
    "        cols = limage.iminfo['cols']\n",
    "        rows = limage.iminfo['rows']\n",
    "        bandnum= limage.iminfo['bandnum']\n",
    "        EVI = (limage.index2Array(fill))\n",
    "    #Test data\n",
    "        limage = Index(lswi)\n",
    "        LSWI = (limage.index2Array(fill))\n",
    "\n",
    "        Data = numpy.vstack([EVI, LSWI])\n",
    "        del EVI, LSWI\n",
    "        \n",
    "        clf = joblib.load('/home/faizan/Desktop/model/modis_trained.pkl')\n",
    "\n",
    "        def argwrapper(args):\n",
    "            '''\n",
    "            ラッパー関数\n",
    "            '''\n",
    "            return args[0](*args[1:])\n",
    "\n",
    "        def myfunc(x):\n",
    "            '''\n",
    "            並列に計算したい関数\n",
    "            '''\n",
    "            return clf.predict([Data[0][x], Data[1][x], subtract(Data[0][x], Data[1][x])])\n",
    "\n",
    "    #Process \n",
    "        start_time = time.time()\n",
    "        if __name__ == '__main__':\n",
    "            p = Pool(6)\n",
    "            for a in xrange(0, 10):\n",
    "                func_args = []\n",
    "                for i in xrange((len(Data[0])*a)/10, (len(Data[0])*(a+1))/10):\n",
    "                    func_args.append((myfunc, i))\n",
    "                results = numpy.array(p.map(argwrapper, func_args), dtype=numpy.int16)\n",
    "                del func_args\n",
    "                numpy.save(np_dir + \"svm_result%02d\" % a, results)\n",
    "                del results\n",
    "                print(\"--- %s seconds ---\" % (time.time() - start_time))\n",
    "            del Data\n",
    "            p.close()\n",
    "    # Load all array and merge\n",
    "            # load first array\n",
    "            ARRAY = numpy.load(np_dir + \"svm_result00.npy\")\n",
    "\n",
    "            for a in range(1, 10):\n",
    "                dummy = numpy.load(np_dir + \"svm_result%02d.npy\" % (a))\n",
    "                ARRAY = numpy.vstack([ARRAY, dummy])\n",
    "    # Write image \n",
    "            limage.WriteArrayAsImage(Oflood, ARRAY)\n",
    "            del ARRAY, dummy\n",
    "            gc.collect()\n",
    "            \n",
    "f.close()"
   ]
  },
  {
   "cell_type": "code",
   "execution_count": 3,
   "metadata": {
    "collapsed": false
   },
   "outputs": [
    {
     "data": {
      "text/plain": [
       "'/home/faizan/USA_data/h10v0/h11v04A2008153.US.evi.tif'"
      ]
     },
     "execution_count": 3,
     "metadata": {},
     "output_type": "execute_result"
    }
   ],
   "source": [
    "evi"
   ]
  },
  {
   "cell_type": "code",
   "execution_count": null,
   "metadata": {
    "collapsed": true
   },
   "outputs": [],
   "source": []
  }
 ],
 "metadata": {
  "kernelspec": {
   "display_name": "Python 2",
   "language": "python",
   "name": "python2"
  },
  "language_info": {
   "codemirror_mode": {
    "name": "ipython",
    "version": 2
   },
   "file_extension": ".py",
   "mimetype": "text/x-python",
   "name": "python",
   "nbconvert_exporter": "python",
   "pygments_lexer": "ipython2",
   "version": "2.7.6"
  }
 },
 "nbformat": 4,
 "nbformat_minor": 0
}
