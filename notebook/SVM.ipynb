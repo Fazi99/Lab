{
 "metadata": {
  "name": "",
  "signature": "sha256:bfd3ea6da3a7c0e17fe9118b259ef34b407bab958db53aa7eb9a051dc44035ad"
 },
 "nbformat": 3,
 "nbformat_minor": 0,
 "worksheets": [
  {
   "cells": [
    {
     "cell_type": "code",
     "collapsed": false,
     "input": [
      "import pandas as pd\n",
      "import csv\n",
      "import numpy as np\n",
      "from sklearn import svm\n",
      "path= \"/home/faizan/Desktop/full/evic.csv\" \n",
      "data = pd.read_csv(path)\n",
      "data.columns = [\"0\"]\n",
      "data1 = pd.read_csv(\"/home/faizan/Desktop/full/lswic.csv\")\n",
      "data1.columns = [\"0\"]\n",
      "data2 = pd.read_csv(\"/home/faizan/Desktop/full/dvelc.csv\")\n",
      "data2.columns = [\"0\"]\n",
      "data3 = pd.read_csv(\"/home/faizan/Desktop/full/floodc.csv\")\n",
      "data3.columns = [\"0\"]\n",
      "O=[]\n",
      "X=[]\n",
      "for i in data.index:\n",
      "    Y=[]\n",
      "    Y.append((data[\"0\"][i]))\n",
      "    Y.append((data1[\"0\"][i]))\n",
      "    Y.append((data2[\"0\"][i]))\n",
      "    X.append(Y)\n",
      "    O.append(data3[\"0\"][i])\n",
      "    #print (data1[\"0\"][i])\n",
      "clf=svm.SVC()\n",
      "#clf=svm.SVC(gamma=0.001, C=100)\n",
      "#clf= svm.SVC(kernel='linear', C=1.0)\n",
      "\n",
      "clf= clf.fit(X,O)\n",
      "\n",
      "#np.savetxt(\"/home/faizan/Desktop/machine/trainig.csv\",X, delimiter=\",\")\n"
     ],
     "language": "python",
     "metadata": {},
     "outputs": [],
     "prompt_number": 2
    },
    {
     "cell_type": "code",
     "collapsed": false,
     "input": [
      "clf.predict([[-8.335687965154647827e-02,2.015209197998046875e-01,-2.848778069019318182e-01]])"
     ],
     "language": "python",
     "metadata": {},
     "outputs": [
      {
       "metadata": {},
       "output_type": "pyout",
       "prompt_number": 3,
       "text": [
        "array([ 1.])"
       ]
      }
     ],
     "prompt_number": 3
    },
    {
     "cell_type": "code",
     "collapsed": false,
     "input": [
      "len(X)"
     ],
     "language": "python",
     "metadata": {},
     "outputs": [
      {
       "metadata": {},
       "output_type": "pyout",
       "prompt_number": 4,
       "text": [
        "328929"
       ]
      }
     ],
     "prompt_number": 4
    },
    {
     "cell_type": "code",
     "collapsed": false,
     "input": [
      "\"\"\"\n",
      "import pickle\n",
      "s = pickle.dumps(clf)\n",
      "clf2 = pickle.loads(s)\n",
      "\"\"\"\n",
      "#this is more efficient for large array\n",
      "from sklearn.externals import joblib\n",
      "joblib.dump(clf, '/home/faizan/Desktop/full/model.pkl')\n",
      "#clf = joblib.load('/home/faizan/Desktop/full/model.pkl') \n",
      "\"\"\""
     ],
     "language": "python",
     "metadata": {},
     "outputs": [
      {
       "metadata": {},
       "output_type": "pyout",
       "prompt_number": 5,
       "text": [
        "['/home/faizan/Desktop/full/model.pkl',\n",
        " '/home/faizan/Desktop/full/model.pkl_01.npy',\n",
        " '/home/faizan/Desktop/full/model.pkl_02.npy',\n",
        " '/home/faizan/Desktop/full/model.pkl_03.npy',\n",
        " '/home/faizan/Desktop/full/model.pkl_04.npy',\n",
        " '/home/faizan/Desktop/full/model.pkl_05.npy',\n",
        " '/home/faizan/Desktop/full/model.pkl_06.npy',\n",
        " '/home/faizan/Desktop/full/model.pkl_07.npy',\n",
        " '/home/faizan/Desktop/full/model.pkl_08.npy',\n",
        " '/home/faizan/Desktop/full/model.pkl_09.npy',\n",
        " '/home/faizan/Desktop/full/model.pkl_10.npy',\n",
        " '/home/faizan/Desktop/full/model.pkl_11.npy']"
       ]
      }
     ],
     "prompt_number": 5
    },
    {
     "cell_type": "code",
     "collapsed": false,
     "input": [],
     "language": "python",
     "metadata": {},
     "outputs": []
    },
    {
     "cell_type": "code",
     "collapsed": false,
     "input": [],
     "language": "python",
     "metadata": {},
     "outputs": []
    },
    {
     "cell_type": "code",
     "collapsed": false,
     "input": [],
     "language": "python",
     "metadata": {},
     "outputs": []
    },
    {
     "cell_type": "code",
     "collapsed": false,
     "input": [
      "\n",
      "path= \"/home/faizan/Desktop/full/evi1.csv\" \n",
      "data = pd.read_csv(path)\n",
      "data.columns = [\"0\"]\n",
      "data1 = pd.read_csv(\"/home/faizan/Desktop/full/lswi1.csv\")\n",
      "data1.columns = [\"0\"]\n",
      "data2 = pd.read_csv(\"/home/faizan/Desktop/full/dvel1.csv\")\n",
      "data2.columns = [\"0\"]\n",
      "O=[]\n",
      "X=[]\n",
      "for i in data.index:\n",
      "    Y=[]\n",
      "    Y.append((data[\"0\"][i]))\n",
      "    Y.append((data1[\"0\"][i]))\n",
      "    Y.append((data2[\"0\"][i]))\n",
      "    X.append(Y)   "
     ],
     "language": "python",
     "metadata": {},
     "outputs": [
      {
       "ename": "NameError",
       "evalue": "name 'pd' is not defined",
       "output_type": "pyerr",
       "traceback": [
        "\u001b[1;31m---------------------------------------------------------------------------\u001b[0m\n\u001b[1;31mNameError\u001b[0m                                 Traceback (most recent call last)",
        "\u001b[1;32m<ipython-input-1-0a9dcda65e53>\u001b[0m in \u001b[0;36m<module>\u001b[1;34m()\u001b[0m\n\u001b[0;32m      1\u001b[0m \u001b[1;33m\u001b[0m\u001b[0m\n\u001b[0;32m      2\u001b[0m \u001b[0mpath\u001b[0m\u001b[1;33m=\u001b[0m \u001b[1;34m\"/home/faizan/Desktop/full/evi1.csv\"\u001b[0m\u001b[1;33m\u001b[0m\u001b[0m\n\u001b[1;32m----> 3\u001b[1;33m \u001b[0mdata\u001b[0m \u001b[1;33m=\u001b[0m \u001b[0mpd\u001b[0m\u001b[1;33m.\u001b[0m\u001b[0mread_csv\u001b[0m\u001b[1;33m(\u001b[0m\u001b[0mpath\u001b[0m\u001b[1;33m)\u001b[0m\u001b[1;33m\u001b[0m\u001b[0m\n\u001b[0m\u001b[0;32m      4\u001b[0m \u001b[0mdata\u001b[0m\u001b[1;33m.\u001b[0m\u001b[0mcolumns\u001b[0m \u001b[1;33m=\u001b[0m \u001b[1;33m[\u001b[0m\u001b[1;34m\"0\"\u001b[0m\u001b[1;33m]\u001b[0m\u001b[1;33m\u001b[0m\u001b[0m\n\u001b[0;32m      5\u001b[0m \u001b[0mdata1\u001b[0m \u001b[1;33m=\u001b[0m \u001b[0mpd\u001b[0m\u001b[1;33m.\u001b[0m\u001b[0mread_csv\u001b[0m\u001b[1;33m(\u001b[0m\u001b[1;34m\"/home/faizan/Desktop/full/lswi1.csv\"\u001b[0m\u001b[1;33m)\u001b[0m\u001b[1;33m\u001b[0m\u001b[0m\n",
        "\u001b[1;31mNameError\u001b[0m: name 'pd' is not defined"
       ]
      }
     ],
     "prompt_number": 1
    },
    {
     "cell_type": "code",
     "collapsed": false,
     "input": [
      "data= clf.predict(X)"
     ],
     "language": "python",
     "metadata": {},
     "outputs": [],
     "prompt_number": 8
    },
    {
     "cell_type": "code",
     "collapsed": false,
     "input": [
      "np.savetxt(\"/home/faizan/Desktop/full/result1.csv\",data, delimiter=\",\")"
     ],
     "language": "python",
     "metadata": {},
     "outputs": [],
     "prompt_number": 9
    },
    {
     "cell_type": "code",
     "collapsed": false,
     "input": [
      "import matplotlib.pyplot as plt\n",
      "w= clf.coef_[0]\n",
      "print w\n",
      "a= -w[0]/w[1]\n",
      "xx = np.linspace(0,12)\n",
      "yy = a * xx-clf.intercept_[0]/w[1]\n",
      "h0 = plt.plot(xx, yy, 'k-', lable = \"non weighted div\")\n",
      "plt.scatter(X[:,0], X[:1], c=O)\n",
      "plt.legend\n",
      "plt.show()"
     ],
     "language": "python",
     "metadata": {},
     "outputs": []
    },
    {
     "cell_type": "code",
     "collapsed": false,
     "input": [
      "from sklearn.cross_validation import cross_val_score\n",
      "score = cross_val_score(clf, X, O)\n",
      "score.mean()"
     ],
     "language": "python",
     "metadata": {},
     "outputs": [
      {
       "metadata": {},
       "output_type": "pyout",
       "prompt_number": 29,
       "text": [
        "0.98245892104334465"
       ]
      }
     ],
     "prompt_number": 29
    },
    {
     "cell_type": "code",
     "collapsed": false,
     "input": [
      "clf.support_vectors_"
     ],
     "language": "python",
     "metadata": {},
     "outputs": [
      {
       "metadata": {},
       "output_type": "pyout",
       "prompt_number": 3,
       "text": [
        "array([[ -9.99000000e+02,  -9.99000000e+02,  -9.99000000e+02],\n",
        "       [ -9.99000000e+02,  -9.99000000e+02,  -9.99000000e+02],\n",
        "       [  1.38145432e-01,   5.70522994e-02,   8.10931325e-02],\n",
        "       ..., \n",
        "       [  2.34703898e-01,   1.91354766e-01,   4.33491319e-02],\n",
        "       [  2.34703898e-01,   1.91354766e-01,   4.33491319e-02],\n",
        "       [  2.95103043e-01,   2.50523388e-01,   4.45796698e-02]])"
       ]
      }
     ],
     "prompt_number": 3
    },
    {
     "cell_type": "code",
     "collapsed": false,
     "input": [
      "clf.support_"
     ],
     "language": "python",
     "metadata": {},
     "outputs": [
      {
       "metadata": {},
       "output_type": "pyout",
       "prompt_number": 4,
       "text": [
        "array([43388, 44155,     3, ..., 56317, 56318, 56416], dtype=int32)"
       ]
      }
     ],
     "prompt_number": 4
    },
    {
     "cell_type": "code",
     "collapsed": false,
     "input": [
      "clf.n_support_"
     ],
     "language": "python",
     "metadata": {},
     "outputs": [
      {
       "metadata": {},
       "output_type": "pyout",
       "prompt_number": 5,
       "text": [
        "array([   2, 1836, 1834], dtype=int32)"
       ]
      }
     ],
     "prompt_number": 5
    },
    {
     "cell_type": "code",
     "collapsed": false,
     "input": [
      "dec= clf.decision_function(X)\n",
      "dec.shape[1]\n",
      "#one against one (3*(3-1)/2)"
     ],
     "language": "python",
     "metadata": {},
     "outputs": [
      {
       "metadata": {},
       "output_type": "pyout",
       "prompt_number": 25,
       "text": [
        "3"
       ]
      }
     ],
     "prompt_number": 25
    },
    {
     "cell_type": "code",
     "collapsed": false,
     "input": [
      "lin_clf= svm.LinearSVC()\n",
      "lin_clf.fit(X,O)\n"
     ],
     "language": "python",
     "metadata": {},
     "outputs": [
      {
       "metadata": {},
       "output_type": "pyout",
       "prompt_number": 20,
       "text": [
        "LinearSVC(C=1.0, class_weight=None, dual=True, fit_intercept=True,\n",
        "     intercept_scaling=1, loss='squared_hinge', max_iter=1000,\n",
        "     multi_class='ovr', penalty='l2', random_state=None, tol=0.0001,\n",
        "     verbose=0)"
       ]
      }
     ],
     "prompt_number": 20
    },
    {
     "cell_type": "code",
     "collapsed": false,
     "input": [
      "lin_clf.predict([[-8.335687965154647827e-02,2.015209197998046875e-01,-2.848778069019318182e-01]])"
     ],
     "language": "python",
     "metadata": {},
     "outputs": [
      {
       "metadata": {},
       "output_type": "pyout",
       "prompt_number": 21,
       "text": [
        "array([ 1.])"
       ]
      }
     ],
     "prompt_number": 21
    },
    {
     "cell_type": "code",
     "collapsed": false,
     "input": [
      "dec= lin_clf.decision_function(X)\n",
      "dec.shape[1]\n",
      "#one against one (3*(3-1)/2)"
     ],
     "language": "python",
     "metadata": {},
     "outputs": [
      {
       "metadata": {},
       "output_type": "pyout",
       "prompt_number": 28,
       "text": [
        "56609"
       ]
      }
     ],
     "prompt_number": 28
    },
    {
     "cell_type": "code",
     "collapsed": false,
     "input": [],
     "language": "python",
     "metadata": {},
     "outputs": []
    },
    {
     "cell_type": "code",
     "collapsed": false,
     "input": [
      "Y= clf.predict(X)\n",
      "clf.predict_proba(X)\n",
      "np.savetxt(\"/home/faizan/Desktop/machine/result.csv\",Y, delimiter=\",\")"
     ],
     "language": "python",
     "metadata": {},
     "outputs": []
    },
    {
     "cell_type": "code",
     "collapsed": false,
     "input": [
      "import pandas as pd\n",
      "from osgeo import gdal\n",
      "\n",
      "ds = gdal.Open(\"/home/faizan/Desktop/full/A2014257.evi.tif\", gdal.GA_ReadOnly)\n",
      "band = ds.GetRasterBand(1)\n",
      "cols =ds.RasterXSize\n",
      "rows =ds.RasterYSize\n",
      "array = band.ReadAsArray(0, 0, cols, rows)\n",
      "array = array.reshape(cols * rows)\n",
      "len(array)"
     ],
     "language": "python",
     "metadata": {},
     "outputs": [
      {
       "metadata": {},
       "output_type": "pyout",
       "prompt_number": 7,
       "text": [
        "6792000"
       ]
      }
     ],
     "prompt_number": 7
    },
    {
     "cell_type": "code",
     "collapsed": false,
     "input": [],
     "language": "python",
     "metadata": {},
     "outputs": []
    },
    {
     "cell_type": "code",
     "collapsed": false,
     "input": [],
     "language": "python",
     "metadata": {},
     "outputs": []
    },
    {
     "cell_type": "code",
     "collapsed": false,
     "input": [],
     "language": "python",
     "metadata": {},
     "outputs": []
    },
    {
     "cell_type": "code",
     "collapsed": false,
     "input": [
      "from sklearn.datasets import load_iris\n",
      "from sklearn import tree\n",
      "iris = load_iris()\n",
      "clf= tree.DecisionTreeClassifier()\n",
      "clf= clf.fit(iris.data, iris.target)"
     ],
     "language": "python",
     "metadata": {},
     "outputs": []
    },
    {
     "cell_type": "code",
     "collapsed": false,
     "input": [
      "from sklearn.externals.six import StringIO\n",
      "with open(\"iris.dot\", 'w') as f:\n",
      "    f = tree.export_graphviz(clf, out_file=f)"
     ],
     "language": "python",
     "metadata": {},
     "outputs": []
    },
    {
     "cell_type": "code",
     "collapsed": false,
     "input": [
      "import os\n",
      "os.unlink('iris.dot')"
     ],
     "language": "python",
     "metadata": {},
     "outputs": []
    },
    {
     "cell_type": "code",
     "collapsed": false,
     "input": [
      "from sklearn.externals.six import StringIO\n",
      "import pydot\n",
      "dot_data=StringIO()\n",
      "tree.export_graphviz(clf, out_file=dot_data)\n",
      "graph = pydot.graph_from_dot_data(dot_data.getvalue())\n",
      "graph.write_pdf(\"/home/faizan/Desktop/machine/iris.pdf\")"
     ],
     "language": "python",
     "metadata": {},
     "outputs": []
    }
   ],
   "metadata": {}
  }
 ]
}