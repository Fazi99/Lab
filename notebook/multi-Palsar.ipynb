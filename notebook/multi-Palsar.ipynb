{
 "cells": [
  {
   "cell_type": "code",
   "execution_count": 2,
   "metadata": {
    "collapsed": false
   },
   "outputs": [],
   "source": [
    "from osgeo import gdal\n",
    "import numpy\n",
    "from numpy.core.umath import add, subtract\n",
    "\n",
    "\n",
    "class MDimage(object):\n",
    "    def __init__(self, filepath):\n",
    "        self.filepath = filepath\n",
    "        self.ds = gdal.Open(filepath, gdal.GA_ReadOnly)\n",
    "        self.iminfo = dict()\n",
    "        self.iminfo['bandnum'] = self.ds.RasterCount\n",
    "        self.iminfo['cols'] = self.ds.RasterXSize\n",
    "        self.iminfo['rows'] = self.ds.RasterYSize\n",
    "        self.iminfo['originX'] = self.ds.GetGeoTransform()[0]\n",
    "        self.iminfo['originY'] = self.ds.GetGeoTransform()[3]\n",
    "        self.iminfo['pixelWidth'] = self.ds.GetGeoTransform()[1]\n",
    "        self.iminfo['pixelHeight'] = self.ds.GetGeoTransform()[5]\n",
    "\n",
    "class Index(MDimage):\n",
    "    def __init__(self, filepath):\n",
    "        self.filepath = filepath\n",
    "        super(Index, self).__init__(filepath)\n",
    "\n",
    "    def Band2Array(self,fill):\n",
    "        cols = self.iminfo['cols']\n",
    "        rows = self.iminfo['rows']\n",
    "        band = self.ds.GetRasterBand(1)\n",
    "        self.fill=fill\n",
    "        array = band.ReadAsArray(0, 0, cols, rows)\n",
    "        array= array.reshape(cols*rows)\n",
    "        return  array\n",
    "    \n",
    "    def trtData(self,bs):\n",
    "        self.bs=bs\n",
    "        X=[]\n",
    "        for i in range(len(bs)):\n",
    "            A=[]\n",
    "            A.append(bs[i])\n",
    "            X.append(A)\n",
    "        return X\n",
    "\n",
    "    def trainResult(self,flood):\n",
    "        self.flood=flood\n",
    "        Y=[]\n",
    "        for i in range(len(flood)):\n",
    "            Y.append(flood[i])\n",
    "        return Y\n",
    "\n",
    "    def index2Array(self,fill):\n",
    "        cols = self.iminfo['cols']\n",
    "        rows = self.iminfo['rows']\n",
    "        band = self.ds.GetRasterBand(1)\n",
    "        self.fill=fill\n",
    "        array = band.ReadAsArray(0, 0, cols, rows)\n",
    "        array = array.reshape(cols * rows)\n",
    "        return  array\n",
    "    \n",
    "    def index2Array2(self,fill):\n",
    "        cols = self.iminfo['cols']\n",
    "        rows = self.iminfo['rows']\n",
    "        band = self.ds.GetRasterBand(1)\n",
    "        self.fill=fill\n",
    "        array = band.ReadAsArray(0, 0, cols, (rows-1))\n",
    "        array = array.reshape(cols * (rows-1))\n",
    "        return  array\n",
    "\n",
    "    def WriteArrayAsImage(self, out_fname, outArray):\n",
    "        cols = self.iminfo['cols']\n",
    "        rows = self.iminfo['rows']\n",
    "        driver = self.ds.GetDriver()\n",
    "        self.outArray = outArray\n",
    "        outArray= outArray.reshape([rows,cols])\n",
    "        outDS = driver.Create(out_fname, cols, rows, 1, gdal.GDT_Float32)\n",
    "        outDS.SetGeoTransform(self.ds.GetGeoTransform())\n",
    "        outDS.SetProjection(self.ds.GetProjection())\n",
    "        outBand = outDS.GetRasterBand(1)\n",
    "        outBand.WriteArray(outArray)\n",
    "        outDS = None\n",
    "        del outDS, outBand\n",
    "\n",
    "    def cMatrix(self, actual, test):\n",
    "        self.actual=actual\n",
    "        self.test=test\n",
    "        F_F=0\n",
    "        F_N=0\n",
    "        F_fi=0\n",
    "        N_F =0\n",
    "        N_N =0\n",
    "        N_fi=0\n",
    "        Fi_F=0\n",
    "        Fi_N=0\n",
    "        Fi_fi=0\n",
    "    \n",
    "        for i in range(len(actual)):\n",
    "            if actual[i]==test[i]:\n",
    "                if actual[i]==0:\n",
    "                    N_N += 1\n",
    "                elif actual[i]==1:\n",
    "                    F_F += 1\n",
    "                else:\n",
    "                    Fi_fi += 1\n",
    "            else:\n",
    "                if actual[i]==0:\n",
    "                    if test[i]==1:\n",
    "                        N_F += 1\n",
    "                    else:\n",
    "                        N_fi+= 1\n",
    "                elif actual[i]==1:\n",
    "                    if test[i]==0:\n",
    "                        F_N +=1\n",
    "                    else:\n",
    "                        F_fi +=1 \n",
    "                else:\n",
    "                    if test[i]==1:\n",
    "                        Fi_F +=1\n",
    "                    else:\n",
    "                        Fi_N +=1\n",
    "        \n",
    "        LIST= [F_F,F_N,F_fi,N_F,N_N,\n",
    "               N_fi,Fi_F,Fi_N,Fi_fi]\n",
    "        \n",
    "        C_matrix = numpy.array(LIST).reshape(3,3)\n",
    "        return C_matrix\n",
    "    \n",
    "    def testData(self, evi, lswi, dvel):\n",
    "        self.evi = evi\n",
    "        self.lswi = lswi\n",
    "        self.dvel = dvel\n",
    "        limage = self.Index(evi)\n",
    "        cols = self.iminfo['cols']\n",
    "        # Get pixel row number\n",
    "        rows = self.iminfo['rows']\n",
    "        bandnum= self.iminfo['bandnum']\n",
    "        EVI = (limage.index2Array(fill))\n",
    "        limage = Index(lswi)\n",
    "        LSWI = (limage.index2Array(fill))\n",
    "        limage = Index(dvel)\n",
    "        DVEL = (limage.index2Array(fill))\n",
    "        data = (limage.trtData(EVI, LSWI, DVEL))\n"
   ]
  },
  {
   "cell_type": "code",
   "execution_count": null,
   "metadata": {
    "collapsed": false
   },
   "outputs": [],
   "source": []
  },
  {
   "cell_type": "code",
   "execution_count": null,
   "metadata": {
    "collapsed": false
   },
   "outputs": [],
   "source": [
    "\n",
    "import numpy as np\n",
    "from sklearn import svm\n",
    "from osgeo import gdal\n",
    "from sklearn.externals import joblib\n",
    "from multiprocessing import Pool\n",
    "\n",
    "fill=-999\n",
    "path=\"/home/faizan/Desktop/full/\"\n",
    "np_dir=\"/home/faizan/Desktop/numpy_dir/\"\n",
    "\"\"\"\n",
    "#assigning names training data\n",
    "\n",
    "bs_t=path+\"BS_t_hv.tif\"\n",
    "flood_t=path+\"PFlood.tif\"\n",
    "\n",
    "#loading image training\n",
    "limage = Index(bs_t)\n",
    "BS_t = (limage.index2Array(fill))\n",
    "\n",
    "limage = Index(flood_t)\n",
    "Flood_t = (limage.index2Array(fill))\n",
    "\n",
    "# arranging training data\n",
    "X = (limage.trtData(BS_t))\n",
    "Y = (limage.trainResult(Flood_t))\n",
    "# SVM machine learning\n",
    "\n",
    "clf = svm.SVC()\n",
    "clf = clf.fit(X,Y)\n",
    "\n",
    "#save model\n",
    "\n",
    "joblib.dump(clf, '/home/faizan/Desktop/full/Palsar_hv_finaltraining.pkl')\n",
    "del BS_t, Flood_t, X, Y\n",
    "\n",
    "\"\"\"\n",
    "\n",
    "#assigning names test data\n",
    "bs=path+\"HH.ALPSRP245160540.backscatter_try.tif\"\n",
    "Oflood = path+\"HH.ALPSRP245160540_flood.tif\"\n",
    "\n",
    "#bs=path+\"238540.tif\"\n",
    "#Oflood = path+\"238540_flood1.tif\"\n",
    "#save model\n",
    "\n",
    "#joblib.dump(clf, '/home/faizan/Desktop/full/trained.pkl')\n",
    "clf = joblib.load('/home/faizan/Desktop/full/Palsar_finaltraining.pkl') \n",
    "\n",
    "#del EVI_t, LSWI_t, DVEL_t, Flood_t, X, Y\n",
    "#Test data\n",
    "limage = Index(bs)\n",
    "\n",
    "cols = limage.iminfo['cols']\n",
    "# Get pixel row number\n",
    "rows = limage.iminfo['rows']\n",
    "bandnum= limage.iminfo['bandnum']\n",
    "BS = (limage.index2Array(fill))\n",
    "\n",
    "Data = (limage.trtData(BS))\n",
    "\n",
    "del BS\n",
    "\n",
    "def argwrapper(args):\n",
    "    '''\n",
    "    ラッパー関数\n",
    "    '''\n",
    "    return args[0](*args[1:])\n",
    "\n",
    "def myfunc(x):\n",
    "    '''\n",
    "    並列に計算したい関数\n",
    "    ''' \n",
    "    return clf.predict(x)\n",
    "import time\n",
    "start_time = time.time()\n",
    "\n",
    "\n",
    "\n",
    "if __name__ == '__main__':\n",
    "    p = Pool(6)\n",
    "    for a in xrange(0,50):\n",
    "        func_args = []\n",
    "        for i in xrange((len(Data)*a)/50, (len(Data)*(a+1))/50):\n",
    "            X= Data[i]\n",
    "            func_args.append( (myfunc, X) )\n",
    "        results = numpy.array(p.map(argwrapper, func_args), dtype=numpy.int16)\n",
    "        del func_args\n",
    "        numpy.save(np_dir + \"svr_result%02d\" % a, results)\n",
    "        del results \n",
    "        print(\"--- %s seconds ---\" % (time.time() - start_time))\n",
    "    del Data\n",
    "    # Load all array and merge\n",
    "    # load first array\n",
    "    ARRAY = numpy.load(np_dir + \"svr_result00.npy\")\n",
    "\n",
    "    for a in range(1,50):\n",
    "        dummy = numpy.load(np_dir + \"svr_result%02d.npy\" % (a))\n",
    "        ARRAY = numpy.vstack([ARRAY, dummy])\n",
    "    limage.WriteArrayAsImage(Oflood, ARRAY)\n",
    "    del ARRAY, dummy\n",
    "\"\"\"\n",
    "if __name__ == '__main__':\n",
    "    p = Pool(6)\n",
    "    for a in xrange(0,20):\n",
    "        func_args = []\n",
    "        for i in range(6):\n",
    "            S = (len(Data)*(a))/20\n",
    "            I = (((len(Data)*(a+1))/20)- ((len(Data)*a)/20))/6\n",
    "            X = Data[(S+(I*i)): (S+(I*(i+1)))]\n",
    "            #X = Data[(len(Data)*a)/20 : (len(Data)*(a+1))/20]\n",
    "            func_args.append( (myfunc, X) )\n",
    "        results =(p.map(argwrapper, func_args))\n",
    "        del func_args\n",
    "        numpy.save(np_dir + \"svr_result%02d\" % a, results)\n",
    "        del results \n",
    "        print(\"--- %s seconds ---\" % (time.time() - start_time))\n",
    "    del Data\n",
    "    # Load all array and merge\n",
    "    # load first array\n",
    "    ARRAY = numpy.load(np_dir + \"svr_result00.npy\")\n",
    "\n",
    "    for a in range(1,20):\n",
    "        dummy = numpy.load(np_dir + \"svr_result%02d.npy\" % (a))\n",
    "        ARRAY = numpy.vstack([ARRAY, dummy])\n",
    "    limage.WriteArrayAsImage(Oflood, ARRAY)\n",
    "    del ARRAY, dummy\n",
    "\"\"\"\n",
    "print(\"--- %s seconds ---\" % (time.time() - start_time))\n",
    "\n",
    "\n",
    "\n"
   ]
  },
  {
   "cell_type": "code",
   "execution_count": 20,
   "metadata": {
    "collapsed": false
   },
   "outputs": [],
   "source": [
    "from sklearn.externals import joblib\n",
    "from sklearn import svm\n",
    "clf = joblib.load('/home/faizan/Desktop/full/Palsar_hv_finaltraining.pkl') \n"
   ]
  },
  {
   "cell_type": "code",
   "execution_count": 49,
   "metadata": {
    "collapsed": false
   },
   "outputs": [
    {
     "data": {
      "text/plain": [
       "array([ 1.], dtype=float32)"
      ]
     },
     "execution_count": 49,
     "metadata": {},
     "output_type": "execute_result"
    }
   ],
   "source": [
    "clf.predict(-29.4793)"
   ]
  },
  {
   "cell_type": "code",
   "execution_count": 7,
   "metadata": {
    "collapsed": false
   },
   "outputs": [
    {
     "data": {
      "text/plain": [
       "(0, 1760642)"
      ]
     },
     "execution_count": 7,
     "metadata": {},
     "output_type": "execute_result"
    }
   ],
   "source": [
    "A"
   ]
  },
  {
   "cell_type": "code",
   "execution_count": 6,
   "metadata": {
    "collapsed": false
   },
   "outputs": [],
   "source": [
    "# Load all array and merge\n",
    "# load first array\n",
    "ARRAY = numpy.load(np_dir + \"svr_result00.npy\")\n",
    "\n",
    "for a in range(1,20):\n",
    "    dummy = numpy.load(np_dir + \"svr_result%02d.npy\" % (a))\n",
    "    ARRAY = numpy.vstack([ARRAY, dummy])\n",
    "limage.WriteArrayAsImage(Oflood, ARRAY)\n",
    "#del ARRAY"
   ]
  },
  {
   "cell_type": "code",
   "execution_count": null,
   "metadata": {
    "collapsed": true
   },
   "outputs": [],
   "source": []
  },
  {
   "cell_type": "code",
   "execution_count": 24,
   "metadata": {
    "collapsed": false
   },
   "outputs": [],
   "source": [
    "def argwrapper(args):\n",
    "    '''\n",
    "    ラッパー関数\n",
    "    '''\n",
    "    return args[0](*args[1:])\n",
    "\n",
    "def trfunc(X,Y):\n",
    "    \n",
    " \n",
    "    #clf = svm.SVC()\n",
    "    clf = tree.DecisionTreeClassifier()\n",
    "    clf = clf.fit(X,Y)\n",
    "    return clf\n",
    "\n",
    "if __name__ == '__main__':\n",
    "    from sklearn import tree\n",
    "    p = Pool(6)\n",
    "    func_args = []\n",
    "    for a in xrange(0,1):\n",
    "        for i in xrange((len(X)*a)/1200, (len(X)*(a+1))/1200):\n",
    "            x= X[i]\n",
    "            y= [Y[i]]\n",
    "            func_args.append( (trfunc, x, y) )\n",
    "    clf = p.map(argwrapper, func_args)\n",
    "    #del func_args, x, y\n",
    "    #joblib.dump(clf, '/home/faizan/Desktop/full/Palsar_svm_training.pkl')\n",
    "    #del BS_t, Flood_t, X, Y\n"
   ]
  },
  {
   "cell_type": "code",
   "execution_count": null,
   "metadata": {
    "collapsed": false
   },
   "outputs": [],
   "source": []
  },
  {
   "cell_type": "code",
   "execution_count": null,
   "metadata": {
    "collapsed": false
   },
   "outputs": [],
   "source": []
  },
  {
   "cell_type": "code",
   "execution_count": null,
   "metadata": {
    "collapsed": true
   },
   "outputs": [],
   "source": []
  },
  {
   "cell_type": "code",
   "execution_count": 54,
   "metadata": {
    "collapsed": false
   },
   "outputs": [],
   "source": []
  },
  {
   "cell_type": "code",
   "execution_count": 7,
   "metadata": {
    "collapsed": false
   },
   "outputs": [],
   "source": []
  },
  {
   "cell_type": "code",
   "execution_count": 37,
   "metadata": {
    "collapsed": false
   },
   "outputs": [
    {
     "data": {
      "text/plain": [
       "SVC(C=1.0, cache_size=200, class_weight=None, coef0=0.0, degree=3, gamma=0.0,\n",
       "  kernel='rbf', max_iter=-1, probability=False, random_state=None,\n",
       "  shrinking=True, tol=0.001, verbose=False)"
      ]
     },
     "execution_count": 37,
     "metadata": {},
     "output_type": "execute_result"
    }
   ],
   "source": [
    ">>> from sklearn import svm\n",
    ">>> X = [[0, 0], [1, 1]]\n",
    ">>> y = [0, 1]\n",
    ">>> clf = svm.SVC()\n",
    ">>> clf.fit(X, y) "
   ]
  },
  {
   "cell_type": "code",
   "execution_count": 37,
   "metadata": {
    "collapsed": false
   },
   "outputs": [
    {
     "data": {
      "text/plain": [
       "array([[  70749,    2309,       0],\n",
       "       [   2248,  502907, 1195120],\n",
       "       [      0,       0,   66535]])"
      ]
     },
     "execution_count": 37,
     "metadata": {},
     "output_type": "execute_result"
    }
   ],
   "source": [
    "cMat= limage.cMatrix(Actual, test)\n",
    "cMat"
   ]
  },
  {
   "cell_type": "code",
   "execution_count": null,
   "metadata": {
    "collapsed": false
   },
   "outputs": [],
   "source": []
  }
 ],
 "metadata": {
  "kernelspec": {
   "display_name": "Python 2",
   "language": "python",
   "name": "python2"
  },
  "language_info": {
   "codemirror_mode": {
    "name": "ipython",
    "version": 2
   },
   "file_extension": ".py",
   "mimetype": "text/x-python",
   "name": "python",
   "nbconvert_exporter": "python",
   "pygments_lexer": "ipython2",
   "version": "2.7.6"
  }
 },
 "nbformat": 4,
 "nbformat_minor": 0
}
