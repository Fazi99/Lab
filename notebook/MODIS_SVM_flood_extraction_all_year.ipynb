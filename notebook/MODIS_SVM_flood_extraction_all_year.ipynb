{
 "cells": [
  {
   "cell_type": "code",
   "execution_count": 38,
   "metadata": {
    "collapsed": false
   },
   "outputs": [],
   "source": [
    "from osgeo import gdal\n",
    "from sklearn import svm\n",
    "import numpy\n",
    "import time\n",
    "from osgeo import gdal\n",
    "from sklearn.externals import joblib\n",
    "from numpy.core.umath import add, subtract\n",
    "import gc\n",
    "from multiprocessing import Pool\n",
    "import os\n",
    "\n",
    "class MDimage(object):\n",
    "    def __init__(self, filepath):\n",
    "        self.filepath = filepath\n",
    "        self.ds = gdal.Open(filepath, gdal.GA_ReadOnly)\n",
    "        self.iminfo = dict()\n",
    "        self.iminfo['bandnum'] = self.ds.RasterCount\n",
    "        self.iminfo['cols'] = self.ds.RasterXSize\n",
    "        self.iminfo['rows'] = self.ds.RasterYSize\n",
    "        self.iminfo['originX'] = self.ds.GetGeoTransform()[0]\n",
    "        self.iminfo['originY'] = self.ds.GetGeoTransform()[3]\n",
    "        self.iminfo['pixelWidth'] = self.ds.GetGeoTransform()[1]\n",
    "        self.iminfo['pixelHeight'] = self.ds.GetGeoTransform()[5]\n",
    "\n",
    "class Index(MDimage):\n",
    "    def __init__(self, filepath):\n",
    "        self.filepath = filepath\n",
    "        super(Index, self).__init__(filepath)\n",
    "\n",
    "    def index2Array(self):\n",
    "        cols = self.iminfo['cols']\n",
    "        rows = self.iminfo['rows']\n",
    "        band = self.ds.GetRasterBand(1)\n",
    "        array = band.ReadAsArray(0, 0, cols, rows)\n",
    "        array =array/10000\n",
    "        array = array.reshape(cols * rows)\n",
    "        return array\n",
    "\n",
    "    def WriteArrayAsImage(self, out_fname, outArray):\n",
    "        cols = self.iminfo['cols']\n",
    "        rows = self.iminfo['rows']\n",
    "        driver = self.ds.GetDriver()\n",
    "        outArray= outArray.reshape([rows,cols])\n",
    "        outDS = driver.Create(out_fname, cols, rows, 1, gdal.GDT_Int16)\n",
    "        outDS.SetGeoTransform(self.ds.GetGeoTransform())\n",
    "        outDS.SetProjection(self.ds.GetProjection())\n",
    "        outBand = outDS.GetRasterBand(1)\n",
    "        outBand.WriteArray(outArray)\n",
    "        outDS = None\n",
    "        del outDS, outBand\n"
   ]
  },
  {
   "cell_type": "code",
   "execution_count": null,
   "metadata": {
    "collapsed": false
   },
   "outputs": [],
   "source": []
  },
  {
   "cell_type": "code",
   "execution_count": 8,
   "metadata": {
    "collapsed": false,
    "scrolled": true
   },
   "outputs": [
    {
     "name": "stdout",
     "output_type": "stream",
     "text": [
      "--- 81.680768013 seconds ---\n",
      "--- 163.196515799 seconds ---\n",
      "--- 241.19452095 seconds ---\n",
      "--- 317.361662865 seconds ---\n",
      "--- 393.169782877 seconds ---\n",
      "--- 466.459987879 seconds ---\n",
      "--- 545.568372965 seconds ---\n",
      "--- 625.732739925 seconds ---\n",
      "--- 708.38287282 seconds ---\n",
      "--- 795.082197905 seconds ---\n"
     ]
    }
   ],
   "source": [
    "\n",
    "fill=-999\n",
    "\n",
    "#change file paths accordingly \n",
    "\n",
    "\n",
    "path1=\"/home/faizan/Pakistan/EVI/\"\n",
    "path2=\"/home/faizan/Pakistan/LSWI/\"\n",
    "np_dir=\"/home/faizan/Desktop/numpy_dir/\"\n",
    "for year in range(2002,2015):\n",
    "    for i in range(1, 363):    \n",
    "\n",
    "        #assigning names test data\n",
    "        evi=path1+str(year)+\"/clip.%d%03d\"  % (year, i) + \".tif\"\n",
    "        lswi=path2+str(year)+\"/clip.%d%03d\"  % (year, i) + \".tif\"\n",
    "        Oflood =path1+str(year)+\"/flood.%d%03d\"  % (year, i) + \".tif\"     \n",
    "\n",
    "    #Test data\n",
    "        if os.path.exists(lswi) is True: \n",
    "            limage = Index(lswi)\n",
    "            LSWI = (limage.index2Array())\n",
    "                        \n",
    "            limage = Index(evi)\n",
    "            cols = limage.iminfo['cols']\n",
    "            rows = limage.iminfo['rows']\n",
    "            bandnum= limage.iminfo['bandnum']\n",
    "            EVI = (limage.index2Array())\n",
    "\n",
    "            Data = numpy.vstack([EVI, LSWI])\n",
    "            del EVI, LSWI\n",
    "\n",
    "# change the file path \n",
    "            clf = joblib.load('/home/faizan/Desktop/model/modis_trained.pkl')\n",
    "\n",
    "            def argwrapper(args):\n",
    "                '''\n",
    "                ラッパー関数\n",
    "                '''\n",
    "                return args[0](*args[1:])\n",
    "\n",
    "            def myfunc(x):\n",
    "                '''\n",
    "                並列に計算したい関数\n",
    "                '''\n",
    "                return clf.predict([Data[0][x], Data[1][x], subtract(Data[0][x], Data[1][x])])\n",
    "\n",
    "        #Process \n",
    "            start_time = time.time()\n",
    "            if __name__ == '__main__':\n",
    "                p = Pool(6)\n",
    "                for a in xrange(0, 10):\n",
    "                    func_args = []\n",
    "                    for i in xrange((len(Data[0])*a)/10, (len(Data[0])*(a+1))/10):\n",
    "                        func_args.append((myfunc, i))\n",
    "                    results = numpy.array(p.map(argwrapper, func_args), dtype=numpy.int16)\n",
    "                    del func_args\n",
    "                    numpy.save(np_dir + \"svm_result%02d\" % a, results)\n",
    "                    del results\n",
    "                    print(\"--- %s seconds ---\" % (time.time() - start_time))\n",
    "                del Data\n",
    "                p.close()\n",
    "        # Load all array and merge\n",
    "                # load first array\n",
    "                ARRAY = numpy.load(np_dir + \"svm_result00.npy\")\n",
    "\n",
    "                for a in range(1, 10):\n",
    "                    dummy = numpy.load(np_dir + \"svm_result%02d.npy\" % (a))\n",
    "                    ARRAY = numpy.vstack([ARRAY, dummy])\n",
    "        # Write image \n",
    "                limage.WriteArrayAsImage(Oflood, ARRAY)\n",
    "                del ARRAY, dummy\n",
    "                gc.collect()"
   ]
  },
  {
   "cell_type": "code",
   "execution_count": 39,
   "metadata": {
    "collapsed": false
   },
   "outputs": [],
   "source": [
    "limage = Index(\"/home/faizan/Pakistan/EVI/2002/Clip.2002161.tif\")\n",
    "cols = limage.iminfo['cols']\n",
    "rows = limage.iminfo['rows']\n",
    "bandnum= limage.iminfo['bandnum']\n",
    "EVI = (limage.index2Array())"
   ]
  },
  {
   "cell_type": "code",
   "execution_count": 40,
   "metadata": {
    "collapsed": false
   },
   "outputs": [
    {
     "data": {
      "text/plain": [
       "0.14849999999999999"
      ]
     },
     "execution_count": 40,
     "metadata": {},
     "output_type": "execute_result"
    }
   ],
   "source": [
    "EVI[5959709]"
   ]
  },
  {
   "cell_type": "code",
   "execution_count": 34,
   "metadata": {
    "collapsed": false
   },
   "outputs": [],
   "source": [
    "limage = Index(\"/home/faizan/Pakistan/LSWI/2002/Clip.2002161.tif\")\n",
    "LSWI = (limage.index2Array())"
   ]
  },
  {
   "cell_type": "code",
   "execution_count": 35,
   "metadata": {
    "collapsed": false
   },
   "outputs": [
    {
     "data": {
      "text/plain": [
       "-0.015113768"
      ]
     },
     "execution_count": 35,
     "metadata": {},
     "output_type": "execute_result"
    }
   ],
   "source": [
    "LSWI[5959709]"
   ]
  },
  {
   "cell_type": "code",
   "execution_count": null,
   "metadata": {
    "collapsed": true
   },
   "outputs": [],
   "source": []
  }
 ],
 "metadata": {
  "kernelspec": {
   "display_name": "Python 2",
   "language": "python",
   "name": "python2"
  },
  "language_info": {
   "codemirror_mode": {
    "name": "ipython",
    "version": 2
   },
   "file_extension": ".py",
   "mimetype": "text/x-python",
   "name": "python",
   "nbconvert_exporter": "python",
   "pygments_lexer": "ipython2",
   "version": "2.7.6"
  }
 },
 "nbformat": 4,
 "nbformat_minor": 0
}
