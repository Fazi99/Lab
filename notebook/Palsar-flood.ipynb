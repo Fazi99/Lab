{
 "cells": [
  {
   "cell_type": "code",
   "execution_count": 1,
   "metadata": {
    "collapsed": false
   },
   "outputs": [],
   "source": [
    "from osgeo import gdal\n",
    "import numpy\n",
    "from numpy.core.umath import add, subtract\n",
    "\n",
    "\n",
    "class MDimage(object):\n",
    "    def __init__(self, filepath):\n",
    "        self.filepath = filepath\n",
    "        self.ds = gdal.Open(filepath, gdal.GA_ReadOnly)\n",
    "        self.iminfo = dict()\n",
    "        self.iminfo['bandnum'] = self.ds.RasterCount\n",
    "        self.iminfo['cols'] = self.ds.RasterXSize\n",
    "        self.iminfo['rows'] = self.ds.RasterYSize\n",
    "        self.iminfo['originX'] = self.ds.GetGeoTransform()[0]\n",
    "        self.iminfo['originY'] = self.ds.GetGeoTransform()[3]\n",
    "        self.iminfo['pixelWidth'] = self.ds.GetGeoTransform()[1]\n",
    "        self.iminfo['pixelHeight'] = self.ds.GetGeoTransform()[5]\n",
    "\n",
    "class Index(MDimage):\n",
    "    def __init__(self, filepath):\n",
    "        self.filepath = filepath\n",
    "        super(Index, self).__init__(filepath)\n",
    "\n",
    "    def Band2Array(self):\n",
    "        cols = self.iminfo['cols']\n",
    "        rows = self.iminfo['rows']\n",
    "        band = self.ds.GetRasterBand(1)\n",
    "        array = band.ReadAsArray(0, 0, cols, rows)\n",
    "        array= array.reshape(cols*rows)\n",
    "        return  array\n",
    "    \n",
    "    def CalcFlood_HH(self, BS):\n",
    "        flood = numpy.where(BS>=-19.01675, 1, 0)\n",
    "        return flood\n",
    "    \n",
    "    def CalcFlood_HV(self, BS):\n",
    "        flood = numpy.where(BS>=-29.4793, 1, 0)\n",
    "        return flood\n",
    " \n",
    "    def WriteArrayAsImage(self, out_fname, outArray):\n",
    "        cols = self.iminfo['cols']\n",
    "        rows = self.iminfo['rows']\n",
    "        driver = self.ds.GetDriver()\n",
    "        self.outArray = outArray\n",
    "        outArray= outArray.reshape([rows,cols])\n",
    "        outDS = driver.Create(out_fname, cols, rows, 1, gdal.GDT_Float32)\n",
    "        outDS.SetGeoTransform(self.ds.GetGeoTransform())\n",
    "        outDS.SetProjection(self.ds.GetProjection())\n",
    "        outBand = outDS.GetRasterBand(1)\n",
    "        outBand.WriteArray(outArray)\n",
    "        outDS = None\n",
    "        del outDS, outBand\n",
    "\n"
   ]
  },
  {
   "cell_type": "code",
   "execution_count": null,
   "metadata": {
    "collapsed": false
   },
   "outputs": [],
   "source": []
  },
  {
   "cell_type": "code",
   "execution_count": 7,
   "metadata": {
    "collapsed": false
   },
   "outputs": [],
   "source": [
    "path=\"/home/faizan/USA_data/PALSAR/corr/780/\"\n",
    "with open('/home/faizan/USA_data/PALSAR/corr/780/list.txt',\"r\") as f:\n",
    "    #g=len(f.readlines())     #print sum(1 for _ in f)\n",
    "    for line in f:\n",
    "        l= line.split(\".\")\n",
    "        #assigning names\n",
    "        bs=path+str(l[0])+\".\"+str(l[1])+\".backscatter_try.tif\"\n",
    "        flood=path+str(l[0])+\".\"+str(l[1])+\".flood.tif\"\n",
    "\n",
    "        # loading images\n",
    "        #red band\n",
    "        limage = Index(bs)\n",
    "        # Get a pixel column number\n",
    "        cols = limage.iminfo['cols']\n",
    "        # Get pixel row number\n",
    "        rows = limage.iminfo['rows']\n",
    "        # Get pixel data as array\n",
    "        BS = limage.Band2Array()\n",
    "\n",
    "        if str(l[0]) == \"HH\":\n",
    "            #calculate Flood\n",
    "            Flood= (limage.CalcFlood_HH(BS))\n",
    "        else:\n",
    "            Flood= (limage.CalcFlood_HV(BS))\n",
    "        #Get Flood as tiff\n",
    "        limage.WriteArrayAsImage(flood, Flood)\n",
    "        del Flood, BS\n",
    "f.close()\n",
    "\n",
    "\n"
   ]
  },
  {
   "cell_type": "code",
   "execution_count": null,
   "metadata": {
    "collapsed": true
   },
   "outputs": [],
   "source": []
  },
  {
   "cell_type": "code",
   "execution_count": null,
   "metadata": {
    "collapsed": false
   },
   "outputs": [],
   "source": []
  }
 ],
 "metadata": {
  "kernelspec": {
   "display_name": "Python 2",
   "language": "python",
   "name": "python2"
  },
  "language_info": {
   "codemirror_mode": {
    "name": "ipython",
    "version": 2
   },
   "file_extension": ".py",
   "mimetype": "text/x-python",
   "name": "python",
   "nbconvert_exporter": "python",
   "pygments_lexer": "ipython2",
   "version": "2.7.6"
  }
 },
 "nbformat": 4,
 "nbformat_minor": 0
}
