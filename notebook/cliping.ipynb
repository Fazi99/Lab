{
 "cells": [
  {
   "cell_type": "code",
   "execution_count": 1,
   "metadata": {
    "collapsed": false
   },
   "outputs": [],
   "source": [
    "import time\n",
    "from osgeo import gdal, osr\n",
    "import numpy\n",
    "import subprocess\n",
    "from subprocess import PIPE, Popen\n",
    "import os\n",
    "from numpy.core.umath import add, subtract\n",
    "import gc\n",
    "import sys\n",
    "sys.path.append('/usr/bin/')\n",
    "import gdal_merge as gm\n",
    "from multiprocessing import Pool \n",
    "class MDimage(object):\n",
    "    def __init__(self, filepath):\n",
    "        self.filepath = filepath\n",
    "        self.ds = gdal.Open(filepath, gdal.GA_ReadOnly)\n",
    "        self.iminfo = dict()\n",
    "        self.iminfo['bandnum'] = self.ds.RasterCount\n",
    "        self.iminfo['cols'] = self.ds.RasterXSize\n",
    "        self.iminfo['rows'] = self.ds.RasterYSize\n",
    "        self.iminfo['originX'] = self.ds.GetGeoTransform()[0]\n",
    "        self.iminfo['originY'] = self.ds.GetGeoTransform()[3]\n",
    "        self.iminfo['pixelWidth'] = self.ds.GetGeoTransform()[1]\n",
    "        self.iminfo['pixelHeight'] = self.ds.GetGeoTransform()[5]\n",
    "\n",
    "class Index(MDimage):\n",
    "    def __init__(self, filepath):\n",
    "        self.filepath = filepath\n",
    "        super(Index, self).__init__(filepath)\n",
    "\n",
    "    def Band2Array(self,fill):\n",
    "        cols = self.iminfo['cols']\n",
    "        rows = self.iminfo['rows']\n",
    "        band = self.ds.GetRasterBand(1)\n",
    "        array = band.ReadAsArray(0, 0, cols, rows)\n",
    "        #array = array.reshape(cols * rows)\n",
    "        return array\n",
    "        \n",
    "    def WriteArrayAsImage(self, out_fname, outArray):\n",
    "        cols = self.iminfo['cols']\n",
    "        rows = self.iminfo['rows']\n",
    "        driver = self.ds.GetDriver()\n",
    "        outArray= outArray.reshape([rows,cols])\n",
    "        outDS = driver.Create(out_fname, cols, rows, 1, gdal.GDT_Int16)\n",
    "        outDS.SetGeoTransform(self.ds.GetGeoTransform())\n",
    "        outDS.SetProjection(self.ds.GetProjection())\n",
    "        outBand = outDS.GetRasterBand(1)\n",
    "        outBand.WriteArray(outArray)\n",
    "        outDS = None\n",
    "        del outDS, outBand\n",
    "    \n",
    "    def FileCheckDel(self, filepath):\n",
    "        if os.path.exists(filepath):\n",
    "            os.remove(filepath)\n",
    "            \n",
    "    def ClipWithGdalwarp(self, infile, outfile, shape):\n",
    "        self.FileCheckDel(outfile)\n",
    "        layer = os.path.split(os.path.splitext(shape)[0])[1]\n",
    "        command = ['gdalwarp', '-of', 'GTiff', '-cutline', shape, '-cl',\\\n",
    "                   layer, '-crop_to_cutline', infile, outfile]\n",
    "        command = [comm.encode('utf-8') for comm in command]\n",
    "        p = subprocess.Popen(command, \\\n",
    "                            stdin=PIPE, \\\n",
    "                            stdout=PIPE, \\\n",
    "                            stderr=PIPE)\n",
    "        p.wait()\n",
    "        print \"stdout: %s\" % (p.stdout.readlines(), )\n",
    "        #print \"Erros: %s\" % (p.stderr.readlines(), )\n",
    "        \n",
    "    \n",
    "    def MergeWithGdalwarp(self, infile, outfile):\n",
    "        self.FileCheckDel(outfile)\n",
    "        NO_DATA_VALUE = '-999'\n",
    "        command = ['gdal_merge.py', '-o', outfile,'-n', NO_DATA_VALUE,\n",
    "         infile[0], infile[1], infile[2], infile[3]]\n",
    "        command = [comm.encode('utf-8') for comm in command]\n",
    "        p = subprocess.Popen(command, \\\n",
    "                            stdin=PIPE, \\\n",
    "                            stdout=PIPE, \\\n",
    "                            stderr=PIPE)\n",
    "        p.wait()\n",
    "        #print \"stdout: %s\" % (p.stdout.readlines(), )\n",
    "        #print \"Erros: %s\" % (p.stderr.readlines(), )\n",
    "        \n",
    "    def Merge(self, infile, outfile):\n",
    "        sys.argv = [ infile[0], infile[1], infile[2], infile[3], '-o',outfile, '-a_nodata', '-999']\n",
    "        gm.main()"
   ]
  },
  {
   "cell_type": "code",
   "execution_count": null,
   "metadata": {
    "collapsed": true
   },
   "outputs": [],
   "source": []
  },
  {
   "cell_type": "code",
   "execution_count": 3,
   "metadata": {
    "collapsed": true
   },
   "outputs": [],
   "source": [
    "limage = Index(files[0])"
   ]
  },
  {
   "cell_type": "code",
   "execution_count": 4,
   "metadata": {
    "collapsed": false
   },
   "outputs": [
    {
     "name": "stdout",
     "output_type": "stream",
     "text": [
      "stdout: ['Creating output file that is 3389P x 2679L.\\n', 'Processing input file /home/faizan/Pakistan/EVI/2010/mosaic.2010362.tif.\\n', '0...10...20...30...40...50...60...70...80...90...100 - done.\\n']\n"
     ]
    }
   ],
   "source": [
    "fill=-999\n",
    "year=2010\n",
    "shape=\"/home/faizan/Pakistan/pakistan shape file/PAK_adm0.shp\"\n",
    "\n",
    "files=[]\n",
    "for i in range(1, 362):\n",
    "    files=[]\n",
    "    for V in range(5,7):\n",
    "        for H in range(23,25):\n",
    "            files.append(\"/home/faizan/Pakistan/EVI/2010/MODIS.EVI.%d%03d\"  % (year, i)+ \".h%dv%02d\" % (H,V) + \".tif\" )\n",
    "    merge=\"/home/faizan/Pakistan/EVI/2010/mosaic.%d%03d\"  % (year, i) + \".tif\"\n",
    "    limage.MergeWithGdalwarp(files, merge)\n",
    "    clip=\"/home/faizan/Pakistan/EVI/2010/clip.%d%03d\"  % (year, i) + \".tif\"\n",
    "    limage.ClipWithGdalwarp(merge, clip, shape)"
   ]
  },
  {
   "cell_type": "code",
   "execution_count": null,
   "metadata": {
    "collapsed": true
   },
   "outputs": [],
   "source": []
  },
  {
   "cell_type": "code",
   "execution_count": 167,
   "metadata": {
    "collapsed": true
   },
   "outputs": [],
   "source": [
    "limage = Index(files[0])"
   ]
  },
  {
   "cell_type": "code",
   "execution_count": 168,
   "metadata": {
    "collapsed": false
   },
   "outputs": [],
   "source": [
    "#limage.Merge(files,out)"
   ]
  },
  {
   "cell_type": "code",
   "execution_count": 169,
   "metadata": {
    "collapsed": false
   },
   "outputs": [
    {
     "name": "stdout",
     "output_type": "stream",
     "text": [
      "stdout: ['0...10...20...30...40...50...60...70...80...90...100 - done.\\n']\n",
      "Erros: []\n"
     ]
    }
   ],
   "source": [
    "limage.MergeWithGdalwarp(files, out)"
   ]
  },
  {
   "cell_type": "code",
   "execution_count": 170,
   "metadata": {
    "collapsed": false
   },
   "outputs": [],
   "source": [
    "infile=\"/home/faizan/Desktop/mosaic1.tif\"\n",
    "outfile=\"/home/faizan/Desktop/pak2003001.tif\"\n",
    "shape=\"/home/faizan/Pakistan/pakistan shape file/PAK_adm0.shp\"\n",
    "\n",
    "limage.ClipWithGdalwarp(infile, outfile, shape)"
   ]
  },
  {
   "cell_type": "code",
   "execution_count": 56,
   "metadata": {
    "collapsed": false
   },
   "outputs": [
    {
     "data": {
      "text/plain": [
       "'/home/faizan/Desktop/MODIS.EVI.2003001.h23v05.tif /home/faizan/Desktop/MODIS.EVI.2003001.h24v05.tif /home/faizan/Desktop/MODIS.EVI.2003001.h23v06.tif /home/faizan/Desktop/MODIS.EVI.2003001.h24v06.tif'"
      ]
     },
     "execution_count": 56,
     "metadata": {},
     "output_type": "execute_result"
    }
   ],
   "source": [
    "fi"
   ]
  },
  {
   "cell_type": "code",
   "execution_count": 72,
   "metadata": {
    "collapsed": false
   },
   "outputs": [
    {
     "ename": "NameError",
     "evalue": "name 'gdalwrap' is not defined",
     "output_type": "error",
     "traceback": [
      "\u001b[1;31m---------------------------------------------------------------------------\u001b[0m",
      "\u001b[1;31mNameError\u001b[0m                                 Traceback (most recent call last)",
      "\u001b[1;32m<ipython-input-72-1c51880a316d>\u001b[0m in \u001b[0;36m<module>\u001b[1;34m()\u001b[0m\n\u001b[1;32m----> 1\u001b[1;33m \u001b[0mgdalwrap\u001b[0m \u001b[1;33m,\u001b[0m \u001b[0mfiles\u001b[0m \u001b[1;33m,\u001b[0m\u001b[0mout\u001b[0m\u001b[1;33m\u001b[0m\u001b[0m\n\u001b[0m",
      "\u001b[1;31mNameError\u001b[0m: name 'gdalwrap' is not defined"
     ]
    }
   ],
   "source": []
  },
  {
   "cell_type": "code",
   "execution_count": 19,
   "metadata": {
    "collapsed": false,
    "scrolled": true
   },
   "outputs": [
    {
     "ename": "ValueError",
     "evalue": "all the input array dimensions except for the concatenation axis must match exactly",
     "output_type": "error",
     "traceback": [
      "\u001b[1;31m---------------------------------------------------------------------------\u001b[0m",
      "\u001b[1;31mValueError\u001b[0m                                Traceback (most recent call last)",
      "\u001b[1;32m<ipython-input-19-4604d54cdb89>\u001b[0m in \u001b[0;36m<module>\u001b[1;34m()\u001b[0m\n\u001b[0;32m     37\u001b[0m \u001b[0mData2\u001b[0m \u001b[1;33m=\u001b[0m \u001b[0mnumpy\u001b[0m\u001b[1;33m.\u001b[0m\u001b[0mhstack\u001b[0m\u001b[1;33m(\u001b[0m\u001b[1;33m[\u001b[0m\u001b[0mh23v06\u001b[0m\u001b[1;33m,\u001b[0m \u001b[0mh24v06\u001b[0m\u001b[1;33m]\u001b[0m\u001b[1;33m)\u001b[0m\u001b[1;33m\u001b[0m\u001b[0m\n\u001b[0;32m     38\u001b[0m \u001b[1;33m\u001b[0m\u001b[0m\n\u001b[1;32m---> 39\u001b[1;33m \u001b[0mData\u001b[0m \u001b[1;33m=\u001b[0m \u001b[0mnumpy\u001b[0m\u001b[1;33m.\u001b[0m\u001b[0mvstack\u001b[0m\u001b[1;33m(\u001b[0m\u001b[1;33m[\u001b[0m\u001b[0mData1\u001b[0m\u001b[1;33m,\u001b[0m \u001b[0mData2\u001b[0m\u001b[1;33m]\u001b[0m\u001b[1;33m)\u001b[0m\u001b[1;33m\u001b[0m\u001b[0m\n\u001b[0m\u001b[0;32m     40\u001b[0m \u001b[1;33m\u001b[0m\u001b[0m\n\u001b[0;32m     41\u001b[0m \u001b[1;33m\u001b[0m\u001b[0m\n",
      "\u001b[1;32m/usr/lib/python2.7/dist-packages/numpy/core/shape_base.pyc\u001b[0m in \u001b[0;36mvstack\u001b[1;34m(tup)\u001b[0m\n\u001b[0;32m    226\u001b[0m \u001b[1;33m\u001b[0m\u001b[0m\n\u001b[0;32m    227\u001b[0m     \"\"\"\n\u001b[1;32m--> 228\u001b[1;33m     \u001b[1;32mreturn\u001b[0m \u001b[0m_nx\u001b[0m\u001b[1;33m.\u001b[0m\u001b[0mconcatenate\u001b[0m\u001b[1;33m(\u001b[0m\u001b[1;33m[\u001b[0m\u001b[0matleast_2d\u001b[0m\u001b[1;33m(\u001b[0m\u001b[0m_m\u001b[0m\u001b[1;33m)\u001b[0m \u001b[1;32mfor\u001b[0m \u001b[0m_m\u001b[0m \u001b[1;32min\u001b[0m \u001b[0mtup\u001b[0m\u001b[1;33m]\u001b[0m\u001b[1;33m,\u001b[0m \u001b[1;36m0\u001b[0m\u001b[1;33m)\u001b[0m\u001b[1;33m\u001b[0m\u001b[0m\n\u001b[0m\u001b[0;32m    229\u001b[0m \u001b[1;33m\u001b[0m\u001b[0m\n\u001b[0;32m    230\u001b[0m \u001b[1;32mdef\u001b[0m \u001b[0mhstack\u001b[0m\u001b[1;33m(\u001b[0m\u001b[0mtup\u001b[0m\u001b[1;33m)\u001b[0m\u001b[1;33m:\u001b[0m\u001b[1;33m\u001b[0m\u001b[0m\n",
      "\u001b[1;31mValueError\u001b[0m: all the input array dimensions except for the concatenation axis must match exactly"
     ]
    }
   ],
   "source": [
    "fill=-999\n",
    "year=2003\n",
    "files=[]\n",
    "for i in range(1, 2):\n",
    "    for V in range(5,7):\n",
    "        for H in range(23,25):\n",
    "            files.append(\"/home/faizan/Desktop/MODIS.EVI.%d%03d\"  % (year, i)+ \".h%dv%02d\" % (H,V) + \".tif\" )\n",
    "\n",
    "#for l in files:\n",
    "limage = Index(files[0])\n",
    "cols = limage.iminfo['cols']\n",
    "rows = limage.iminfo['rows']\n",
    "bandnum= limage.iminfo['bandnum']\n",
    "h23v05 = (limage.Band2Array(fill))\n",
    "\n",
    "limage = Index(files[1])\n",
    "cols = limage.iminfo['cols']\n",
    "rows = limage.iminfo['rows']\n",
    "bandnum= limage.iminfo['bandnum']\n",
    "h24v05 = (limage.Band2Array(fill))\n",
    "\n",
    "Data1 = numpy.hstack([h23v05, h24v05])\n",
    "\n",
    "limage = Index(files[2])\n",
    "cols = limage.iminfo['cols']\n",
    "rows = limage.iminfo['rows']\n",
    "bandnum= limage.iminfo['bandnum']\n",
    "h23v06 = (limage.Band2Array(fill))\n",
    "\n",
    "limage = Index(files[3])\n",
    "cols = limage.iminfo['cols']\n",
    "rows = limage.iminfo['rows']\n",
    "bandnum= limage.iminfo['bandnum']\n",
    "h24v06 = (limage.Band2Array(fill))\n",
    "\n",
    "Data2 = numpy.hstack([h23v06, h24v06])\n",
    "\n",
    "Data = numpy.vstack([Data1, Data2])\n",
    "        \n",
    "\n",
    "\n"
   ]
  },
  {
   "cell_type": "code",
   "execution_count": 37,
   "metadata": {
    "collapsed": false
   },
   "outputs": [
    {
     "data": {
      "text/plain": [
       "(2000, 3215)"
      ]
     },
     "execution_count": 37,
     "metadata": {},
     "output_type": "execute_result"
    }
   ],
   "source": [
    "h23v06.shape\n",
    "\n"
   ]
  },
  {
   "cell_type": "code",
   "execution_count": 31,
   "metadata": {
    "collapsed": false
   },
   "outputs": [],
   "source": [
    "limage = Index(\"/home/faizan/Desktop/merge_pak.tif\")\n",
    "cols = limage.iminfo['cols']\n",
    "rows = limage.iminfo['rows']\n",
    "bandnum= limage.iminfo['bandnum']\n",
    "merge = (limage.Band2Array(fill))"
   ]
  },
  {
   "cell_type": "code",
   "execution_count": 33,
   "metadata": {
    "collapsed": false
   },
   "outputs": [
    {
     "data": {
      "text/plain": [
       "(4000, 7635)"
      ]
     },
     "execution_count": 33,
     "metadata": {},
     "output_type": "execute_result"
    }
   ],
   "source": [
    "merge.shape"
   ]
  },
  {
   "cell_type": "code",
   "execution_count": 9,
   "metadata": {
    "collapsed": false
   },
   "outputs": [
    {
     "data": {
      "text/plain": [
       "['/home/ken/Data/EVI/MODIS.EVI.2000091.tif.Illinois.tif',\n",
       " '/home/ken/Data/EVI/MODIS.EVI.2000092.tif.Illinois.tif',\n",
       " '/home/ken/Data/EVI/MODIS.EVI.2000093.tif.Illinois.tif',\n",
       " '/home/ken/Data/EVI/MODIS.EVI.2000094.tif.Illinois.tif',\n",
       " '/home/ken/Data/EVI/MODIS.EVI.2000095.tif.Illinois.tif',\n",
       " '/home/ken/Data/EVI/MODIS.EVI.2000096.tif.Illinois.tif',\n",
       " '/home/ken/Data/EVI/MODIS.EVI.2000097.tif.Illinois.tif',\n",
       " '/home/ken/Data/EVI/MODIS.EVI.2000098.tif.Illinois.tif',\n",
       " '/home/ken/Data/EVI/MODIS.EVI.2000099.tif.Illinois.tif',\n",
       " '/home/ken/Data/EVI/MODIS.EVI.2000100.tif.Illinois.tif',\n",
       " '/home/ken/Data/EVI/MODIS.EVI.2000101.tif.Illinois.tif',\n",
       " '/home/ken/Data/EVI/MODIS.EVI.2000102.tif.Illinois.tif',\n",
       " '/home/ken/Data/EVI/MODIS.EVI.2000103.tif.Illinois.tif',\n",
       " '/home/ken/Data/EVI/MODIS.EVI.2000104.tif.Illinois.tif',\n",
       " '/home/ken/Data/EVI/MODIS.EVI.2000105.tif.Illinois.tif',\n",
       " '/home/ken/Data/EVI/MODIS.EVI.2000106.tif.Illinois.tif',\n",
       " '/home/ken/Data/EVI/MODIS.EVI.2000107.tif.Illinois.tif',\n",
       " '/home/ken/Data/EVI/MODIS.EVI.2000108.tif.Illinois.tif',\n",
       " '/home/ken/Data/EVI/MODIS.EVI.2000109.tif.Illinois.tif',\n",
       " '/home/ken/Data/EVI/MODIS.EVI.2000110.tif.Illinois.tif',\n",
       " '/home/ken/Data/EVI/MODIS.EVI.2000111.tif.Illinois.tif',\n",
       " '/home/ken/Data/EVI/MODIS.EVI.2000112.tif.Illinois.tif',\n",
       " '/home/ken/Data/EVI/MODIS.EVI.2000113.tif.Illinois.tif',\n",
       " '/home/ken/Data/EVI/MODIS.EVI.2000114.tif.Illinois.tif',\n",
       " '/home/ken/Data/EVI/MODIS.EVI.2000115.tif.Illinois.tif',\n",
       " '/home/ken/Data/EVI/MODIS.EVI.2000116.tif.Illinois.tif',\n",
       " '/home/ken/Data/EVI/MODIS.EVI.2000117.tif.Illinois.tif',\n",
       " '/home/ken/Data/EVI/MODIS.EVI.2000118.tif.Illinois.tif',\n",
       " '/home/ken/Data/EVI/MODIS.EVI.2000119.tif.Illinois.tif',\n",
       " '/home/ken/Data/EVI/MODIS.EVI.2000120.tif.Illinois.tif',\n",
       " '/home/ken/Data/EVI/MODIS.EVI.2000121.tif.Illinois.tif',\n",
       " '/home/ken/Data/EVI/MODIS.EVI.2000122.tif.Illinois.tif',\n",
       " '/home/ken/Data/EVI/MODIS.EVI.2000123.tif.Illinois.tif',\n",
       " '/home/ken/Data/EVI/MODIS.EVI.2000124.tif.Illinois.tif',\n",
       " '/home/ken/Data/EVI/MODIS.EVI.2000125.tif.Illinois.tif',\n",
       " '/home/ken/Data/EVI/MODIS.EVI.2000126.tif.Illinois.tif',\n",
       " '/home/ken/Data/EVI/MODIS.EVI.2000127.tif.Illinois.tif',\n",
       " '/home/ken/Data/EVI/MODIS.EVI.2000128.tif.Illinois.tif',\n",
       " '/home/ken/Data/EVI/MODIS.EVI.2000129.tif.Illinois.tif',\n",
       " '/home/ken/Data/EVI/MODIS.EVI.2000130.tif.Illinois.tif',\n",
       " '/home/ken/Data/EVI/MODIS.EVI.2000131.tif.Illinois.tif',\n",
       " '/home/ken/Data/EVI/MODIS.EVI.2000132.tif.Illinois.tif',\n",
       " '/home/ken/Data/EVI/MODIS.EVI.2000133.tif.Illinois.tif',\n",
       " '/home/ken/Data/EVI/MODIS.EVI.2000134.tif.Illinois.tif',\n",
       " '/home/ken/Data/EVI/MODIS.EVI.2000135.tif.Illinois.tif',\n",
       " '/home/ken/Data/EVI/MODIS.EVI.2000136.tif.Illinois.tif',\n",
       " '/home/ken/Data/EVI/MODIS.EVI.2000137.tif.Illinois.tif',\n",
       " '/home/ken/Data/EVI/MODIS.EVI.2000138.tif.Illinois.tif',\n",
       " '/home/ken/Data/EVI/MODIS.EVI.2000139.tif.Illinois.tif',\n",
       " '/home/ken/Data/EVI/MODIS.EVI.2000140.tif.Illinois.tif',\n",
       " '/home/ken/Data/EVI/MODIS.EVI.2000141.tif.Illinois.tif',\n",
       " '/home/ken/Data/EVI/MODIS.EVI.2000142.tif.Illinois.tif',\n",
       " '/home/ken/Data/EVI/MODIS.EVI.2000143.tif.Illinois.tif',\n",
       " '/home/ken/Data/EVI/MODIS.EVI.2000144.tif.Illinois.tif',\n",
       " '/home/ken/Data/EVI/MODIS.EVI.2000145.tif.Illinois.tif',\n",
       " '/home/ken/Data/EVI/MODIS.EVI.2000146.tif.Illinois.tif',\n",
       " '/home/ken/Data/EVI/MODIS.EVI.2000147.tif.Illinois.tif',\n",
       " '/home/ken/Data/EVI/MODIS.EVI.2000148.tif.Illinois.tif',\n",
       " '/home/ken/Data/EVI/MODIS.EVI.2000149.tif.Illinois.tif',\n",
       " '/home/ken/Data/EVI/MODIS.EVI.2000150.tif.Illinois.tif',\n",
       " '/home/ken/Data/EVI/MODIS.EVI.2000151.tif.Illinois.tif',\n",
       " '/home/ken/Data/EVI/MODIS.EVI.2000152.tif.Illinois.tif',\n",
       " '/home/ken/Data/EVI/MODIS.EVI.2000153.tif.Illinois.tif',\n",
       " '/home/ken/Data/EVI/MODIS.EVI.2000154.tif.Illinois.tif',\n",
       " '/home/ken/Data/EVI/MODIS.EVI.2000155.tif.Illinois.tif',\n",
       " '/home/ken/Data/EVI/MODIS.EVI.2000156.tif.Illinois.tif',\n",
       " '/home/ken/Data/EVI/MODIS.EVI.2000157.tif.Illinois.tif',\n",
       " '/home/ken/Data/EVI/MODIS.EVI.2000158.tif.Illinois.tif',\n",
       " '/home/ken/Data/EVI/MODIS.EVI.2000159.tif.Illinois.tif',\n",
       " '/home/ken/Data/EVI/MODIS.EVI.2000160.tif.Illinois.tif',\n",
       " '/home/ken/Data/EVI/MODIS.EVI.2000161.tif.Illinois.tif',\n",
       " '/home/ken/Data/EVI/MODIS.EVI.2000162.tif.Illinois.tif',\n",
       " '/home/ken/Data/EVI/MODIS.EVI.2000163.tif.Illinois.tif',\n",
       " '/home/ken/Data/EVI/MODIS.EVI.2000164.tif.Illinois.tif',\n",
       " '/home/ken/Data/EVI/MODIS.EVI.2000165.tif.Illinois.tif',\n",
       " '/home/ken/Data/EVI/MODIS.EVI.2000166.tif.Illinois.tif',\n",
       " '/home/ken/Data/EVI/MODIS.EVI.2000167.tif.Illinois.tif',\n",
       " '/home/ken/Data/EVI/MODIS.EVI.2000168.tif.Illinois.tif',\n",
       " '/home/ken/Data/EVI/MODIS.EVI.2000169.tif.Illinois.tif',\n",
       " '/home/ken/Data/EVI/MODIS.EVI.2000170.tif.Illinois.tif',\n",
       " '/home/ken/Data/EVI/MODIS.EVI.2000171.tif.Illinois.tif',\n",
       " '/home/ken/Data/EVI/MODIS.EVI.2000172.tif.Illinois.tif',\n",
       " '/home/ken/Data/EVI/MODIS.EVI.2000173.tif.Illinois.tif',\n",
       " '/home/ken/Data/EVI/MODIS.EVI.2000174.tif.Illinois.tif',\n",
       " '/home/ken/Data/EVI/MODIS.EVI.2000175.tif.Illinois.tif',\n",
       " '/home/ken/Data/EVI/MODIS.EVI.2000176.tif.Illinois.tif',\n",
       " '/home/ken/Data/EVI/MODIS.EVI.2000177.tif.Illinois.tif',\n",
       " '/home/ken/Data/EVI/MODIS.EVI.2000178.tif.Illinois.tif',\n",
       " '/home/ken/Data/EVI/MODIS.EVI.2000179.tif.Illinois.tif',\n",
       " '/home/ken/Data/EVI/MODIS.EVI.2000180.tif.Illinois.tif',\n",
       " '/home/ken/Data/EVI/MODIS.EVI.2000181.tif.Illinois.tif',\n",
       " '/home/ken/Data/EVI/MODIS.EVI.2000182.tif.Illinois.tif',\n",
       " '/home/ken/Data/EVI/MODIS.EVI.2000183.tif.Illinois.tif',\n",
       " '/home/ken/Data/EVI/MODIS.EVI.2000184.tif.Illinois.tif',\n",
       " '/home/ken/Data/EVI/MODIS.EVI.2000185.tif.Illinois.tif',\n",
       " '/home/ken/Data/EVI/MODIS.EVI.2000186.tif.Illinois.tif',\n",
       " '/home/ken/Data/EVI/MODIS.EVI.2000187.tif.Illinois.tif',\n",
       " '/home/ken/Data/EVI/MODIS.EVI.2000188.tif.Illinois.tif',\n",
       " '/home/ken/Data/EVI/MODIS.EVI.2000189.tif.Illinois.tif',\n",
       " '/home/ken/Data/EVI/MODIS.EVI.2000190.tif.Illinois.tif',\n",
       " '/home/ken/Data/EVI/MODIS.EVI.2000191.tif.Illinois.tif',\n",
       " '/home/ken/Data/EVI/MODIS.EVI.2000192.tif.Illinois.tif',\n",
       " '/home/ken/Data/EVI/MODIS.EVI.2000193.tif.Illinois.tif',\n",
       " '/home/ken/Data/EVI/MODIS.EVI.2000194.tif.Illinois.tif',\n",
       " '/home/ken/Data/EVI/MODIS.EVI.2000195.tif.Illinois.tif',\n",
       " '/home/ken/Data/EVI/MODIS.EVI.2000196.tif.Illinois.tif',\n",
       " '/home/ken/Data/EVI/MODIS.EVI.2000197.tif.Illinois.tif',\n",
       " '/home/ken/Data/EVI/MODIS.EVI.2000198.tif.Illinois.tif',\n",
       " '/home/ken/Data/EVI/MODIS.EVI.2000199.tif.Illinois.tif',\n",
       " '/home/ken/Data/EVI/MODIS.EVI.2000200.tif.Illinois.tif',\n",
       " '/home/ken/Data/EVI/MODIS.EVI.2000201.tif.Illinois.tif',\n",
       " '/home/ken/Data/EVI/MODIS.EVI.2000202.tif.Illinois.tif',\n",
       " '/home/ken/Data/EVI/MODIS.EVI.2000203.tif.Illinois.tif',\n",
       " '/home/ken/Data/EVI/MODIS.EVI.2000204.tif.Illinois.tif',\n",
       " '/home/ken/Data/EVI/MODIS.EVI.2000205.tif.Illinois.tif',\n",
       " '/home/ken/Data/EVI/MODIS.EVI.2000206.tif.Illinois.tif',\n",
       " '/home/ken/Data/EVI/MODIS.EVI.2000207.tif.Illinois.tif',\n",
       " '/home/ken/Data/EVI/MODIS.EVI.2000208.tif.Illinois.tif',\n",
       " '/home/ken/Data/EVI/MODIS.EVI.2000209.tif.Illinois.tif',\n",
       " '/home/ken/Data/EVI/MODIS.EVI.2000210.tif.Illinois.tif',\n",
       " '/home/ken/Data/EVI/MODIS.EVI.2000211.tif.Illinois.tif',\n",
       " '/home/ken/Data/EVI/MODIS.EVI.2000212.tif.Illinois.tif',\n",
       " '/home/ken/Data/EVI/MODIS.EVI.2000213.tif.Illinois.tif',\n",
       " '/home/ken/Data/EVI/MODIS.EVI.2000214.tif.Illinois.tif',\n",
       " '/home/ken/Data/EVI/MODIS.EVI.2000215.tif.Illinois.tif',\n",
       " '/home/ken/Data/EVI/MODIS.EVI.2000216.tif.Illinois.tif',\n",
       " '/home/ken/Data/EVI/MODIS.EVI.2000217.tif.Illinois.tif',\n",
       " '/home/ken/Data/EVI/MODIS.EVI.2000218.tif.Illinois.tif',\n",
       " '/home/ken/Data/EVI/MODIS.EVI.2000219.tif.Illinois.tif',\n",
       " '/home/ken/Data/EVI/MODIS.EVI.2000220.tif.Illinois.tif',\n",
       " '/home/ken/Data/EVI/MODIS.EVI.2000221.tif.Illinois.tif',\n",
       " '/home/ken/Data/EVI/MODIS.EVI.2000222.tif.Illinois.tif',\n",
       " '/home/ken/Data/EVI/MODIS.EVI.2000223.tif.Illinois.tif',\n",
       " '/home/ken/Data/EVI/MODIS.EVI.2000224.tif.Illinois.tif',\n",
       " '/home/ken/Data/EVI/MODIS.EVI.2000225.tif.Illinois.tif',\n",
       " '/home/ken/Data/EVI/MODIS.EVI.2000226.tif.Illinois.tif',\n",
       " '/home/ken/Data/EVI/MODIS.EVI.2000227.tif.Illinois.tif',\n",
       " '/home/ken/Data/EVI/MODIS.EVI.2000228.tif.Illinois.tif',\n",
       " '/home/ken/Data/EVI/MODIS.EVI.2000229.tif.Illinois.tif',\n",
       " '/home/ken/Data/EVI/MODIS.EVI.2000230.tif.Illinois.tif',\n",
       " '/home/ken/Data/EVI/MODIS.EVI.2000231.tif.Illinois.tif',\n",
       " '/home/ken/Data/EVI/MODIS.EVI.2000232.tif.Illinois.tif',\n",
       " '/home/ken/Data/EVI/MODIS.EVI.2000233.tif.Illinois.tif',\n",
       " '/home/ken/Data/EVI/MODIS.EVI.2000234.tif.Illinois.tif',\n",
       " '/home/ken/Data/EVI/MODIS.EVI.2000235.tif.Illinois.tif',\n",
       " '/home/ken/Data/EVI/MODIS.EVI.2000236.tif.Illinois.tif',\n",
       " '/home/ken/Data/EVI/MODIS.EVI.2000237.tif.Illinois.tif',\n",
       " '/home/ken/Data/EVI/MODIS.EVI.2000238.tif.Illinois.tif',\n",
       " '/home/ken/Data/EVI/MODIS.EVI.2000239.tif.Illinois.tif',\n",
       " '/home/ken/Data/EVI/MODIS.EVI.2000240.tif.Illinois.tif',\n",
       " '/home/ken/Data/EVI/MODIS.EVI.2000241.tif.Illinois.tif',\n",
       " '/home/ken/Data/EVI/MODIS.EVI.2000242.tif.Illinois.tif',\n",
       " '/home/ken/Data/EVI/MODIS.EVI.2000243.tif.Illinois.tif',\n",
       " '/home/ken/Data/EVI/MODIS.EVI.2000244.tif.Illinois.tif',\n",
       " '/home/ken/Data/EVI/MODIS.EVI.2000245.tif.Illinois.tif',\n",
       " '/home/ken/Data/EVI/MODIS.EVI.2000246.tif.Illinois.tif',\n",
       " '/home/ken/Data/EVI/MODIS.EVI.2000247.tif.Illinois.tif',\n",
       " '/home/ken/Data/EVI/MODIS.EVI.2000248.tif.Illinois.tif',\n",
       " '/home/ken/Data/EVI/MODIS.EVI.2000249.tif.Illinois.tif',\n",
       " '/home/ken/Data/EVI/MODIS.EVI.2000250.tif.Illinois.tif',\n",
       " '/home/ken/Data/EVI/MODIS.EVI.2000251.tif.Illinois.tif',\n",
       " '/home/ken/Data/EVI/MODIS.EVI.2000252.tif.Illinois.tif',\n",
       " '/home/ken/Data/EVI/MODIS.EVI.2000253.tif.Illinois.tif',\n",
       " '/home/ken/Data/EVI/MODIS.EVI.2000254.tif.Illinois.tif',\n",
       " '/home/ken/Data/EVI/MODIS.EVI.2000255.tif.Illinois.tif',\n",
       " '/home/ken/Data/EVI/MODIS.EVI.2000256.tif.Illinois.tif',\n",
       " '/home/ken/Data/EVI/MODIS.EVI.2000257.tif.Illinois.tif',\n",
       " '/home/ken/Data/EVI/MODIS.EVI.2000258.tif.Illinois.tif',\n",
       " '/home/ken/Data/EVI/MODIS.EVI.2000259.tif.Illinois.tif',\n",
       " '/home/ken/Data/EVI/MODIS.EVI.2000260.tif.Illinois.tif',\n",
       " '/home/ken/Data/EVI/MODIS.EVI.2000261.tif.Illinois.tif',\n",
       " '/home/ken/Data/EVI/MODIS.EVI.2000262.tif.Illinois.tif',\n",
       " '/home/ken/Data/EVI/MODIS.EVI.2000263.tif.Illinois.tif',\n",
       " '/home/ken/Data/EVI/MODIS.EVI.2000264.tif.Illinois.tif',\n",
       " '/home/ken/Data/EVI/MODIS.EVI.2000265.tif.Illinois.tif',\n",
       " '/home/ken/Data/EVI/MODIS.EVI.2000266.tif.Illinois.tif',\n",
       " '/home/ken/Data/EVI/MODIS.EVI.2000267.tif.Illinois.tif',\n",
       " '/home/ken/Data/EVI/MODIS.EVI.2000268.tif.Illinois.tif',\n",
       " '/home/ken/Data/EVI/MODIS.EVI.2000269.tif.Illinois.tif',\n",
       " '/home/ken/Data/EVI/MODIS.EVI.2000270.tif.Illinois.tif',\n",
       " '/home/ken/Data/EVI/MODIS.EVI.2000271.tif.Illinois.tif',\n",
       " '/home/ken/Data/EVI/MODIS.EVI.2000272.tif.Illinois.tif',\n",
       " '/home/ken/Data/EVI/MODIS.EVI.2000273.tif.Illinois.tif',\n",
       " '/home/ken/Data/EVI/MODIS.EVI.2000274.tif.Illinois.tif',\n",
       " '/home/ken/Data/EVI/MODIS.EVI.2000275.tif.Illinois.tif',\n",
       " '/home/ken/Data/EVI/MODIS.EVI.2000276.tif.Illinois.tif',\n",
       " '/home/ken/Data/EVI/MODIS.EVI.2000277.tif.Illinois.tif',\n",
       " '/home/ken/Data/EVI/MODIS.EVI.2000278.tif.Illinois.tif',\n",
       " '/home/ken/Data/EVI/MODIS.EVI.2000279.tif.Illinois.tif',\n",
       " '/home/ken/Data/EVI/MODIS.EVI.2000280.tif.Illinois.tif',\n",
       " '/home/ken/Data/EVI/MODIS.EVI.2000281.tif.Illinois.tif',\n",
       " '/home/ken/Data/EVI/MODIS.EVI.2000282.tif.Illinois.tif',\n",
       " '/home/ken/Data/EVI/MODIS.EVI.2000283.tif.Illinois.tif',\n",
       " '/home/ken/Data/EVI/MODIS.EVI.2000284.tif.Illinois.tif',\n",
       " '/home/ken/Data/EVI/MODIS.EVI.2000285.tif.Illinois.tif',\n",
       " '/home/ken/Data/EVI/MODIS.EVI.2000286.tif.Illinois.tif',\n",
       " '/home/ken/Data/EVI/MODIS.EVI.2000287.tif.Illinois.tif',\n",
       " '/home/ken/Data/EVI/MODIS.EVI.2000288.tif.Illinois.tif',\n",
       " '/home/ken/Data/EVI/MODIS.EVI.2000289.tif.Illinois.tif',\n",
       " '/home/ken/Data/EVI/MODIS.EVI.2000290.tif.Illinois.tif',\n",
       " '/home/ken/Data/EVI/MODIS.EVI.2000291.tif.Illinois.tif',\n",
       " '/home/ken/Data/EVI/MODIS.EVI.2000292.tif.Illinois.tif',\n",
       " '/home/ken/Data/EVI/MODIS.EVI.2000293.tif.Illinois.tif',\n",
       " '/home/ken/Data/EVI/MODIS.EVI.2000294.tif.Illinois.tif',\n",
       " '/home/ken/Data/EVI/MODIS.EVI.2000295.tif.Illinois.tif',\n",
       " '/home/ken/Data/EVI/MODIS.EVI.2000296.tif.Illinois.tif',\n",
       " '/home/ken/Data/EVI/MODIS.EVI.2000297.tif.Illinois.tif',\n",
       " '/home/ken/Data/EVI/MODIS.EVI.2000298.tif.Illinois.tif',\n",
       " '/home/ken/Data/EVI/MODIS.EVI.2000299.tif.Illinois.tif',\n",
       " '/home/ken/Data/EVI/MODIS.EVI.2000300.tif.Illinois.tif',\n",
       " '/home/ken/Data/EVI/MODIS.EVI.2000301.tif.Illinois.tif',\n",
       " '/home/ken/Data/EVI/MODIS.EVI.2000302.tif.Illinois.tif',\n",
       " '/home/ken/Data/EVI/MODIS.EVI.2000303.tif.Illinois.tif',\n",
       " '/home/ken/Data/EVI/MODIS.EVI.2000304.tif.Illinois.tif',\n",
       " '/home/ken/Data/EVI/MODIS.EVI.2000305.tif.Illinois.tif',\n",
       " '/home/ken/Data/EVI/MODIS.EVI.2000306.tif.Illinois.tif',\n",
       " '/home/ken/Data/EVI/MODIS.EVI.2000307.tif.Illinois.tif',\n",
       " '/home/ken/Data/EVI/MODIS.EVI.2000308.tif.Illinois.tif',\n",
       " '/home/ken/Data/EVI/MODIS.EVI.2000309.tif.Illinois.tif',\n",
       " '/home/ken/Data/EVI/MODIS.EVI.2000310.tif.Illinois.tif',\n",
       " '/home/ken/Data/EVI/MODIS.EVI.2000311.tif.Illinois.tif',\n",
       " '/home/ken/Data/EVI/MODIS.EVI.2000312.tif.Illinois.tif',\n",
       " '/home/ken/Data/EVI/MODIS.EVI.2000313.tif.Illinois.tif',\n",
       " '/home/ken/Data/EVI/MODIS.EVI.2000314.tif.Illinois.tif',\n",
       " '/home/ken/Data/EVI/MODIS.EVI.2000315.tif.Illinois.tif',\n",
       " '/home/ken/Data/EVI/MODIS.EVI.2000316.tif.Illinois.tif',\n",
       " '/home/ken/Data/EVI/MODIS.EVI.2000317.tif.Illinois.tif',\n",
       " '/home/ken/Data/EVI/MODIS.EVI.2000318.tif.Illinois.tif',\n",
       " '/home/ken/Data/EVI/MODIS.EVI.2000319.tif.Illinois.tif',\n",
       " '/home/ken/Data/EVI/MODIS.EVI.2000320.tif.Illinois.tif',\n",
       " '/home/ken/Data/EVI/MODIS.EVI.2000321.tif.Illinois.tif',\n",
       " '/home/ken/Data/EVI/MODIS.EVI.2000322.tif.Illinois.tif',\n",
       " '/home/ken/Data/EVI/MODIS.EVI.2000323.tif.Illinois.tif',\n",
       " '/home/ken/Data/EVI/MODIS.EVI.2000324.tif.Illinois.tif',\n",
       " '/home/ken/Data/EVI/MODIS.EVI.2000325.tif.Illinois.tif',\n",
       " '/home/ken/Data/EVI/MODIS.EVI.2000326.tif.Illinois.tif',\n",
       " '/home/ken/Data/EVI/MODIS.EVI.2000327.tif.Illinois.tif',\n",
       " '/home/ken/Data/EVI/MODIS.EVI.2000328.tif.Illinois.tif',\n",
       " '/home/ken/Data/EVI/MODIS.EVI.2000329.tif.Illinois.tif',\n",
       " '/home/ken/Data/EVI/MODIS.EVI.2000330.tif.Illinois.tif',\n",
       " '/home/ken/Data/EVI/MODIS.EVI.2000331.tif.Illinois.tif',\n",
       " '/home/ken/Data/EVI/MODIS.EVI.2000332.tif.Illinois.tif',\n",
       " '/home/ken/Data/EVI/MODIS.EVI.2000333.tif.Illinois.tif',\n",
       " '/home/ken/Data/EVI/MODIS.EVI.2000334.tif.Illinois.tif']"
      ]
     },
     "execution_count": 9,
     "metadata": {},
     "output_type": "execute_result"
    }
   ],
   "source": [
    "files"
   ]
  },
  {
   "cell_type": "code",
   "execution_count": null,
   "metadata": {
    "collapsed": true
   },
   "outputs": [],
   "source": []
  }
 ],
 "metadata": {
  "kernelspec": {
   "display_name": "Python 2",
   "language": "python",
   "name": "python2"
  },
  "language_info": {
   "codemirror_mode": {
    "name": "ipython",
    "version": 2
   },
   "file_extension": ".py",
   "mimetype": "text/x-python",
   "name": "python",
   "nbconvert_exporter": "python",
   "pygments_lexer": "ipython2",
   "version": "2.7.6"
  }
 },
 "nbformat": 4,
 "nbformat_minor": 0
}
