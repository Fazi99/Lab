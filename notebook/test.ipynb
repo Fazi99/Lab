{
 "cells": [
  {
   "cell_type": "code",
   "execution_count": 24,
   "metadata": {
    "collapsed": false
   },
   "outputs": [],
   "source": [
    "from osgeo import gdal\n",
    "import numpy\n",
    "from numpy.core.umath import add, subtract\n",
    "\n",
    "\n",
    "class MDimage(object):\n",
    "    def __init__(self, filepath):\n",
    "        self.filepath = filepath\n",
    "        self.ds = gdal.Open(filepath, gdal.GA_ReadOnly)\n",
    "        self.iminfo = dict()\n",
    "        self.iminfo['bandnum'] = self.ds.RasterCount\n",
    "        self.iminfo['cols'] = self.ds.RasterXSize\n",
    "        self.iminfo['rows'] = self.ds.RasterYSize\n",
    "        self.iminfo['originX'] = self.ds.GetGeoTransform()[0]\n",
    "        self.iminfo['originY'] = self.ds.GetGeoTransform()[3]\n",
    "        self.iminfo['pixelWidth'] = self.ds.GetGeoTransform()[1]\n",
    "        self.iminfo['pixelHeight'] = self.ds.GetGeoTransform()[5]\n",
    "\n",
    "class Index(MDimage):\n",
    "    def __init__(self, filepath):\n",
    "        self.filepath = filepath\n",
    "        super(Index, self).__init__(filepath)\n",
    "\n",
    "    def Band2Array(self,factor,fill):\n",
    "        cols = self.iminfo['cols']\n",
    "        rows = self.iminfo['rows']\n",
    "        band = self.ds.GetRasterBand(1)\n",
    "        self.fill=fill\n",
    "        array = band.ReadAsArray(0, 0, cols, rows)\n",
    "        #array [array <-100] =fill\n",
    "        #array = numpy.where(array ==fill, fill , array * 0.0001)\n",
    "        array= array.reshape(cols*rows)\n",
    "        return  array\n",
    "\n",
    "    def trtData(self,evi,lswi,dvel):\n",
    "        self.evi=evi\n",
    "        self.lswi=lswi\n",
    "        self.dvel=dvel\n",
    "        X=[]\n",
    "        for i in range(len(evi)):\n",
    "            F=[]\n",
    "            F.append(evi[i])\n",
    "            F.append(lswi[i])\n",
    "            F.append(dvel[i])\n",
    "            #F.append(subtract(evi[i],lswi[i]))\n",
    "            X.append(F)\n",
    "        return X\n",
    "\n",
    "    def trainResult(self,flood):\n",
    "        self.flood=flood\n",
    "        Y=[]\n",
    "        for i in range(len(flood)):\n",
    "            Y.append(flood[i])\n",
    "        return Y\n",
    "\n",
    "    def index2Array(self,fill):\n",
    "        cols = self.iminfo['cols']\n",
    "        rows = self.iminfo['rows']\n",
    "        band = self.ds.GetRasterBand(1)\n",
    "        self.fill=fill\n",
    "        array = band.ReadAsArray(0, 0, cols, rows)\n",
    "        array = array.reshape(cols * rows)\n",
    "        return  array\n",
    "\n",
    "    def csv2Array(self,fill):\n",
    "        cols = self.iminfo['cols']\n",
    "        rows = self.iminfo['rows']\n",
    "        path = \"/home/faizan/Desktop/full/result.csv\"\n",
    "        data = numpy.genfromtxt(path, dtype=float, delimiter=',')\n",
    "        array = data.reshape(cols * rows)\n",
    "        return  array\n",
    "\n",
    "\n",
    "    def WriteArrayAsImage(self, out_fname, outArray):\n",
    "        cols = self.iminfo['cols']\n",
    "        rows = self.iminfo['rows']\n",
    "        driver = self.ds.GetDriver()\n",
    "        self.outArray = outArray\n",
    "        outArray= outArray.reshape([rows,cols])\n",
    "        outDS = driver.Create(out_fname, cols, rows, 1, gdal.GDT_Float32)\n",
    "        outDS.SetGeoTransform(self.ds.GetGeoTransform())\n",
    "        outDS.SetProjection(self.ds.GetProjection())\n",
    "        outBand = outDS.GetRasterBand(1)\n",
    "        outBand.WriteArray(outArray)\n",
    "        outDS = None\n",
    "        del outDS, outBand\n",
    "    \n",
    "    \n",
    "    def cMatrix(self, actual, test):\n",
    "        self.actual=actual\n",
    "        self.test=test\n",
    "        F_F=0\n",
    "        F_N=0\n",
    "        F_fi=0\n",
    "        N_F =0\n",
    "        N_N =0\n",
    "        N_fi=0\n",
    "        Fi_F=0\n",
    "        Fi_N=0\n",
    "        Fi_fi=0\n",
    "    \n",
    "        for i in range(len(actual)):\n",
    "            if actual[i]==test[i]:\n",
    "                if actual[i]==0:\n",
    "                    N_N += 1\n",
    "                elif actual[i]==1:\n",
    "                    F_F += 1\n",
    "                else:\n",
    "                    Fi_fi += 1\n",
    "            else:\n",
    "                if actual[i]==0:\n",
    "                    if test[i]==1:\n",
    "                        N_F += 1\n",
    "                    else:\n",
    "                        N_fi+= 1\n",
    "                elif actual[i]==1:\n",
    "                    if test[i]==0:\n",
    "                        F_N +=1\n",
    "                    else:\n",
    "                        F_fi +=1 \n",
    "                else:\n",
    "                    if test[i]==1:\n",
    "                        Fi_F +=1\n",
    "                    else:\n",
    "                        Fi_N +=1\n",
    "        \n",
    "        LIST= [F_F,F_N,F_fi,N_F,N_N,\n",
    "               N_fi,Fi_F,Fi_N,Fi_fi]\n",
    "        \n",
    "        C_matrix = numpy.array(LIST).reshape(3,3)\n",
    "        return C_matrix\n",
    "    \n",
    "    \n"
   ]
  },
  {
   "cell_type": "code",
   "execution_count": 39,
   "metadata": {
    "collapsed": false
   },
   "outputs": [],
   "source": [
    "\n",
    "import numpy as np\n",
    "from sklearn import svm\n",
    "from osgeo import gdal\n",
    "from sklearn.externals import joblib\n",
    "#from multiprocessing import Pool\n",
    "\n",
    "fill=-999\n",
    "path=\"/home/faizan/USA_data/h11v05/\"\n",
    "\n",
    "#assigning names test data\n",
    "evi=path+\"A2008161.US.evi.tif\"\n",
    "dvel=path+\"A2008161.US.dvel.tif\"\n",
    "lswi=path+\"A2008161.US.lswi.tif\"\n",
    "Oflood = path+\"A2008161.US.machineflood.tif\"\n",
    "#save model\n",
    "\n",
    "#joblib.dump(clf, '/home/faizan/Desktop/full/trained.pkl')\n",
    "clf = joblib.load('/home/faizan/Desktop/full/trained.pkl') \n",
    "\n",
    "#del EVI_t, LSWI_t, DVEL_t, Flood_t, X, Y\n",
    "#Test data\n",
    "limage = Index(evi)\n",
    "cols = limage.iminfo['cols']\n",
    "# Get pixel row number\n",
    "rows = limage.iminfo['rows']\n",
    "bandnum= limage.iminfo['bandnum']\n",
    "EVI = (limage.index2Array(fill))\n",
    "\n",
    "limage = Index(lswi)\n",
    "LSWI = (limage.index2Array(fill))\n",
    "\n",
    "limage = Index(dvel)\n",
    "DVEL = (limage.index2Array(fill))\n",
    "\n",
    "data = (limage.trtData(EVI, LSWI, DVEL))\n",
    "\n",
    "#pool = Pool(processess = 5)\n",
    "#flood_array = pool.map(work, (data/5, data/5, data/5, data/5, data/5)\n",
    "#Get Flood as tiff\n",
    "#flood = clf.predict(data)\n",
    "limage.WriteArrayAsImage(Oflood, flood)\n",
    "#del flood, EVI, LSWI, DVEL, data\n"
   ]
  },
  {
   "cell_type": "code",
   "execution_count": 45,
   "metadata": {
    "collapsed": false
   },
   "outputs": [
    {
     "data": {
      "text/plain": [
       "1768800"
      ]
     },
     "execution_count": 45,
     "metadata": {},
     "output_type": "execute_result"
    }
   ],
   "source": [
    "len(data)/5\n",
    "\n"
   ]
  },
  {
   "cell_type": "code",
   "execution_count": 46,
   "metadata": {
    "collapsed": false
   },
   "outputs": [
    {
     "data": {
      "text/plain": [
       "[-999.0, -999.0, -999.0]"
      ]
     },
     "execution_count": 46,
     "metadata": {},
     "output_type": "execute_result"
    }
   ],
   "source": [
    "data[1777000]"
   ]
  },
  {
   "cell_type": "code",
   "execution_count": 34,
   "metadata": {
    "collapsed": false
   },
   "outputs": [],
   "source": [
    "fill=-999\n",
    "Actual = \"/home/faizan/Desktop/full/2010249act_C.tif\"\n",
    "limage = Index(Actual)\n",
    "cols = limage.iminfo['cols']\n",
    "# Get pixel row number\n",
    "rows = limage.iminfo['rows']\n",
    "bandnum= limage.iminfo['bandnum']\n",
    "Actual = (limage.index2Array(fill))\n"
   ]
  },
  {
   "cell_type": "code",
   "execution_count": 29,
   "metadata": {
    "collapsed": false
   },
   "outputs": [
    {
     "data": {
      "text/plain": [
       "array([-999., -999., -999., ..., -999., -999., -999.], dtype=float32)"
      ]
     },
     "execution_count": 29,
     "metadata": {},
     "output_type": "execute_result"
    }
   ],
   "source": [
    "Actual"
   ]
  },
  {
   "cell_type": "code",
   "execution_count": 35,
   "metadata": {
    "collapsed": false
   },
   "outputs": [],
   "source": [
    "test = \"/home/faizan/Desktop/full/2010249res_C.tif\"\n",
    "limage = Index(test)\n",
    "cols = limage.iminfo['cols']\n",
    "# Get pixel row number\n",
    "rows = limage.iminfo['rows']\n",
    "test = (limage.index2Array(fill))"
   ]
  },
  {
   "cell_type": "code",
   "execution_count": 36,
   "metadata": {
    "collapsed": false
   },
   "outputs": [
    {
     "data": {
      "text/plain": [
       "array([-999., -999., -999., ..., -999., -999., -999.], dtype=float32)"
      ]
     },
     "execution_count": 36,
     "metadata": {},
     "output_type": "execute_result"
    }
   ],
   "source": [
    "test"
   ]
  },
  {
   "cell_type": "code",
   "execution_count": 37,
   "metadata": {
    "collapsed": false
   },
   "outputs": [
    {
     "data": {
      "text/plain": [
       "array([[  70749,    2309,       0],\n",
       "       [   2248,  502907, 1195120],\n",
       "       [      0,       0,   66535]])"
      ]
     },
     "execution_count": 37,
     "metadata": {},
     "output_type": "execute_result"
    }
   ],
   "source": [
    "cMat= limage.cMatrix(Actual, test)\n",
    "cMat"
   ]
  },
  {
   "cell_type": "code",
   "execution_count": 32,
   "metadata": {
    "collapsed": false
   },
   "outputs": [
    {
     "data": {
      "text/plain": [
       "array([[1102000,   36105,       0],\n",
       "       [  11732, 2799240,       0],\n",
       "       [    407,       0, 2842516]])"
      ]
     },
     "execution_count": 32,
     "metadata": {},
     "output_type": "execute_result"
    }
   ],
   "source": [
    "cMat= limage.cMatrix(Actual, test)\n",
    "cMat"
   ]
  },
  {
   "cell_type": "code",
   "execution_count": 21,
   "metadata": {
    "collapsed": false
   },
   "outputs": [
    {
     "data": {
      "text/plain": [
       "array([[1067822,   47039,       0],\n",
       "       [   9312, 3267721,       0],\n",
       "       [      5,       0, 2400101]])"
      ]
     },
     "execution_count": 21,
     "metadata": {},
     "output_type": "execute_result"
    }
   ],
   "source": [
    "cMat= limage.cMatrix(Actual, test)\n",
    "cMat"
   ]
  },
  {
   "cell_type": "code",
   "execution_count": null,
   "metadata": {
    "collapsed": false
   },
   "outputs": [],
   "source": []
  },
  {
   "cell_type": "code",
   "execution_count": 46,
   "metadata": {
    "collapsed": false
   },
   "outputs": [],
   "source": [
    "Mat= limage.cMatrix(Actual, flood)"
   ]
  },
  {
   "cell_type": "code",
   "execution_count": 47,
   "metadata": {
    "collapsed": false
   },
   "outputs": [
    {
     "data": {
      "text/plain": [
       "array([[1893392,   52525,       0],\n",
       "       [   5174, 2945136,       0],\n",
       "       [      1,       0, 3947772]])"
      ]
     },
     "execution_count": 47,
     "metadata": {},
     "output_type": "execute_result"
    }
   ],
   "source": [
    "Mat"
   ]
  },
  {
   "cell_type": "code",
   "execution_count": 32,
   "metadata": {
    "collapsed": false
   },
   "outputs": [],
   "source": [
    "def trtData(self,actual, test):\n",
    "    self.flood=flood\n",
    "    self.test=test\n",
    "    F_F=0\n",
    "    F_N=0\n",
    "    F_fi=0\n",
    "    N_F =0\n",
    "    N_N =0\n",
    "    N_fi=0\n",
    "    Fi_F=0\n",
    "    Fi_N=0\n",
    "    Fi_fi=0\n",
    "    \n",
    "    for i in range(len(actual)):\n",
    "        if actual[i]==test[i]:\n",
    "            if actual[i]==0:\n",
    "                N_N += 1\n",
    "            elif actual[i]==1:\n",
    "                F_F += 1\n",
    "            else:\n",
    "                Fi_fi += 1\n",
    "        else:\n",
    "            if actual[i]==0:\n",
    "                if test[i]==1:\n",
    "                    N_F += 1\n",
    "                else:\n",
    "                    N_fi+= 1\n",
    "            elif actual[i]==1:\n",
    "                if test[i]==0:\n",
    "                    F_N +=1\n",
    "                else:\n",
    "                    F_fi +=1 \n",
    "            else:\n",
    "                if test[i]==1:\n",
    "                    Fi_F +=1\n",
    "                else:\n",
    "                    Fi_N +=1\n",
    "    LIST= [F_F,\n",
    "           F_N,\n",
    "           F_fi,\n",
    "           N_F,\n",
    "           N_N,\n",
    "           N_fi,\n",
    "           Fi_F,\n",
    "           Fi_N,\n",
    "           Fi_fi]\n",
    "    C_matrix = np.array(LIST).reshape(3,3)\n",
    "    return C_matrix\n",
    "  "
   ]
  },
  {
   "cell_type": "code",
   "execution_count": 30,
   "metadata": {
    "collapsed": false
   },
   "outputs": [
    {
     "data": {
      "text/plain": [
       "4"
      ]
     },
     "execution_count": 30,
     "metadata": {},
     "output_type": "execute_result"
    }
   ],
   "source": [
    "\n",
    "import numpy as np\n",
    "\n",
    "LIST= [1,\n",
    "       2,\n",
    "       3,\n",
    "       4,\n",
    "       5,\n",
    "       5,\n",
    "       5,\n",
    "       5,\n",
    "       6]\n",
    "L = np.array(LIST).reshape(3,3)\n",
    "L[1][0]\n",
    "\n"
   ]
  },
  {
   "cell_type": "code",
   "execution_count": 22,
   "metadata": {
    "collapsed": false
   },
   "outputs": [
    {
     "data": {
      "text/plain": [
       "6792000"
      ]
     },
     "execution_count": 22,
     "metadata": {},
     "output_type": "execute_result"
    }
   ],
   "source": [
    "import pandas as pd\n",
    "from osgeo import gdal\n",
    "\n",
    "ds = gdal.Open(\"/home/faizan/Desktop/full/A2014257.evi.tif\", gdal.GA_ReadOnly)\n",
    "band = ds.GetRasterBand(1)\n",
    "cols =ds.RasterXSize\n",
    "rows =ds.RasterYSize\n",
    "array = band.ReadAsArray(0, 0, cols, rows)\n",
    "array = array.reshape(cols * rows)\n",
    "len(array)"
   ]
  },
  {
   "cell_type": "code",
   "execution_count": 22,
   "metadata": {
    "collapsed": false
   },
   "outputs": [],
   "source": []
  },
  {
   "cell_type": "code",
   "execution_count": 1,
   "metadata": {
    "collapsed": false
   },
   "outputs": [],
   "source": [
    "import random\n",
    "import time\n",
    "import sys\n",
    "from multiprocessing import Pool\n",
    "random.seed()\n",
    "def genList (size):\n",
    "    randomList = []\n",
    "     \n",
    "    #initialize random list with values between 0 and 100\n",
    "    for i in range(size):\n",
    "        randomList.append(random.randint(0,10))\n",
    "         \n",
    "    return randomList\n",
    "#return the sum of all elements in the list\n",
    "#This is the same as \"return sum(inList)\" but in long form for readability and emphasis\n",
    "def sumList(inList):\n",
    "    finalSum = 0\n",
    "     \n",
    "    #iterate over all values in the list, and calculate the cummulative sum\n",
    "    for value in inList:\n",
    "        finalSum = finalSum + value\n",
    "    return finalSum\n",
    "def doWork(N):\n",
    "    #create a random list of N integers\n",
    "    myList = genList (N)\n",
    "    finalSum = sumList(myList)\n",
    "    return finalSum\n",
    "if __name__ == '__main__':\n",
    "    if len(sys.argv) == 2 and sys.argv[1].isdigit():\n",
    "        N = int(sys.argv[1])\n",
    "        #mark the start time\n",
    "        startTime = time.time()\n",
    "         \n",
    "        #create a process Pool with 4 processes\n",
    "        pool = Pool(processes=4)\n",
    "         \n",
    "        #map doWork to availble Pool processes\n",
    "        results = pool.map(doWork, (N/4,N/4,N/4,N/4))\n",
    "         \n",
    "        #sum the partial results to get the final result\n",
    "        finalSum = sumList(results)\n",
    "                 \n",
    "        #mark the end time\n",
    "        endTime = time.time()\n",
    "        #calculate the total time it took to complete the work\n",
    "        workTime =  endTime - startTime\n",
    "         \n",
    "        #print results\n",
    "        print \"The job took \" + str(workTime) + \" seconds to complete\"\n",
    "        print \"The final sum was: \" + str(finalSum)\n",
    "    else:\n",
    "        exit(-1)"
   ]
  },
  {
   "cell_type": "code",
   "execution_count": 1,
   "metadata": {
    "collapsed": false
   },
   "outputs": [
    {
     "name": "stdout",
     "output_type": "stream",
     "text": [
      "4\n"
     ]
    }
   ],
   "source": [
    "n=2 \n",
    "print n*2"
   ]
  },
  {
   "cell_type": "code",
   "execution_count": 1,
   "metadata": {
    "collapsed": false
   },
   "outputs": [],
   "source": [
    "import random\n",
    "import time\n",
    "import sys\n",
    "from multiprocessing import Process, Queue\n",
    "random.seed()\n",
    "def genList (size):\n",
    "    randomList = []\n",
    "     \n",
    "    #initialize random list with values between 0 and 100\n",
    "    for i in range(size):\n",
    "        randomList.append(random.randint(0,10))\n",
    "         \n",
    "    return randomList\n",
    "#return the sum of all elements in the list\n",
    "#This is the same as \"return sum(inList)\" but in long form for readability and emphasis\n",
    "def sumList(inList):\n",
    "    finalSum = 0\n",
    "     \n",
    "    #iterate over all values in the list, and calculate the cummulative sum\n",
    "    for value in inList:\n",
    "        finalSum = finalSum + value\n",
    "    return finalSum\n",
    "def doWork(N,q):\n",
    "    #create a random list of N integers\n",
    "    myList = genList (N)\n",
    "    finalSum = sumList(myList)\n",
    "    #put the result in the Queue to return the the calling process\n",
    "    q.put(finalSum)\n",
    "if __name__ == '__main__':\n",
    "    if len(sys.argv) == 2 and sys.argv[1].isdigit():\n",
    "        N = int(sys.argv[1])\n",
    "        #mark the start time\n",
    "        startTime = time.time()\n",
    "        #create a Queue to share results\n",
    "        q = Queue()\n",
    "        #create 4 sub-processes to do the work\n",
    "        p1 = Process(target=doWork, args=(N/4,q))\n",
    "        p1.start()\n",
    "        p2 = Process(target=doWork, args=(N/4,q))\n",
    "        p2.start()\n",
    "        p3 = Process(target=doWork, args=(N/4,q))\n",
    "        p3.start()\n",
    "        p4 = Process(target=doWork, args=(N/4,q))\n",
    "        p4.start()\n",
    "         \n",
    "        results = []\n",
    "        #grab 4 values from the queue, one for each process\n",
    "        for i in range(4):\n",
    "            #set block=True to block until we get a result\n",
    "            results.append(q.get(True))\n",
    "         \n",
    "        #sum the partial results to get the final result\n",
    "        finalSum = sumList(results)\n",
    "         \n",
    "        p1.join()\n",
    "        p2.join()\n",
    "        p3.join()\n",
    "        p4.join()\n",
    "                 \n",
    "        #mark the end time\n",
    "        endTime = time.time()\n",
    "        #calculate the total time it took to complete the work\n",
    "        workTime =  endTime - startTime\n",
    "         \n",
    "        #print results\n",
    "        print \"The job took \" + str(workTime) + \" seconds to complete\"\n",
    "        print \"The final sum was: \" + str(finalSum)\n",
    "    else:\n",
    "        exit(-1)"
   ]
  },
  {
   "cell_type": "code",
   "execution_count": null,
   "metadata": {
    "collapsed": false
   },
   "outputs": [],
   "source": []
  }
 ],
 "metadata": {
  "kernelspec": {
   "display_name": "Python 2",
   "language": "python",
   "name": "python2"
  },
  "language_info": {
   "codemirror_mode": {
    "name": "ipython",
    "version": 2
   },
   "file_extension": ".py",
   "mimetype": "text/x-python",
   "name": "python",
   "nbconvert_exporter": "python",
   "pygments_lexer": "ipython2",
   "version": "2.7.6"
  }
 },
 "nbformat": 4,
 "nbformat_minor": 0
}
