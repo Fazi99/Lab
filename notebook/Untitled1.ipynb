{
 "metadata": {
  "name": "",
  "signature": "sha256:8f9b98e7a23acc7722db20357fb20390a5fc04b8258f93f566b610a698fa3bec"
 },
 "nbformat": 3,
 "nbformat_minor": 0,
 "worksheets": [
  {
   "cells": [
    {
     "cell_type": "code",
     "collapsed": false,
     "input": [
      "import cv2\n",
      "%matplotlib inline\n",
      "import numpy\n",
      "\n",
      "#---------------------------------------------------------------------\n",
      "# functions\n",
      "#---------------------------------------------------------------------\n",
      "def enhance_image(input_image):\n",
      "    my_im = input_image.copy()\n",
      "    my_im = wiener(my_im)\n",
      "    return my_im\n",
      "\n",
      "#---------------------------------------------------------------------\n",
      "# Main\n",
      "#---------------------------------------------------------------------\n",
      "filename=\"/home/faizan/USA_data/PALSAR/data/IMG-HH-ALPSRP238450540-H1.tif\"\n",
      "\n",
      "im=cv2.imread(filename)\n",
      "gray_im = cv2.cvtColor(im, cv2.COLOR_BGR2GRAY)\n",
      "\n",
      "enhanced_im = cv2.medianBlur(gray_im,5)\n",
      "#cv2.imwrite(\"/home/faizan/enh1.tif\", enhanced_im)\n",
      "#enhanced_im=gray_im\n",
      "#enhanced_im.astype(numpy.uint8)\n",
      "enhanced_im = numpy.array(enhanced_im, numpy.uint8)\n",
      "#print enhanced_im\n",
      "# this fails\n",
      "#ret,thresh = cv2.threshold(imgray,self.t1,225, cv2.THRESH_BINARY)\n",
      "thresh, bw_im = cv2.threshold(enhanced_im, 0, 255, cv2.THRESH_OTSU)\n",
      "\n",
      "#cv2.imshow('Black and White',bw_im)\n",
      "cv2.imwrite(\"/home/faizan/bw6.tif\", bw_im)\n"
     ],
     "language": "python",
     "metadata": {},
     "outputs": [
      {
       "metadata": {},
       "output_type": "pyout",
       "prompt_number": 5,
       "text": [
        "True"
       ]
      }
     ],
     "prompt_number": 5
    },
    {
     "cell_type": "code",
     "collapsed": false,
     "input": [
      "\n",
      "filename=\"/home/faizan/USA_data/PALSAR/data/IMG-HH-ALPSRP238450540-H1.tif\"\n",
      "im=cv2.imread(filename)\n",
      "gray_im = cv2.cvtColor(im, cv2.COLOR_BGR2GRAY)\n",
      "enhanced_im=cv2.medianBlur(gray_im,5)"
     ],
     "language": "python",
     "metadata": {},
     "outputs": []
    }
   ],
   "metadata": {}
  }
 ]
}